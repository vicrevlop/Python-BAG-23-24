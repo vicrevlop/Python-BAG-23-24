{
 "cells": [
  {
   "cell_type": "markdown",
   "id": "a3fd0657",
   "metadata": {},
   "source": [
    "## Ejercicio 1: Recopilación de datos. (1p)\n",
    "\n",
    "Se deben recopilar más de 5000 tweets en inglés que puedan tener un sentimiento positivo, \n",
    "negativo o neutro. Procurar mantener en la medida de lo posible una proporción equilibrada. Para la\n",
    "recopilación de los datos se puede hacer de forma manual (no recomendable) o usar un dataset de \n",
    "tweets de la base de datos Kaggle (OJO! Que el texto no esté ya pre-procesado). Los tweets \n",
    "recopilados se deben almacenar en un archivo CSV que se debe leer con pandas. Muestra en el \n",
    "notebook las primeras 5 filas de la tabla leída."
   ]
  },
  {
   "cell_type": "code",
   "execution_count": 1,
   "id": "a7b43573",
   "metadata": {},
   "outputs": [],
   "source": [
    "#Se cargan todas las librerías que vamos a usar\n",
    "\n",
    "import pandas as pd\n",
    "import numpy as np\n",
    "from sklearn.model_selection import train_test_split\n",
    "from sklearn.feature_extraction.text import CountVectorizer\n",
    "from sklearn.naive_bayes import MultinomialNB\n",
    "from sklearn.metrics import accuracy_score, classification_report, confusion_matrix\n",
    "from sklearn.pipeline import make_pipeline\n",
    "\n",
    "import nltk\n",
    "from nltk.corpus import stopwords\n",
    "from nltk.stem import PorterStemmer\n",
    "from nltk.tokenize import TweetTokenizer\n",
    "import re\n",
    "from nltk.stem import SnowballStemmer\n",
    "from textblob import TextBlob\n"
   ]
  },
  {
   "cell_type": "code",
   "execution_count": 6,
   "id": "e370783e",
   "metadata": {},
   "outputs": [
    {
     "data": {
      "text/plain": [
       "0                  @VirginAmerica What @dhepburn said.\n",
       "1    @VirginAmerica plus you've added commercials t...\n",
       "2    @VirginAmerica I didn't today... Must mean I n...\n",
       "3    @VirginAmerica it's really aggressive to blast...\n",
       "4    @VirginAmerica and it's a really big bad thing...\n",
       "Name: text, dtype: object"
      ]
     },
     "execution_count": 6,
     "metadata": {},
     "output_type": "execute_result"
    }
   ],
   "source": [
    "tweets = pd.read_csv('Tweets.csv')\n",
    "tweets=tweets[\"text\"]\n",
    "tweets.head(5)\n"
   ]
  },
  {
   "cell_type": "code",
   "execution_count": 7,
   "id": "8f7c4544",
   "metadata": {},
   "outputs": [
    {
     "data": {
      "text/plain": [
       "0                   @VirginAmerica What @dhepburn said.\n",
       "1     @VirginAmerica plus you've added commercials t...\n",
       "2     @VirginAmerica I didn't today... Must mean I n...\n",
       "3     @VirginAmerica it's really aggressive to blast...\n",
       "4     @VirginAmerica and it's a really big bad thing...\n",
       "5     @VirginAmerica seriously would pay $30 a fligh...\n",
       "6     @VirginAmerica yes, nearly every time I fly VX...\n",
       "7     @VirginAmerica Really missed a prime opportuni...\n",
       "8       @virginamerica Well, I didn't…but NOW I DO! :-D\n",
       "9     @VirginAmerica it was amazing, and arrived an ...\n",
       "10    @VirginAmerica did you know that suicide is th...\n",
       "11    @VirginAmerica I &lt;3 pretty graphics. so muc...\n",
       "12    @VirginAmerica This is such a great deal! Alre...\n",
       "13    @VirginAmerica @virginmedia I'm flying your #f...\n",
       "14                               @VirginAmerica Thanks!\n",
       "Name: text, dtype: object"
      ]
     },
     "execution_count": 7,
     "metadata": {},
     "output_type": "execute_result"
    }
   ],
   "source": [
    "tweets.head(15)"
   ]
  },
  {
   "cell_type": "code",
   "execution_count": null,
   "id": "1ebf6495",
   "metadata": {},
   "outputs": [],
   "source": [
    "# Para el ejercicio debemos quedarnos con la columna \"text\".\n"
   ]
  },
  {
   "cell_type": "markdown",
   "id": "9e3444d2",
   "metadata": {},
   "source": [
    "## Ejercicio 2: Limpieza del texto, eliminar las palabras que no aportan información. (2p)\n",
    "\n",
    "Crear una función limpiar_texto que toma un dataset como entrada y realiza una serie de \n",
    "pasos de preprocesamiento para limpiar y estructurar el texto de manera que sea más adecuado para \n",
    "tareas de procesamiento de lenguaje natural (NLP). \n",
    "Para cada línea de texto del data set, la función debe:\n",
    "* Eliminar menciones, hashtags y URLs del texto. Pista: la función re.sub() puede ser útil.\n",
    "* Convertir el texto en minúscula.\n",
    "* Separa las palabras dentro del tweet como elementos de una lista. A este proceso se le llama tokenización, investiga cómo hacerlo con la función TweetTokenizer() incluida en NLTK.\n",
    "* Para cada una de las palabras en esa lista generada:\n",
    "    * Eliminar las palabras comunes y poco informativas (conocidas como stop words). Usa la recopilación de stop words que ya existe en NLTK (accede a ellas con stopwords.words() seleccionando inglés como idioma).\n",
    "    * Utilizar técnicas de lematización (stemming). Investiga qué son y usa el modelo SnowballStemmer() que ya incluye NLTK para stemming.\n",
    "* Transformar la lista final en una cadena de caracteres de nuevo. Cada palabra debe estar separada por un espacio y ese texto debe sustituir al original en la tabla del dataset."
   ]
  },
  {
   "cell_type": "code",
   "execution_count": 8,
   "id": "6ed7818e",
   "metadata": {},
   "outputs": [],
   "source": [
    "def limpiar_texto(dataset):\n",
    "    for n in range(0,len(dataset)-1):\n",
    "        texto_limpio = re.sub(r\"@\\w+|#\\w+|https?://\\S+|www\\.\\S+|[\\U0001F600-\\U0001F64F\\U0001F300-\\U0001F5FF\\U0001F680-\\U0001F6FF\\U0001F700-\\U0001F77F\\U0001F780-\\U0001F7FF\\U0001F800-\\U0001F8FF\\U0001F900-\\U0001F9FF\\U0001FA00-\\U0001FA6F\\U0001FA70-\\U0001FAFF\\U00002702-\\U000027B0\\U000024C2-\\U0001F251]+\",\"\",dataset[n])\n",
    "        texto_minusculas = texto_limpio.lower()\n",
    "        tokenizer = TweetTokenizer()\n",
    "        texto_separado = tokenizer.tokenize(texto_minusculas)\n",
    "        \n",
    "        stop_words = set(stopwords.words('english'))\n",
    "        texto_filtrado = []\n",
    "        for palabra in texto_separado:\n",
    "            if palabra not in stop_words:\n",
    "                texto_filtrado.append(palabra)\n",
    "            \n",
    "            lematizacion = SnowballStemmer(\"english\")\n",
    "            lexemas = [lematizacion.stem(palabra) for palabra in texto_filtrado]\n",
    "        \n",
    "        texto_final = \" \".join(lexemas)\n",
    "        dataset[n]=texto_final\n",
    "    \n",
    "    return dataset\n",
    "                \n",
    "            "
   ]
  },
  {
   "cell_type": "code",
   "execution_count": 9,
   "id": "095856f4",
   "metadata": {},
   "outputs": [
    {
     "data": {
      "text/plain": [
       "0                                                   said .\n",
       "1                      plus ad commerci experi ... tacki .\n",
       "2               today ... must mean need take anoth trip !\n",
       "3        realli aggress blast obnoxi \" entertain \" gues...\n",
       "4                                     realli big bad thing\n",
       "                               ...                        \n",
       "14635                    thank got differ flight chicago .\n",
       "14636    leav 20 minut late flight . warn communic 15 m...\n",
       "14637                          pleas bring american airlin\n",
       "14638    money , chang flight , answer phone ! suggest ...\n",
       "14639    @AmericanAir we have 8 ppl so we need 2 know h...\n",
       "Name: text, Length: 14640, dtype: object"
      ]
     },
     "execution_count": 9,
     "metadata": {},
     "output_type": "execute_result"
    }
   ],
   "source": [
    "limpiar_texto(tweets)"
   ]
  },
  {
   "cell_type": "markdown",
   "id": "a154c08b",
   "metadata": {},
   "source": [
    "## Ejercicio3: Etiquetado de datos con herramientas ya existentes. (2p)\n",
    "El objetivo principal de esta función es asignar la categoría de sentimiento correspondiente usando modelos existentes como TextBlob. TextBlob asigna una puntuación de polaridad al texto, donde valores positivos indican sentimientos positivos y valores negativos indican sentimientos negativos. La intención del proyecto es usar los modelos ya existentes para crear el dataset de entrenamiento necesario para entrenar nuestro propio modelo e intentar que funcione mejor que los ya existentes. Define una función llamada clasificador que toma el dataset con el texto procesado y limpio como entrada. El resultado de este proceso debe almacenarse en un archivo CSV con dos columnas: una para la frase o texto y otra para la etiqueta correspondiente.\n",
    "* Para cada línea de texto del data set, la función debe:\n",
    "    * Utilizar el modelo TextBlob para realizar un análisis de sentimiento. Investiga cómo hacerlo.\n",
    "    * En función de la polaridad calculada, clasificar el sentimiento en categorías específicas. Las categorías deben incluir \"Contento\", \"Muy feliz\", \"Neutro\", \"Molesto\" y \"Hater\".\n",
    "* Finalmente, guardar los resultados como una columna nueva en el dataset."
   ]
  },
  {
   "cell_type": "code",
   "execution_count": 92,
   "id": "6e28113d",
   "metadata": {},
   "outputs": [],
   "source": [
    "def clasificador(data):\n",
    "    categorias = []\n",
    "    for fila in data:\n",
    "        blob = TextBlob(fila)\n",
    "        polaridad = blob.sentiment.polarity\n",
    "        if polaridad == 0:\n",
    "            categoria = \"Neutro\"\n",
    "        elif polaridad > 0 and polaridad < 0.25:\n",
    "            categoria = \"Contento\"\n",
    "        elif polaridad >= 0.25:\n",
    "            categoria = \"Muy feliz\"\n",
    "        elif polaridad < 0 and polaridad > -0.4:\n",
    "            categoria = \"Molesto\"\n",
    "        elif polaridad <= -0.4:\n",
    "            categoria = \"Hater\"\n",
    "        \n",
    "        categorias.append(categoria)\n",
    "    #print(categorias)\n",
    "    data_frame = pd.DataFrame(data)\n",
    "    data_frame[\"Categoria\"] = categorias\n",
    "    \n",
    "    return data_frame\n",
    "    \n",
    "        \n",
    "        "
   ]
  },
  {
   "cell_type": "code",
   "execution_count": 16,
   "id": "c27999a2",
   "metadata": {},
   "outputs": [],
   "source": [
    "tweets = clasificador(tweets)"
   ]
  },
  {
   "cell_type": "code",
   "execution_count": 17,
   "id": "5c9a2d4f",
   "metadata": {},
   "outputs": [
    {
     "data": {
      "text/html": [
       "<div>\n",
       "<style scoped>\n",
       "    .dataframe tbody tr th:only-of-type {\n",
       "        vertical-align: middle;\n",
       "    }\n",
       "\n",
       "    .dataframe tbody tr th {\n",
       "        vertical-align: top;\n",
       "    }\n",
       "\n",
       "    .dataframe thead th {\n",
       "        text-align: right;\n",
       "    }\n",
       "</style>\n",
       "<table border=\"1\" class=\"dataframe\">\n",
       "  <thead>\n",
       "    <tr style=\"text-align: right;\">\n",
       "      <th></th>\n",
       "      <th>text</th>\n",
       "      <th>Categoria</th>\n",
       "    </tr>\n",
       "  </thead>\n",
       "  <tbody>\n",
       "    <tr>\n",
       "      <th>0</th>\n",
       "      <td>said .</td>\n",
       "      <td>Neutro</td>\n",
       "    </tr>\n",
       "    <tr>\n",
       "      <th>1</th>\n",
       "      <td>plus ad commerci experi ... tacki .</td>\n",
       "      <td>Neutro</td>\n",
       "    </tr>\n",
       "    <tr>\n",
       "      <th>2</th>\n",
       "      <td>today ... must mean need take anoth trip !</td>\n",
       "      <td>Molesto</td>\n",
       "    </tr>\n",
       "    <tr>\n",
       "      <th>3</th>\n",
       "      <td>realli aggress blast obnoxi \" entertain \" gues...</td>\n",
       "      <td>Neutro</td>\n",
       "    </tr>\n",
       "    <tr>\n",
       "      <th>4</th>\n",
       "      <td>realli big bad thing</td>\n",
       "      <td>Molesto</td>\n",
       "    </tr>\n",
       "  </tbody>\n",
       "</table>\n",
       "</div>"
      ],
      "text/plain": [
       "                                                text Categoria\n",
       "0                                             said .    Neutro\n",
       "1                plus ad commerci experi ... tacki .    Neutro\n",
       "2         today ... must mean need take anoth trip !   Molesto\n",
       "3  realli aggress blast obnoxi \" entertain \" gues...    Neutro\n",
       "4                               realli big bad thing   Molesto"
      ]
     },
     "execution_count": 17,
     "metadata": {},
     "output_type": "execute_result"
    }
   ],
   "source": [
    "tweets.head(5)"
   ]
  },
  {
   "cell_type": "markdown",
   "id": "af5e66e7",
   "metadata": {},
   "source": [
    "## Ejercicio4: Codificación de los atributos y objetivos. (1p)\n",
    "Investiga cómo funciona CountVectorizer () e investiga si existe otro codificador que se ajuste mejor a tu tarea. Una vez codificado, separa el conjunto de entrenamiento del conjunto de prueba."
   ]
  },
  {
   "cell_type": "code",
   "execution_count": 34,
   "id": "cdd9b5f2",
   "metadata": {},
   "outputs": [],
   "source": [
    "atributos = tweets[\"text\"]\n",
    "objetivo = tweets[\"Categoria\"]\n",
    "\n",
    "vectorizer = CountVectorizer()\n",
    "\n",
    "atributos_codificados = vectorizer.fit_transform(atributos)"
   ]
  },
  {
   "cell_type": "code",
   "execution_count": 35,
   "id": "8a42179b",
   "metadata": {},
   "outputs": [],
   "source": [
    "#Separa conjunto de entrenamiento y de prueba\n",
    "(atributos_entrenamiento, atributos_prueba, objetivo_entrenamiento, objetivo_prueba) = train_test_split(atributos_codificados, objetivo, random_state=12345, test_size=0.2, stratify=objetivo)"
   ]
  },
  {
   "cell_type": "markdown",
   "id": "7fe680ee",
   "metadata": {},
   "source": [
    "## Ejercicio5: Entrenamiento del modelo. (2p)\n",
    "Entrena un modelo Naive Bayes y otro de tu elección. Investiga sobre qué versiones de cada modelo es más adecuada para la tarea a realizar. Calcula el porcentaje de acierto del modelo entrenado. Si el porcentaje de acierto está por debajo del 70%, vuelve atrás e intenta mejorar este resultado."
   ]
  },
  {
   "cell_type": "code",
   "execution_count": 41,
   "id": "6a2cabe1",
   "metadata": {},
   "outputs": [
    {
     "name": "stdout",
     "output_type": "stream",
     "text": [
      "La precisión del modelo Naive Bayes desarrollado es: 75.78551912568307 %\n"
     ]
    }
   ],
   "source": [
    "#Modelo Naive Bayes\n",
    "naive_bayes = MultinomialNB(alpha=1.0)  #alpha es el parámetro de suavizado\n",
    "naive_bayes.fit(atributos_entrenamiento, objetivo_entrenamiento)\n",
    "\n",
    "#Realiza las predicciones con el conjunto de prueba\n",
    "predicciones_nb = naive_bayes.predict(atributos_prueba)\n",
    "#Calcular la precisión del modelo\n",
    "precision_nb = naive_bayes.score(atributos_prueba, objetivo_prueba)\n",
    "print(\"La precisión del modelo Naive Bayes desarrollado es:\", precision_nb*100, \"%\")"
   ]
  },
  {
   "cell_type": "code",
   "execution_count": 42,
   "id": "ef8b3cde",
   "metadata": {},
   "outputs": [
    {
     "name": "stdout",
     "output_type": "stream",
     "text": [
      "La precisión del modelo de regresión logística desarrollado es: 86.09972677595628 %\n"
     ]
    }
   ],
   "source": [
    "#Modelo de mi elección: con toda probabilidad el modelo de regresión logística -> 'LogisticRegression'\n",
    "from sklearn.linear_model import LogisticRegression\n",
    "from sklearn import preprocessing\n",
    "\n",
    "label_encoder = preprocessing.LabelEncoder()\n",
    "objetivo_codificado = label_encoder.fit_transform(objetivo)\n",
    "\n",
    "regresion_logistica = LogisticRegression(max_iter=1000, multi_class='multinomial', solver='lbfgs')\n",
    "regresion_logistica.fit(atributos_entrenamiento, objetivo_entrenamiento)\n",
    "\n",
    "#Realiza las predicciones con el conjunto de prueba\n",
    "predicciones_relog = regresion_logistica.predict(atributos_prueba)\n",
    "#Calcular la precisión del modelo\n",
    "precision_relog = regresion_logistica.score(atributos_prueba, objetivo_prueba)\n",
    "print(\"La precisión del modelo de regresión logística desarrollado es:\", precision_relog*100, \"%\")"
   ]
  },
  {
   "cell_type": "markdown",
   "id": "5925eaed",
   "metadata": {},
   "source": [
    "## Ejercicio6: Usar el modelo entrenado (2p)\n",
    "Se deben recopilar los últimos 30 tweets de dos personas con influencia en redes sociales de forma manual, alguna conocida por su mala fama como “hater” y otra con una valoración social más positiva. Utilizar el modelo desarrollado para predecir el sentimiento de cada tweet. Los resultados para cada persona deben ser ilustrados en un pie chart (diagrama de sectores) que muestre el estado de ánimo (el porcentaje de tweets clasificados con cada etiqueta)."
   ]
  },
  {
   "cell_type": "markdown",
   "id": "aee47f76",
   "metadata": {},
   "source": [
    "#### 1. Persona de estilo más negativo\n",
    "Para esta tarea, he navegado por X (Twitter) y he dado con una escritora-activista australiana llamada Alexandra Marshall (@ellymelly) cuyos tweets son la mayoría opiniones negativas o contra un tema concreto. He recopilado 30 de sus últimos tweets (obviando alguno que sólo contenía emoticonos) en un archivo CSV de nombre \"Tweets_hater_examen\", y he aplicado el modelo de detección de sentimientos generado sobre ellos. He aquí el resultado:"
   ]
  },
  {
   "cell_type": "code",
   "execution_count": 93,
   "id": "bdb9860b",
   "metadata": {
    "scrolled": false
   },
   "outputs": [
    {
     "data": {
      "text/plain": [
       "0     The Labor Party are copy-pasting a Morrison-er...\n",
       "1     It's not a coincidence that the people who wan...\n",
       "2     From the Daily Mail. Everything we watch is so...\n",
       "3     50 years of energy saving devices marketed und...\n",
       "4     The #Left can't get their grievance stories st...\n",
       "5     20 years ago, companies were not allowed to as...\n",
       "6     Social Justice politics is not meant to make s...\n",
       "7     The Left want all the 'white colonisers' to 'g...\n",
       "8     It is sensible to be 'phobic' about a dangerou...\n",
       "9     People are getting 'bored' of #ClimateChange, ...\n",
       "10    Local councils: Ban Australia Day. Politicians...\n",
       "11    I'm not 'anti-vaxx'. I am anti 'being forced t...\n",
       "12    Farmers can stage protests in Europe against t...\n",
       "13    So many people wrongly believe that #renewable...\n",
       "14    Victimhood is the preferred career path for th...\n",
       "15    Our political leaders are motivated by holding...\n",
       "16    What is this modern obsession with printing fo...\n",
       "17    Citizen spending did not cause inflation. GOVE...\n",
       "18    Activism doesn't mean anything anymore. The ac...\n",
       "19            One week into 2024 and still feeling like\n",
       "20    The reason we'll never get a proper Royal Comm...\n",
       "21    @LeilaniDowding @Ofcom It's a total miracle we...\n",
       "22    Australia is fighting to stop wind farms destr...\n",
       "23    \"Evidence is mounting regarding the true origi...\n",
       "24    Pauline Hanson's greatest crime was ... to acc...\n",
       "25    Indigenous group Navajo Nation tried to stop a...\n",
       "26                                       Australia too.\n",
       "27    Looks like fun. But also, definitely need to b...\n",
       "28      Angela Merkel and her vanity migration project.\n",
       "29    It is not a conspiracy to say that celebrities...\n",
       "Name: Texto, dtype: object"
      ]
     },
     "execution_count": 93,
     "metadata": {},
     "output_type": "execute_result"
    }
   ],
   "source": [
    "hater = pd.read_csv('Tweets_hater_examen.csv', delimiter=\";\")\n",
    "hater = hater[\"Texto\"]\n",
    "hater"
   ]
  },
  {
   "cell_type": "code",
   "execution_count": 94,
   "id": "1748e6b2",
   "metadata": {
    "scrolled": false
   },
   "outputs": [
    {
     "data": {
      "text/plain": [
       "0     labor parti copy-past morrison-era censorship ...\n",
       "1     coincid peopl want live smart citi think freed...\n",
       "2     daili mail . everyth watch fake . lisa re-engi...\n",
       "3     50 year energi save devic market messag : use ...\n",
       "4     can't get grievanc stori straight . colonis ev...\n",
       "5     20 year ago , compani allow ask race , gender ...\n",
       "6     social justic polit meant make sens . that who...\n",
       "7     left want ' white colonis ' ' go back came ' w...\n",
       "8                   sensibl ' phobic ' danger ideolog .\n",
       "9     peopl get ' bore ' , say peter ridd live ' cli...\n",
       "10    local council : ban australia day . politician...\n",
       "11    i'm ' anti-vaxx ' . anti ' forc particip high-...\n",
       "12    farmer stage protest europ abl converg citi ce...\n",
       "13    mani peopl wrong believ energi mean ' big hole...\n",
       "14          victimhood prefer career path achiev noth .\n",
       "15    polit leader motiv hold power make money . pur...\n",
       "16          modern obsess print food instead grow ? ? ?\n",
       "17    citizen spend caus inflat . govern spend caus ...\n",
       "18    activ mean anyth anymor . activist class pest ...\n",
       "19                        one week 2024 still feel like\n",
       "20    reason we'll never get proper royal commiss si...\n",
       "21         total miracl surviv ! anyon tri studi us ? ?\n",
       "22    australia fight stop wind farm destroy nativ l...\n",
       "23    \" evid mount regard true origin excess death ....\n",
       "24    paulin hanson greatest crime ... accur predict...\n",
       "25    indigen group navajo nation tri stop recent ' ...\n",
       "26                                          australia .\n",
       "27    look like fun . also , definit need pack bubbl...\n",
       "28                angela merkel vaniti migrat project .\n",
       "29    It is not a conspiracy to say that celebrities...\n",
       "Name: Texto, dtype: object"
      ]
     },
     "execution_count": 94,
     "metadata": {},
     "output_type": "execute_result"
    }
   ],
   "source": [
    "limpiar_texto(hater)"
   ]
  },
  {
   "cell_type": "code",
   "execution_count": 95,
   "id": "14f7e944",
   "metadata": {},
   "outputs": [],
   "source": [
    "hater = clasificador(hater)"
   ]
  },
  {
   "cell_type": "code",
   "execution_count": 110,
   "id": "17accf0e",
   "metadata": {},
   "outputs": [
    {
     "data": {
      "text/html": [
       "<div>\n",
       "<style scoped>\n",
       "    .dataframe tbody tr th:only-of-type {\n",
       "        vertical-align: middle;\n",
       "    }\n",
       "\n",
       "    .dataframe tbody tr th {\n",
       "        vertical-align: top;\n",
       "    }\n",
       "\n",
       "    .dataframe thead th {\n",
       "        text-align: right;\n",
       "    }\n",
       "</style>\n",
       "<table border=\"1\" class=\"dataframe\">\n",
       "  <thead>\n",
       "    <tr style=\"text-align: right;\">\n",
       "      <th></th>\n",
       "      <th>Texto</th>\n",
       "      <th>Categoria</th>\n",
       "    </tr>\n",
       "  </thead>\n",
       "  <tbody>\n",
       "    <tr>\n",
       "      <th>0</th>\n",
       "      <td>labor parti copy-past morrison-era censorship ...</td>\n",
       "      <td>Molesto</td>\n",
       "    </tr>\n",
       "    <tr>\n",
       "      <th>1</th>\n",
       "      <td>coincid peopl want live smart citi think freed...</td>\n",
       "      <td>Molesto</td>\n",
       "    </tr>\n",
       "    <tr>\n",
       "      <th>2</th>\n",
       "      <td>daili mail . everyth watch fake . lisa re-engi...</td>\n",
       "      <td>Hater</td>\n",
       "    </tr>\n",
       "    <tr>\n",
       "      <th>3</th>\n",
       "      <td>50 year energi save devic market messag : use ...</td>\n",
       "      <td>Molesto</td>\n",
       "    </tr>\n",
       "    <tr>\n",
       "      <th>4</th>\n",
       "      <td>can't get grievanc stori straight . colonis ev...</td>\n",
       "      <td>Hater</td>\n",
       "    </tr>\n",
       "    <tr>\n",
       "      <th>5</th>\n",
       "      <td>20 year ago , compani allow ask race , gender ...</td>\n",
       "      <td>Molesto</td>\n",
       "    </tr>\n",
       "    <tr>\n",
       "      <th>6</th>\n",
       "      <td>social justic polit meant make sens . that who...</td>\n",
       "      <td>Contento</td>\n",
       "    </tr>\n",
       "    <tr>\n",
       "      <th>7</th>\n",
       "      <td>left want ' white colonis ' ' go back came ' w...</td>\n",
       "      <td>Neutro</td>\n",
       "    </tr>\n",
       "    <tr>\n",
       "      <th>8</th>\n",
       "      <td>sensibl ' phobic ' danger ideolog .</td>\n",
       "      <td>Neutro</td>\n",
       "    </tr>\n",
       "    <tr>\n",
       "      <th>9</th>\n",
       "      <td>peopl get ' bore ' , say peter ridd live ' cli...</td>\n",
       "      <td>Contento</td>\n",
       "    </tr>\n",
       "    <tr>\n",
       "      <th>10</th>\n",
       "      <td>local council : ban australia day . politician...</td>\n",
       "      <td>Hater</td>\n",
       "    </tr>\n",
       "    <tr>\n",
       "      <th>11</th>\n",
       "      <td>i'm ' anti-vaxx ' . anti ' forc particip high-...</td>\n",
       "      <td>Contento</td>\n",
       "    </tr>\n",
       "    <tr>\n",
       "      <th>12</th>\n",
       "      <td>farmer stage protest europ abl converg citi ce...</td>\n",
       "      <td>Contento</td>\n",
       "    </tr>\n",
       "    <tr>\n",
       "      <th>13</th>\n",
       "      <td>mani peopl wrong believ energi mean ' big hole...</td>\n",
       "      <td>Molesto</td>\n",
       "    </tr>\n",
       "    <tr>\n",
       "      <th>14</th>\n",
       "      <td>victimhood prefer career path achiev noth .</td>\n",
       "      <td>Neutro</td>\n",
       "    </tr>\n",
       "    <tr>\n",
       "      <th>15</th>\n",
       "      <td>polit leader motiv hold power make money . pur...</td>\n",
       "      <td>Contento</td>\n",
       "    </tr>\n",
       "    <tr>\n",
       "      <th>16</th>\n",
       "      <td>modern obsess print food instead grow ? ? ?</td>\n",
       "      <td>Contento</td>\n",
       "    </tr>\n",
       "    <tr>\n",
       "      <th>17</th>\n",
       "      <td>citizen spend caus inflat . govern spend caus ...</td>\n",
       "      <td>Muy feliz</td>\n",
       "    </tr>\n",
       "    <tr>\n",
       "      <th>18</th>\n",
       "      <td>activ mean anyth anymor . activist class pest ...</td>\n",
       "      <td>Molesto</td>\n",
       "    </tr>\n",
       "    <tr>\n",
       "      <th>19</th>\n",
       "      <td>one week 2024 still feel like</td>\n",
       "      <td>Neutro</td>\n",
       "    </tr>\n",
       "    <tr>\n",
       "      <th>20</th>\n",
       "      <td>reason we'll never get proper royal commiss si...</td>\n",
       "      <td>Contento</td>\n",
       "    </tr>\n",
       "    <tr>\n",
       "      <th>21</th>\n",
       "      <td>total miracl surviv ! anyon tri studi us ? ?</td>\n",
       "      <td>Neutro</td>\n",
       "    </tr>\n",
       "    <tr>\n",
       "      <th>22</th>\n",
       "      <td>australia fight stop wind farm destroy nativ l...</td>\n",
       "      <td>Molesto</td>\n",
       "    </tr>\n",
       "    <tr>\n",
       "      <th>23</th>\n",
       "      <td>\" evid mount regard true origin excess death ....</td>\n",
       "      <td>Molesto</td>\n",
       "    </tr>\n",
       "    <tr>\n",
       "      <th>24</th>\n",
       "      <td>paulin hanson greatest crime ... accur predict...</td>\n",
       "      <td>Contento</td>\n",
       "    </tr>\n",
       "    <tr>\n",
       "      <th>25</th>\n",
       "      <td>indigen group navajo nation tri stop recent ' ...</td>\n",
       "      <td>Contento</td>\n",
       "    </tr>\n",
       "    <tr>\n",
       "      <th>26</th>\n",
       "      <td>australia .</td>\n",
       "      <td>Neutro</td>\n",
       "    </tr>\n",
       "    <tr>\n",
       "      <th>27</th>\n",
       "      <td>look like fun . also , definit need pack bubbl...</td>\n",
       "      <td>Muy feliz</td>\n",
       "    </tr>\n",
       "    <tr>\n",
       "      <th>28</th>\n",
       "      <td>angela merkel vaniti migrat project .</td>\n",
       "      <td>Neutro</td>\n",
       "    </tr>\n",
       "    <tr>\n",
       "      <th>29</th>\n",
       "      <td>It is not a conspiracy to say that celebrities...</td>\n",
       "      <td>Molesto</td>\n",
       "    </tr>\n",
       "  </tbody>\n",
       "</table>\n",
       "</div>"
      ],
      "text/plain": [
       "                                                Texto  Categoria\n",
       "0   labor parti copy-past morrison-era censorship ...    Molesto\n",
       "1   coincid peopl want live smart citi think freed...    Molesto\n",
       "2   daili mail . everyth watch fake . lisa re-engi...      Hater\n",
       "3   50 year energi save devic market messag : use ...    Molesto\n",
       "4   can't get grievanc stori straight . colonis ev...      Hater\n",
       "5   20 year ago , compani allow ask race , gender ...    Molesto\n",
       "6   social justic polit meant make sens . that who...   Contento\n",
       "7   left want ' white colonis ' ' go back came ' w...     Neutro\n",
       "8                 sensibl ' phobic ' danger ideolog .     Neutro\n",
       "9   peopl get ' bore ' , say peter ridd live ' cli...   Contento\n",
       "10  local council : ban australia day . politician...      Hater\n",
       "11  i'm ' anti-vaxx ' . anti ' forc particip high-...   Contento\n",
       "12  farmer stage protest europ abl converg citi ce...   Contento\n",
       "13  mani peopl wrong believ energi mean ' big hole...    Molesto\n",
       "14        victimhood prefer career path achiev noth .     Neutro\n",
       "15  polit leader motiv hold power make money . pur...   Contento\n",
       "16        modern obsess print food instead grow ? ? ?   Contento\n",
       "17  citizen spend caus inflat . govern spend caus ...  Muy feliz\n",
       "18  activ mean anyth anymor . activist class pest ...    Molesto\n",
       "19                      one week 2024 still feel like     Neutro\n",
       "20  reason we'll never get proper royal commiss si...   Contento\n",
       "21       total miracl surviv ! anyon tri studi us ? ?     Neutro\n",
       "22  australia fight stop wind farm destroy nativ l...    Molesto\n",
       "23  \" evid mount regard true origin excess death ....    Molesto\n",
       "24  paulin hanson greatest crime ... accur predict...   Contento\n",
       "25  indigen group navajo nation tri stop recent ' ...   Contento\n",
       "26                                        australia .     Neutro\n",
       "27  look like fun . also , definit need pack bubbl...  Muy feliz\n",
       "28              angela merkel vaniti migrat project .     Neutro\n",
       "29  It is not a conspiracy to say that celebrities...    Molesto"
      ]
     },
     "execution_count": 110,
     "metadata": {},
     "output_type": "execute_result"
    }
   ],
   "source": [
    "hater"
   ]
  },
  {
   "cell_type": "code",
   "execution_count": 123,
   "id": "36f6f3e5",
   "metadata": {},
   "outputs": [
    {
     "name": "stdout",
     "output_type": "stream",
     "text": [
      "[2 2 1 2 1 2 0 4 4 0 1 0 0 2 4 0 0 3 2 4 0 4 2 2 0 0 4 3 4 2]\n"
     ]
    }
   ],
   "source": [
    "print(objetivo_hater_codificado)"
   ]
  },
  {
   "cell_type": "code",
   "execution_count": 113,
   "id": "288c24a6",
   "metadata": {},
   "outputs": [],
   "source": [
    "atributos_hater = hater[\"Texto\"]\n",
    "objetivo_hater = hater[\"Categoria\"]\n",
    "\n",
    "vectorizer = CountVectorizer()\n",
    "label_encoder = preprocessing.LabelEncoder()\n",
    "\n",
    "atributos_hater_codificados = vectorizer.fit_transform(atributos_hater)\n",
    "objetivo_hater_codificado = label_encoder.fit_transform(objetivo_hater)"
   ]
  },
  {
   "cell_type": "code",
   "execution_count": 114,
   "id": "b81b6e31",
   "metadata": {},
   "outputs": [],
   "source": [
    "(atributos_hater_entrenamiento, atributos_hater_prueba, objetivo_hater_entrenamiento, objetivo_hater_prueba) = train_test_split(atributos_hater_codificados, objetivo_hater_codificado, random_state=12345, test_size=0.2, stratify=objetivo_hater_codificado)"
   ]
  },
  {
   "cell_type": "code",
   "execution_count": 115,
   "id": "ce267772",
   "metadata": {},
   "outputs": [
    {
     "name": "stdout",
     "output_type": "stream",
     "text": [
      "[4 4 4 4 4 4]\n"
     ]
    }
   ],
   "source": [
    "#Modelo Naive Bayes\n",
    "nb_hater = MultinomialNB(alpha=1.0)  #alpha es el parámetro de suavizado\n",
    "nb_hater.fit(atributos_hater_entrenamiento, objetivo_hater_entrenamiento)\n",
    "\n",
    "#Realiza las predicciones con el conjunto de prueba\n",
    "predicciones_nb_hater = nb_hater.predict(atributos_hater_prueba)\n",
    "print(predicciones_nb_hater)"
   ]
  },
  {
   "cell_type": "code",
   "execution_count": 116,
   "id": "4ae7eda8",
   "metadata": {},
   "outputs": [
    {
     "name": "stdout",
     "output_type": "stream",
     "text": [
      "[4 4 4 4 4 4]\n"
     ]
    }
   ],
   "source": [
    "#Modelo de mi elección: con toda probabilidad el modelo de regresión logística -> 'LogisticRegression'\n",
    "\n",
    "regresion_logistica = LogisticRegression(max_iter=1000, multi_class='multinomial', solver='lbfgs')\n",
    "regresion_logistica.fit(atributos_hater_entrenamiento, objetivo_hater_entrenamiento)\n",
    "\n",
    "#Realiza las predicciones con el conjunto de prueba\n",
    "predicciones_relog_hater = regresion_logistica.predict(atributos_hater_prueba)\n",
    "print(predicciones_relog_hater)"
   ]
  },
  {
   "cell_type": "code",
   "execution_count": 121,
   "id": "1531c84e",
   "metadata": {},
   "outputs": [
    {
     "ename": "ValueError",
     "evalue": "'label' must be of length 'x'",
     "output_type": "error",
     "traceback": [
      "\u001b[1;31m---------------------------------------------------------------------------\u001b[0m",
      "\u001b[1;31mValueError\u001b[0m                                Traceback (most recent call last)",
      "Cell \u001b[1;32mIn[121], line 3\u001b[0m\n\u001b[0;32m      1\u001b[0m \u001b[38;5;28;01mimport\u001b[39;00m \u001b[38;5;21;01mmatplotlib\u001b[39;00m\u001b[38;5;21;01m.\u001b[39;00m\u001b[38;5;21;01mpyplot\u001b[39;00m \u001b[38;5;28;01mas\u001b[39;00m \u001b[38;5;21;01mplt\u001b[39;00m\n\u001b[1;32m----> 3\u001b[0m plt\u001b[38;5;241m.\u001b[39mpie(predicciones_relog_hater, labels\u001b[38;5;241m=\u001b[39m\u001b[38;5;124m\"\u001b[39m\u001b[38;5;124mNeutro,Contento,Muy feliz,Molesto,Hater\u001b[39m\u001b[38;5;124m\"\u001b[39m , autopct\u001b[38;5;241m=\u001b[39m\u001b[38;5;124m\"\u001b[39m\u001b[38;5;132;01m%1.1f\u001b[39;00m\u001b[38;5;132;01m%%\u001b[39;00m\u001b[38;5;124m\"\u001b[39m, startangle\u001b[38;5;241m=\u001b[39m\u001b[38;5;241m90\u001b[39m)\n\u001b[0;32m      4\u001b[0m plt\u001b[38;5;241m.\u001b[39mtitle(\u001b[38;5;124m\"\u001b[39m\u001b[38;5;124mPredicciones\u001b[39m\u001b[38;5;124m\"\u001b[39m)\n\u001b[0;32m      5\u001b[0m plt\u001b[38;5;241m.\u001b[39mshow()\n",
      "File \u001b[1;32m~\\anaconda3\\Lib\\site-packages\\matplotlib\\pyplot.py:2799\u001b[0m, in \u001b[0;36mpie\u001b[1;34m(x, explode, labels, colors, autopct, pctdistance, shadow, labeldistance, startangle, radius, counterclock, wedgeprops, textprops, center, frame, rotatelabels, normalize, hatch, data)\u001b[0m\n\u001b[0;32m   2792\u001b[0m \u001b[38;5;129m@_copy_docstring_and_deprecators\u001b[39m(Axes\u001b[38;5;241m.\u001b[39mpie)\n\u001b[0;32m   2793\u001b[0m \u001b[38;5;28;01mdef\u001b[39;00m \u001b[38;5;21mpie\u001b[39m(\n\u001b[0;32m   2794\u001b[0m         x, explode\u001b[38;5;241m=\u001b[39m\u001b[38;5;28;01mNone\u001b[39;00m, labels\u001b[38;5;241m=\u001b[39m\u001b[38;5;28;01mNone\u001b[39;00m, colors\u001b[38;5;241m=\u001b[39m\u001b[38;5;28;01mNone\u001b[39;00m, autopct\u001b[38;5;241m=\u001b[39m\u001b[38;5;28;01mNone\u001b[39;00m,\n\u001b[1;32m   (...)\u001b[0m\n\u001b[0;32m   2797\u001b[0m         textprops\u001b[38;5;241m=\u001b[39m\u001b[38;5;28;01mNone\u001b[39;00m, center\u001b[38;5;241m=\u001b[39m(\u001b[38;5;241m0\u001b[39m, \u001b[38;5;241m0\u001b[39m), frame\u001b[38;5;241m=\u001b[39m\u001b[38;5;28;01mFalse\u001b[39;00m,\n\u001b[0;32m   2798\u001b[0m         rotatelabels\u001b[38;5;241m=\u001b[39m\u001b[38;5;28;01mFalse\u001b[39;00m, \u001b[38;5;241m*\u001b[39m, normalize\u001b[38;5;241m=\u001b[39m\u001b[38;5;28;01mTrue\u001b[39;00m, hatch\u001b[38;5;241m=\u001b[39m\u001b[38;5;28;01mNone\u001b[39;00m, data\u001b[38;5;241m=\u001b[39m\u001b[38;5;28;01mNone\u001b[39;00m):\n\u001b[1;32m-> 2799\u001b[0m     \u001b[38;5;28;01mreturn\u001b[39;00m gca()\u001b[38;5;241m.\u001b[39mpie(\n\u001b[0;32m   2800\u001b[0m         x, explode\u001b[38;5;241m=\u001b[39mexplode, labels\u001b[38;5;241m=\u001b[39mlabels, colors\u001b[38;5;241m=\u001b[39mcolors,\n\u001b[0;32m   2801\u001b[0m         autopct\u001b[38;5;241m=\u001b[39mautopct, pctdistance\u001b[38;5;241m=\u001b[39mpctdistance, shadow\u001b[38;5;241m=\u001b[39mshadow,\n\u001b[0;32m   2802\u001b[0m         labeldistance\u001b[38;5;241m=\u001b[39mlabeldistance, startangle\u001b[38;5;241m=\u001b[39mstartangle,\n\u001b[0;32m   2803\u001b[0m         radius\u001b[38;5;241m=\u001b[39mradius, counterclock\u001b[38;5;241m=\u001b[39mcounterclock,\n\u001b[0;32m   2804\u001b[0m         wedgeprops\u001b[38;5;241m=\u001b[39mwedgeprops, textprops\u001b[38;5;241m=\u001b[39mtextprops, center\u001b[38;5;241m=\u001b[39mcenter,\n\u001b[0;32m   2805\u001b[0m         frame\u001b[38;5;241m=\u001b[39mframe, rotatelabels\u001b[38;5;241m=\u001b[39mrotatelabels, normalize\u001b[38;5;241m=\u001b[39mnormalize,\n\u001b[0;32m   2806\u001b[0m         hatch\u001b[38;5;241m=\u001b[39mhatch, \u001b[38;5;241m*\u001b[39m\u001b[38;5;241m*\u001b[39m({\u001b[38;5;124m\"\u001b[39m\u001b[38;5;124mdata\u001b[39m\u001b[38;5;124m\"\u001b[39m: data} \u001b[38;5;28;01mif\u001b[39;00m data \u001b[38;5;129;01mis\u001b[39;00m \u001b[38;5;129;01mnot\u001b[39;00m \u001b[38;5;28;01mNone\u001b[39;00m \u001b[38;5;28;01melse\u001b[39;00m {}))\n",
      "File \u001b[1;32m~\\anaconda3\\Lib\\site-packages\\matplotlib\\__init__.py:1446\u001b[0m, in \u001b[0;36m_preprocess_data.<locals>.inner\u001b[1;34m(ax, data, *args, **kwargs)\u001b[0m\n\u001b[0;32m   1443\u001b[0m \u001b[38;5;129m@functools\u001b[39m\u001b[38;5;241m.\u001b[39mwraps(func)\n\u001b[0;32m   1444\u001b[0m \u001b[38;5;28;01mdef\u001b[39;00m \u001b[38;5;21minner\u001b[39m(ax, \u001b[38;5;241m*\u001b[39margs, data\u001b[38;5;241m=\u001b[39m\u001b[38;5;28;01mNone\u001b[39;00m, \u001b[38;5;241m*\u001b[39m\u001b[38;5;241m*\u001b[39mkwargs):\n\u001b[0;32m   1445\u001b[0m     \u001b[38;5;28;01mif\u001b[39;00m data \u001b[38;5;129;01mis\u001b[39;00m \u001b[38;5;28;01mNone\u001b[39;00m:\n\u001b[1;32m-> 1446\u001b[0m         \u001b[38;5;28;01mreturn\u001b[39;00m func(ax, \u001b[38;5;241m*\u001b[39m\u001b[38;5;28mmap\u001b[39m(sanitize_sequence, args), \u001b[38;5;241m*\u001b[39m\u001b[38;5;241m*\u001b[39mkwargs)\n\u001b[0;32m   1448\u001b[0m     bound \u001b[38;5;241m=\u001b[39m new_sig\u001b[38;5;241m.\u001b[39mbind(ax, \u001b[38;5;241m*\u001b[39margs, \u001b[38;5;241m*\u001b[39m\u001b[38;5;241m*\u001b[39mkwargs)\n\u001b[0;32m   1449\u001b[0m     auto_label \u001b[38;5;241m=\u001b[39m (bound\u001b[38;5;241m.\u001b[39marguments\u001b[38;5;241m.\u001b[39mget(label_namer)\n\u001b[0;32m   1450\u001b[0m                   \u001b[38;5;129;01mor\u001b[39;00m bound\u001b[38;5;241m.\u001b[39mkwargs\u001b[38;5;241m.\u001b[39mget(label_namer))\n",
      "File \u001b[1;32m~\\anaconda3\\Lib\\site-packages\\matplotlib\\axes\\_axes.py:3201\u001b[0m, in \u001b[0;36mAxes.pie\u001b[1;34m(self, x, explode, labels, colors, autopct, pctdistance, shadow, labeldistance, startangle, radius, counterclock, wedgeprops, textprops, center, frame, rotatelabels, normalize, hatch)\u001b[0m\n\u001b[0;32m   3199\u001b[0m     explode \u001b[38;5;241m=\u001b[39m [\u001b[38;5;241m0\u001b[39m] \u001b[38;5;241m*\u001b[39m \u001b[38;5;28mlen\u001b[39m(x)\n\u001b[0;32m   3200\u001b[0m \u001b[38;5;28;01mif\u001b[39;00m \u001b[38;5;28mlen\u001b[39m(x) \u001b[38;5;241m!=\u001b[39m \u001b[38;5;28mlen\u001b[39m(labels):\n\u001b[1;32m-> 3201\u001b[0m     \u001b[38;5;28;01mraise\u001b[39;00m \u001b[38;5;167;01mValueError\u001b[39;00m(\u001b[38;5;124m\"\u001b[39m\u001b[38;5;124m'\u001b[39m\u001b[38;5;124mlabel\u001b[39m\u001b[38;5;124m'\u001b[39m\u001b[38;5;124m must be of length \u001b[39m\u001b[38;5;124m'\u001b[39m\u001b[38;5;124mx\u001b[39m\u001b[38;5;124m'\u001b[39m\u001b[38;5;124m\"\u001b[39m)\n\u001b[0;32m   3202\u001b[0m \u001b[38;5;28;01mif\u001b[39;00m \u001b[38;5;28mlen\u001b[39m(x) \u001b[38;5;241m!=\u001b[39m \u001b[38;5;28mlen\u001b[39m(explode):\n\u001b[0;32m   3203\u001b[0m     \u001b[38;5;28;01mraise\u001b[39;00m \u001b[38;5;167;01mValueError\u001b[39;00m(\u001b[38;5;124m\"\u001b[39m\u001b[38;5;124m'\u001b[39m\u001b[38;5;124mexplode\u001b[39m\u001b[38;5;124m'\u001b[39m\u001b[38;5;124m must be of length \u001b[39m\u001b[38;5;124m'\u001b[39m\u001b[38;5;124mx\u001b[39m\u001b[38;5;124m'\u001b[39m\u001b[38;5;124m\"\u001b[39m)\n",
      "\u001b[1;31mValueError\u001b[0m: 'label' must be of length 'x'"
     ]
    },
    {
     "data": {
      "image/png": "[encoded data removed]",
      "text/plain": [
       "<Figure size 640x480 with 1 Axes>"
      ]
     },
     "metadata": {},
     "output_type": "display_data"
    }
   ],
   "source": [
    "import matplotlib.pyplot as plt\n",
    "\n",
    "plt.pie(predicciones_relog_hater, labels= [] , autopct=\"%1.1f%%\", startangle=90)\n",
    "plt.title(\"Predicciones\")\n",
    "plt.show()"
   ]
  },
  {
   "cell_type": "code",
   "execution_count": null,
   "id": "2687246a",
   "metadata": {},
   "outputs": [],
   "source": []
  },
  {
   "cell_type": "code",
   "execution_count": null,
   "id": "73ac7663",
   "metadata": {},
   "outputs": [],
   "source": []
  },
  {
   "cell_type": "code",
   "execution_count": null,
   "id": "b96bb41e",
   "metadata": {},
   "outputs": [],
   "source": []
  },
  {
   "cell_type": "code",
   "execution_count": null,
   "id": "99b12980",
   "metadata": {},
   "outputs": [],
   "source": []
  },
  {
   "cell_type": "code",
   "execution_count": null,
   "id": "69557f3a",
   "metadata": {},
   "outputs": [],
   "source": []
  },
  {
   "cell_type": "code",
   "execution_count": null,
   "id": "11cee39e",
   "metadata": {},
   "outputs": [],
   "source": []
  },
  {
   "cell_type": "code",
   "execution_count": 7,
   "id": "20f3d09d",
   "metadata": {},
   "outputs": [
    {
     "name": "stdout",
     "output_type": "stream",
     "text": [
      "What  said about . Check it on  and subscribe to \n"
     ]
    }
   ],
   "source": [
    "\n",
    "import re\n",
    "string = \"What @dhepburn said about #flight_delays. Check it on www.american-airlines.com and subscribe to https://ev.us.es\"\n",
    "new_string = re.sub(r\"@\\w+|#\\w+|https?://\\S+|www\\.\\S+\",\"\",string)\n",
    "print(new_string)"
   ]
  },
  {
   "cell_type": "code",
   "execution_count": 12,
   "id": "631c782c",
   "metadata": {},
   "outputs": [
    {
     "name": "stdout",
     "output_type": "stream",
     "text": [
      "0.0\n"
     ]
    }
   ],
   "source": [
    "ejemplo = \"Me encanta utilizar TextBlob para el análisis de sentimientos.\"\n",
    "ejemplo2= \"Odio a mi vecino, lo quiero matar de la peor manera posible.\"\n",
    "ejemplo3= \"Te amo cariño, soy muy feliz de tenerte.\"\n",
    "#lista = [ejemplo, ejemplo2, ejemplo3]\n",
    "blob = TextBlob(ejemplo3)\n",
    "\n",
    "polaridad_subjetividad = blob.sentiment.polarity\n",
    "print(polaridad_subjetividad)\n",
    "\n",
    "#if polaridad > 0:\n",
    "#    print(\"El texto es positivo.\")\n",
    "#elif polaridad < 0:\n",
    "#    print(\"El texto es negativo.\")\n",
    "#else:\n",
    "#    print(\"El texto es neutral.\")\n",
    "#\n",
    "#print(f\"Polaridad: {polaridad}, Subjetividad: {subjetividad}\")"
   ]
  }
 ],
 "metadata": {
  "kernelspec": {
   "display_name": "Python 3 (ipykernel)",
   "language": "python",
   "name": "python3"
  },
  "language_info": {
   "codemirror_mode": {
    "name": "ipython",
    "version": 3
   },
   "file_extension": ".py",
   "mimetype": "text/x-python",
   "name": "python",
   "nbconvert_exporter": "python",
   "pygments_lexer": "ipython3",
   "version": "3.11.5"
  }
 },
 "nbformat": 4,
 "nbformat_minor": 5
}
