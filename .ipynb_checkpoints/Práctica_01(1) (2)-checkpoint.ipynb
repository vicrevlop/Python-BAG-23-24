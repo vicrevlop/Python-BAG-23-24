{
 "cells": [
  {
   "cell_type": "markdown",
   "metadata": {},
   "source": [
    "### El lenguaje de programación _Python_"
   ]
  },
  {
   "cell_type": "markdown",
   "metadata": {},
   "source": [
    "El objetivo de esta práctica es realizar una serie de ejercicios de familiarización con el lenguaje de programación _Python_."
   ]
  },
  {
   "cell_type": "markdown",
   "metadata": {},
   "source": [
    "Para evaluar las celdas se puede usar uno de los siguientes tres comandos:\n",
    "* Control-Enter: evalúa la celda y permanece en ella\n",
    "* Mayúsculas-Enter: evalúa la celda y selecciona la siguiente celda\n",
    "* Alt-Enter: evalúa la celda e inserta una celda vacía justo debajo"
   ]
  },
  {
   "cell_type": "markdown",
   "metadata": {},
   "source": [
    "###### Ejercicio 1"
   ]
  },
  {
   "cell_type": "markdown",
   "metadata": {},
   "source": [
    "Se pide definir una función `cuadrados` que, dada una secuencia `sec` de números, devuelva la lista de los cuadrados de esos números, en el mismo orden."
   ]
  },
  {
   "cell_type": "markdown",
   "metadata": {},
   "source": [
    "###### Ejemplos:\n",
    "\n",
    "* `cuadrados([2, -1.2, 3e2, 1j])` debe devolver `[4, 1.44, 90000.0, (-1+0j)]`\n",
    "* `cuadrados(i for i in range(10))` debe devolver `[0, 1, 4, 9, 16, 25, 36, 49, 64, 81]`"
   ]
  },
  {
   "cell_type": "code",
   "execution_count": 7,
   "metadata": {},
   "outputs": [],
   "source": [
    "def cuadrados(lista): \n",
    "    lista_vacia=[]\n",
    "    for i in range(0,(len(lista))):\n",
    "        lista[i] = lista[i]**2\n",
    "        lista_vacia.append(lista[i])\n",
    "    print(lista_vacia)\n",
    "\n",
    "##forma de anabelen\n",
    "##def cuadrados(sec):\n",
    "#    for i in range(0,len(sec)):\n",
    "#        sec[i]**=2\n",
    "#    return sec\n",
    "           "
   ]
  },
  {
   "cell_type": "code",
   "execution_count": 8,
   "metadata": {},
   "outputs": [
    {
     "name": "stdout",
     "output_type": "stream",
     "text": [
      "[4, 1.44, 90000.0, (-1+0j)]\n"
     ]
    }
   ],
   "source": [
    "cuadrados([2, -1.2, 3e2, 1j])\n"
   ]
  },
  {
   "cell_type": "code",
   "execution_count": 49,
   "metadata": {},
   "outputs": [],
   "source": [
    "def cuadrados2(sec):\n",
    "    #sec=list(sec) #[]\n",
    "    for i in range(0, len(sec)):\n",
    "        sec[i]**=2\n",
    "    return sec\n",
    "##no tiene solucion si el ejemplo de abajo no está en forma de lista"
   ]
  },
  {
   "cell_type": "code",
   "execution_count": 50,
   "metadata": {
    "scrolled": true
   },
   "outputs": [
    {
     "ename": "TypeError",
     "evalue": "object of type 'generator' has no len()",
     "output_type": "error",
     "traceback": [
      "\u001b[1;31m---------------------------------------------------------------------------\u001b[0m",
      "\u001b[1;31mTypeError\u001b[0m                                 Traceback (most recent call last)",
      "Cell \u001b[1;32mIn[50], line 1\u001b[0m\n\u001b[1;32m----> 1\u001b[0m cuadrados2(i \u001b[38;5;28;01mfor\u001b[39;00m i \u001b[38;5;129;01min\u001b[39;00m \u001b[38;5;28mrange\u001b[39m(\u001b[38;5;241m10\u001b[39m))\n",
      "Cell \u001b[1;32mIn[49], line 3\u001b[0m, in \u001b[0;36mcuadrados2\u001b[1;34m(sec)\u001b[0m\n\u001b[0;32m      1\u001b[0m \u001b[38;5;28;01mdef\u001b[39;00m \u001b[38;5;21mcuadrados2\u001b[39m(sec):\n\u001b[0;32m      2\u001b[0m     \u001b[38;5;66;03m#sec=list(sec) #[]\u001b[39;00m\n\u001b[1;32m----> 3\u001b[0m     \u001b[38;5;28;01mfor\u001b[39;00m i \u001b[38;5;129;01min\u001b[39;00m \u001b[38;5;28mrange\u001b[39m(\u001b[38;5;241m0\u001b[39m, \u001b[38;5;28mlen\u001b[39m(sec)):\n\u001b[0;32m      4\u001b[0m         sec[i]\u001b[38;5;241m*\u001b[39m\u001b[38;5;241m*\u001b[39m\u001b[38;5;241m=\u001b[39m\u001b[38;5;241m2\u001b[39m\n\u001b[0;32m      5\u001b[0m     \u001b[38;5;28;01mreturn\u001b[39;00m sec\n",
      "\u001b[1;31mTypeError\u001b[0m: object of type 'generator' has no len()"
     ]
    }
   ],
   "source": [
    "cuadrados2(i for i in range(10))        "
   ]
  },
  {
   "cell_type": "markdown",
   "metadata": {},
   "source": [
    "###### Ejercicio 2"
   ]
  },
  {
   "cell_type": "markdown",
   "metadata": {},
   "source": [
    "Un número entero positivo se dice que es perfecto si coincide con la suma de todos sus divisores propios (es decir, distintos de él mismo). Se pide definir una función `escribe_perfectos` que, dados dos números enteros positivos `m` $\\leq$ `n`, imprima por pantalla todos los números perfectos entre `m` y `n`. Se pide también que se indiquen los divisores de cada número perfecto que se imprima."
   ]
  },
  {
   "cell_type": "markdown",
   "metadata": {},
   "source": [
    "###### Ejemplos:\n",
    "\n",
    "* `escribe_perfectos(1, 1000)` debe escribir en pantalla:\n",
    "\n",
    "```\n",
    "El número 6 es perfecto y sus divisores son [1, 2, 3]\n",
    "El número 28 es perfecto y sus divisores son [1, 2, 4, 7, 14]\n",
    "El número 496 es perfecto y sus divisores son [1, 2, 4, 8, 16, 31, 62, 124, 248]\n",
    "```"
   ]
  },
  {
   "cell_type": "code",
   "execution_count": 43,
   "metadata": {},
   "outputs": [],
   "source": [
    "def escribe_perfectos(m,n):\n",
    "    for i in range(m,n+1):\n",
    "        lista_divisores=[]\n",
    "        \n",
    "        for j in range(m,n):\n",
    "            if (i%j == 0) and j != i:\n",
    "               lista_divisores.append(j)\n",
    "                \n",
    "        if sum(lista_divisores) == i:\n",
    "            print(\"El número\", i, \"es perfecto y sus divisores son\", lista_divisores)\n",
    "                    "
   ]
  },
  {
   "cell_type": "code",
   "execution_count": 54,
   "metadata": {},
   "outputs": [
    {
     "name": "stdout",
     "output_type": "stream",
     "text": [
      "El número 6 es perfecto y sus divisores son [1, 2, 3]\n",
      "El número 28 es perfecto y sus divisores son [1, 2, 4, 7, 14]\n",
      "El número 496 es perfecto y sus divisores son [1, 2, 4, 8, 16, 31, 62, 124, 248]\n"
     ]
    }
   ],
   "source": [
    "escribe_perfectos(1, 1000)"
   ]
  },
  {
   "cell_type": "code",
   "execution_count": 52,
   "metadata": {},
   "outputs": [],
   "source": [
    "##solucion anabelen\n",
    "def perfectos(i,j):\n",
    "#por cada numero entre i y j\n",
    "    for num1 in range(i,j+1):   ##j+1 porque range no llega a j, se queda a uno menos\n",
    "        divisores=[]\n",
    "        #busco cuales son sus divisores, entre 1 y él mismo (sin incluirlo)\n",
    "        for num2 in range(1,num1):\n",
    "            if num1%num2 == 0:\n",
    "                #los guardo en una lista\n",
    "                divisores.append(num2)\n",
    "        ##hago la suma de los divisores que he encontrado\n",
    "            #suma=0\n",
    "                #for in divisores:\n",
    "                #suma+=divisore\n",
    "        #es la suma igual al numero inicial?\n",
    "        if num1 == sum(divisores):\n",
    "            print(\"El número\",num1,\"es perfecto y sus divisores son\", divisores)"
   ]
  },
  {
   "cell_type": "code",
   "execution_count": 53,
   "metadata": {},
   "outputs": [
    {
     "name": "stdout",
     "output_type": "stream",
     "text": [
      "El número 6 es perfecto y sus divisores son [1, 2, 3]\n",
      "El número 28 es perfecto y sus divisores son [1, 2, 4, 7, 14]\n",
      "El número 496 es perfecto y sus divisores son [1, 2, 4, 8, 16, 31, 62, 124, 248]\n"
     ]
    }
   ],
   "source": [
    "perfectos(1, 1000)"
   ]
  },
  {
   "cell_type": "markdown",
   "metadata": {},
   "source": [
    "###### Ejercicio 3"
   ]
  },
  {
   "cell_type": "markdown",
   "metadata": {},
   "source": [
    "Consideremos diccionarios cuyas claves son cadenas de caracteres de longitud uno y los valores asociados son números enteros no negativos, como por ejemplo el siguiente diccionario `d`:"
   ]
  },
  {
   "cell_type": "code",
   "execution_count": 12,
   "metadata": {},
   "outputs": [],
   "source": [
    "d = {'a': 5, 'b': 10, 'c': 12, 'd': 11, 'e': 15, 'f': 20, 'g': 15, 'h': 9, 'i': 7, 'j': 2}"
   ]
  },
  {
   "cell_type": "markdown",
   "metadata": {},
   "source": [
    "Se pide definir una función `histograma_horizontal` que, dado un diccionario del tipo anterior, escriba en pantalla el histograma de barras horizontales asociado, imprimiendo las barras de arriba a abajo en el orden que determina la función `sorted` sobre las claves, tal y como se ilustra en el siguiente ejemplo:"
   ]
  },
  {
   "cell_type": "markdown",
   "metadata": {},
   "source": [
    "* `histograma_horizontal(d)` debe escribir en pantalla:\n",
    "\n",
    "```\n",
    "a: *****\n",
    "b: **********\n",
    "c: ************\n",
    "d: ***********\n",
    "e: ***************\n",
    "f: ********************\n",
    "g: ***************\n",
    "h: *********\n",
    "i: *******\n",
    "j: **\n",
    "```"
   ]
  },
  {
   "cell_type": "code",
   "execution_count": 19,
   "metadata": {},
   "outputs": [],
   "source": [
    "def histograma_horizontal(a):\n",
    "    sorted(a)\n",
    "    for (letra,numero_asteriscos) in a.items():\n",
    "        for \n",
    "        print(letra,\": \", \"*\" * numero_asteriscos)\n",
    "    "
   ]
  },
  {
   "cell_type": "code",
   "execution_count": 21,
   "metadata": {},
   "outputs": [],
   "source": [
    "##otra forma iterando solo 1 elemento\n",
    "def histograma_horizontal2(diccionario):\n",
    "    sorted(diccionario)\n",
    "    for letra in diccionario:\n",
    "        valor = diccionario[letra]\n",
    "        print(letra,\": \", \"*\" * numero_asteriscos)\n",
    "    "
   ]
  },
  {
   "cell_type": "code",
   "execution_count": 20,
   "metadata": {},
   "outputs": [
    {
     "name": "stdout",
     "output_type": "stream",
     "text": [
      "a :  *****\n",
      "b :  **********\n",
      "c :  ************\n",
      "d :  ***********\n",
      "e :  ***************\n",
      "f :  ********************\n",
      "g :  ***************\n",
      "h :  *********\n",
      "i :  *******\n",
      "j :  **\n"
     ]
    }
   ],
   "source": [
    "histograma_horizontal(d)"
   ]
  },
  {
   "cell_type": "markdown",
   "metadata": {},
   "source": [
    "Se pide definir una función `histograma_vertical` que, dado un diccionario del tipo anterior, escriba en pantalla el histograma de barras verticales asociado, imprimiendo las barras de izquierda a derecha en el orden que determina la función `sorted` sobre las claves, tal y como se ilustra en el siguiente ejemplo:"
   ]
  },
  {
   "cell_type": "markdown",
   "metadata": {},
   "source": [
    "* `histograma_vertical(d)` debe escribir en pantalla:\n",
    "\n",
    "```\n",
    "          *        \n",
    "          *        \n",
    "          *        \n",
    "          *        \n",
    "          *        \n",
    "        * * *      \n",
    "        * * *      \n",
    "        * * *      \n",
    "    *   * * *      \n",
    "    * * * * *      \n",
    "  * * * * * *      \n",
    "  * * * * * * *    \n",
    "  * * * * * * *    \n",
    "  * * * * * * * *  \n",
    "  * * * * * * * *  \n",
    "* * * * * * * * *  \n",
    "* * * * * * * * *  \n",
    "* * * * * * * * *  \n",
    "* * * * * * * * * *\n",
    "* * * * * * * * * *\n",
    "a b c d e f g h i j\n",
    "```"
   ]
  },
  {
   "cell_type": "code",
   "execution_count": 38,
   "metadata": {},
   "outputs": [
    {
     "ename": "IndentationError",
     "evalue": "unindent does not match any outer indentation level (<tokenize>, line 5)",
     "output_type": "error",
     "traceback": [
      "\u001b[1;36m  File \u001b[1;32m<tokenize>:5\u001b[1;36m\u001b[0m\n\u001b[1;33m    if numero_asteriscos != max:\u001b[0m\n\u001b[1;37m    ^\u001b[0m\n\u001b[1;31mIndentationError\u001b[0m\u001b[1;31m:\u001b[0m unindent does not match any outer indentation level\n"
     ]
    }
   ],
   "source": [
    "def histograma_vertical(diccionario):\n",
    "    sorted(diccionario)\n",
    "    for (letra,numero_asteriscos) in diccionario.items():\n",
    "         max = max(diccionario[numero_asteriscos])\n",
    "        if numero_asteriscos != max:\n",
    "            print(\" \" * (max-numero_asteriscos), \"*\" * numero_asteriscos)\n",
    "        else\n",
    "            print(\"*\" * numero_asteriscos)"
   ]
  },
  {
   "cell_type": "code",
   "execution_count": 1,
   "metadata": {},
   "outputs": [],
   "source": [
    "d = {'a': 5, 'b': 10, 'c': 12, 'd': 11, 'e': 15, 'f': 20, 'g': 15, 'h': 9, 'i': 7, 'j': 2}"
   ]
  },
  {
   "cell_type": "code",
   "execution_count": 74,
   "metadata": {},
   "outputs": [],
   "source": [
    "def histograma_vertical(diccionario):\n",
    "    lista_vacia=[]\n",
    "    ##hmax=max(diccionario.values())\n",
    "    for (keys,values) in diccionario.items():\n",
    "        num_asteriscos = diccionario.get(keys)\n",
    "        lista_vacia.append(num_asteriscos)\n",
    "    hmax = max(lista_vacia)\n",
    "    print(lista_vacia)\n",
    "    print(hmax)\n",
    "    \n",
    "    for h in reversed(range(1,hmax+1)):      \n",
    "        nivel= \"\"\n",
    "        for num_asterisco in diccionario.values():\n",
    "           # print(valor)\n",
    "            if  num_asterisco >= h:\n",
    "                nivel += \"* \"\n",
    "       \n",
    "            else:\n",
    "                nivel += \"  \"\n",
    "        \n",
    "        print(nivel)\n",
    "        \n",
    "    cadena= \"\"\n",
    "    for letra in diccionario.keys():\n",
    "        cadena+=letra\n",
    "        cadena+=\" \"\n",
    "    \n",
    "    print(cadena)        "
   ]
  },
  {
   "cell_type": "code",
   "execution_count": 72,
   "metadata": {},
   "outputs": [],
   "source": [
    "##solucion anabelen\n",
    "def histograma_vertical2(diccionario):\n",
    "    hmax=max(diccionario.values())\n",
    "    #print(hmax)\n",
    "    \n",
    "    for h in reversed(range(1,hmax+1)):      \n",
    "        nivel= \"\"\n",
    "        for num_asterisco in diccionario.values():\n",
    "           # print(valor)\n",
    "            if  num_asterisco >= h:\n",
    "                nivel += \"* \"\n",
    "       \n",
    "            else:\n",
    "                nivel += \"  \"\n",
    "        \n",
    "        print(nivel)\n",
    "    names=list(diccionario.keys())\n",
    "    string_names=\" \".join(names)\n",
    "    print(string_names)"
   ]
  },
  {
   "cell_type": "code",
   "execution_count": 73,
   "metadata": {},
   "outputs": [
    {
     "name": "stdout",
     "output_type": "stream",
     "text": [
      "20\n",
      "          *         \n",
      "          *         \n",
      "          *         \n",
      "          *         \n",
      "          *         \n",
      "        * * *       \n",
      "        * * *       \n",
      "        * * *       \n",
      "    *   * * *       \n",
      "    * * * * *       \n",
      "  * * * * * *       \n",
      "  * * * * * * *     \n",
      "  * * * * * * *     \n",
      "  * * * * * * * *   \n",
      "  * * * * * * * *   \n",
      "* * * * * * * * *   \n",
      "* * * * * * * * *   \n",
      "* * * * * * * * *   \n",
      "* * * * * * * * * * \n",
      "* * * * * * * * * * \n",
      "a b c d e f g h i j\n"
     ]
    }
   ],
   "source": [
    "histograma_vertical(d)"
   ]
  },
  {
   "cell_type": "markdown",
   "metadata": {},
   "source": [
    "#### Ejercicio 4 \n",
    "\n",
    "Crea una función llamada booking que dados unos datos sobre el precio y la distancia al centro de\n",
    "distintos hoteles, calcule cual es el mejor para el usuario/a.\n",
    "Para ello, crea un diccionario que contenga datos sobre el precio por noche y la distancia al centro de distintos\n",
    "hoteles. Busca dentro de ese diccionario las opciones que entren dentro del umbral establecido.\n",
    "Como inputs la función recibirá: \n",
    "\n",
    "* Un elemento llamado preferencia_distancia que recoja la distancia máxima a la\n",
    "que quiere estar del centro\n",
    "* Un elemento llamado preferencia_precio que recoja el precio máximo que quiere\n",
    "pagar\n",
    "\n",
    "Como dato de salida dirá qué hotel/es son los más idóneos."
   ]
  },
  {
   "cell_type": "code",
   "execution_count": 83,
   "metadata": {},
   "outputs": [],
   "source": [
    "distancia = {\"Hotel1\": 800, \"Hotel2\":500, \"Hotel3\":600}\n",
    "precio = {\"Hotel1\": 50, \"Hotel2\":75, \"Hotel3\":64}\n",
    "\n",
    "def booking(preferencia_distancia,preferencia_precio):\n",
    "    for metros in distancia.values(): \n",
    "        if metros <= preferencia_distancia:\n",
    "            print(distancia.keys())\n",
    "    for euros in precio.values():\n",
    "        if euros <= preferencia_precio:\n",
    "            print(precio.keys())\n",
    "        \n",
    "        "
   ]
  },
  {
   "cell_type": "code",
   "execution_count": 85,
   "metadata": {},
   "outputs": [],
   "source": [
    "distancia = {\"Hotel1\": 800, \"Hotel2\":500, \"Hotel3\":600}\n",
    "\n",
    "\n",
    "def booking(preferencia_distancia):\n",
    "    for metros in distancia.values(): \n",
    "        if metros <= preferencia_distancia:\n",
    "            print()\n",
    "    \n",
    "    if opciones_idoneas:\n",
    "        print(\"Los hoteles más idóneos para ti son:\")\n",
    "        \n",
    "        "
   ]
  },
  {
   "cell_type": "code",
   "execution_count": 86,
   "metadata": {},
   "outputs": [
    {
     "name": "stdout",
     "output_type": "stream",
     "text": [
      "dict_keys(['Hotel1', 'Hotel2', 'Hotel3'])\n",
      "dict_keys(['Hotel1', 'Hotel2', 'Hotel3'])\n"
     ]
    }
   ],
   "source": [
    "booking(600)"
   ]
  },
  {
   "cell_type": "code",
   "execution_count": null,
   "metadata": {},
   "outputs": [],
   "source": []
  },
  {
   "cell_type": "markdown",
   "metadata": {},
   "source": [
    "#### Ejercicio 5\n",
    "Crear una función que determine si una palabra ingresada por el usuario es un palíndromo o no. \n",
    "La función debe recibir una palabra como entrada, realizar la verificación y devolver un mensaje \n",
    "indicando si la palabra es un palíndromo o no"
   ]
  },
  {
   "cell_type": "code",
   "execution_count": null,
   "metadata": {},
   "outputs": [],
   "source": []
  },
  {
   "cell_type": "markdown",
   "metadata": {},
   "source": [
    "###### Ejercicio 6"
   ]
  },
  {
   "cell_type": "markdown",
   "metadata": {},
   "source": [
    "Supongamos que queremos simular la trayectoria de un proyectil que se dispara en un punto dado a una determinada altura inicial. El disparo se realiza hacia adelante con una velocidad inicial y con un determinado ángulo. Inicialmente el proyectil avanzará subiendo, pero por la fuerza de la gravedad, en un momento dado empezará a bajar hasta que aterrice. Por simplificar, supondremos que no existe rozamiento ni resistencia del viento.\n",
    "\n",
    "Se pide definir una clase `Proyectil` que sirva para representar el estado del proyectil en un instante de tiempo dado. Para ello, se necesitan al menos atributos de datos que guarden la siguiente información:\n",
    "* Distancia recorrida (en horizontal)\n",
    "* Altura\n",
    "* Velocidad horizontal\n",
    "* Velocidad vertical\n",
    "\n",
    "Además, se pide dotar a la clase `Proyectil` de los siguientes tres métodos:\n",
    "* obtener_pos_x: devuelve la distancia horizontal recorrida \n",
    "* obtener_pos_y: devuelve la distancia vertical recorrida \n",
    "* `actualizar_posición`: dada una cantidad `t` de segundos, actualiza la posición y la velocidad del proyectil tras haber transcurrido ese tiempo\n",
    "\n",
    "Una vez definida la clase `Proyectil`, se pide definir una función `aterriza` que, dados los datos de `altura`, `velocidad`, `ángulo` e `intervalo`, imprima por pantalla las distintas posiciones por las que pasa un proyectil que se ha disparado con esa `velocidad`, `ángulo` (en grados) y una `altura` inicial. Se mostrará la posición del proyectil en cada `intervalo` de tiempo, hasta que aterriza. Además también debe imprimir la altura máxima que ha alcanzado al final de cada intervalo, cuántos intervalos de tiempo ha tardado en aterrizar y el alcance que ha tenido.\n",
    "\n",
    "Indicaciones:\n",
    "1. Si el proyectil tiene una velocidad inicial $v$ y se lanza con un ángulo $\\theta$, las componentes horizontal y vertical de la velocidad inicial son $v \\times \\cos(\\theta)$ y $v \\times \\sin(\\theta)$, respectivamente.\n",
    "2. La componente horizontal de la velocidad, en ausencia de rozamiento y viento, podemos suponer que permanece constante.\n",
    "3. La componente vertical de la velocidad cambia de la siguiente manera tras un intervalo de tiempo $t$: si $vy_0$ es la velocidad vertical al inicio del intervalo, entonces al final del intervalo tiene una velocidad $vy_1 = vy_0 - 9.8 \\times t$, debido a la gravedad de la Tierra.\n",
    "4. En ese caso, si el proyectil se encuentra a una altura $h_0$, tras un intervalo de tiempo $t$ se encontrará a una altura $h_1 = h_0 + vm  \\times t$, donde $vm$ es la media entre las anteriores $vy_0$ y $vy_1$."
   ]
  },
  {
   "cell_type": "markdown",
   "metadata": {},
   "source": [
    "###### Ejemplo:\n",
    "\n",
    "* `aterriza(30, 1, 20, 0.1)` debe escribir en pantalla:\n",
    "\n",
    "```\n",
    "Proyectil en posición(0.0, 30.0)\n",
    "Proyectil en posición(0.1, 30.0)\n",
    "Proyectil en posición(0.2, 29.9)\n",
    "Proyectil en posición(0.3, 29.7)\n",
    "Proyectil en posición(0.4, 29.4)\n",
    "Proyectil en posición(0.5, 28.9)\n",
    "Proyectil en posición(0.6, 28.4)\n",
    "Proyectil en posición(0.7, 27.8)\n",
    "Proyectil en posición(0.8, 27.1)\n",
    "Proyectil en posición(0.8, 26.3)\n",
    "Proyectil en posición(0.9, 25.4)\n",
    "Proyectil en posición(1.0, 24.4)\n",
    "Proyectil en posición(1.1, 23.4)\n",
    "Proyectil en posición(1.2, 22.2)\n",
    "Proyectil en posición(1.3, 20.9)\n",
    "Proyectil en posición(1.4, 19.5)\n",
    "Proyectil en posición(1.5, 18.0)\n",
    "Proyectil en posición(1.6, 16.4)\n",
    "Proyectil en posición(1.7, 14.7)\n",
    "Proyectil en posición(1.8, 13.0)\n",
    "Proyectil en posición(1.9, 11.1)\n",
    "Proyectil en posición(2.0, 9.1)\n",
    "Proyectil en posición(2.1, 7.0)\n",
    "Proyectil en posición(2.2, 4.9)\n",
    "Proyectil en posición(2.3, 2.6)\n",
    "Proyectil en posición(2.3, 0.2)\n",
    "\n",
    "Tras 26 intervalos de 0.1 segundos (2.6 segundos) el proyectil ha aterrizado.\n",
    "Ha recorrido una distancia de 2.4 metros\n",
    "Ha alcanzado una altura máxima de 30.0 metros\n",
    "```"
   ]
  },
  {
   "cell_type": "code",
   "execution_count": null,
   "metadata": {
    "collapsed": true,
    "jupyter": {
     "outputs_hidden": true
    }
   },
   "outputs": [],
   "source": []
  }
 ],
 "metadata": {
  "kernelspec": {
   "display_name": "Python 3 (ipykernel)",
   "language": "python",
   "name": "python3"
  },
  "language_info": {
   "codemirror_mode": {
    "name": "ipython",
    "version": 3
   },
   "file_extension": ".py",
   "mimetype": "text/x-python",
   "name": "python",
   "nbconvert_exporter": "python",
   "pygments_lexer": "ipython3",
   "version": "3.11.5"
  }
 },
 "nbformat": 4,
 "nbformat_minor": 4
}
