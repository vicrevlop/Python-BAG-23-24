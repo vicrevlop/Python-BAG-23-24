{
 "cells": [
  {
   "cell_type": "markdown",
   "id": "a3fd0657",
   "metadata": {},
   "source": [
    "## Ejercicio 1: Recopilación de datos. (1p)\n",
    "\n",
    "Se deben recopilar más de 5000 tweets en inglés que puedan tener un sentimiento positivo, \n",
    "negativo o neutro. Procurar mantener en la medida de lo posible una proporción equilibrada. Para la\n",
    "recopilación de los datos se puede hacer de forma manual (no recomendable) o usar un dataset de \n",
    "tweets de la base de datos Kaggle (OJO! Que el texto no esté ya pre-procesado). Los tweets \n",
    "recopilados se deben almacenar en un archivo CSV que se debe leer con pandas. Muestra en el \n",
    "notebook las primeras 5 filas de la tabla leída."
   ]
  },
  {
   "cell_type": "code",
   "execution_count": 1,
   "id": "a7b43573",
   "metadata": {},
   "outputs": [],
   "source": [
    "#Se cargan todas las librerías que vamos a usar\n",
    "\n",
    "import pandas as pd\n",
    "import numpy as np\n",
    "from sklearn.model_selection import train_test_split\n",
    "from sklearn.feature_extraction.text import CountVectorizer\n",
    "from sklearn.naive_bayes import MultinomialNB\n",
    "from sklearn.metrics import accuracy_score, classification_report, confusion_matrix\n",
    "from sklearn.pipeline import make_pipeline\n",
    "\n",
    "import nltk\n",
    "from nltk.corpus import stopwords\n",
    "from nltk.stem import PorterStemmer\n",
    "from nltk.tokenize import TweetTokenizer\n",
    "import re\n",
    "from nltk.stem import SnowballStemmer\n",
    "from textblob import TextBlob\n"
   ]
  },
  {
   "cell_type": "code",
   "execution_count": 2,
   "id": "e370783e",
   "metadata": {},
   "outputs": [
    {
     "data": {
      "text/plain": [
       "0                  @VirginAmerica What @dhepburn said.\n",
       "1    @VirginAmerica plus you've added commercials t...\n",
       "2    @VirginAmerica I didn't today... Must mean I n...\n",
       "3    @VirginAmerica it's really aggressive to blast...\n",
       "4    @VirginAmerica and it's a really big bad thing...\n",
       "Name: text, dtype: object"
      ]
     },
     "execution_count": 2,
     "metadata": {},
     "output_type": "execute_result"
    }
   ],
   "source": [
    "tweets = pd.read_csv('Tweets.csv')\n",
    "tweets=tweets[\"text\"]\n",
    "tweets.head(5)\n"
   ]
  },
  {
   "cell_type": "code",
   "execution_count": 3,
   "id": "8f7c4544",
   "metadata": {},
   "outputs": [
    {
     "data": {
      "text/plain": [
       "0                   @VirginAmerica What @dhepburn said.\n",
       "1     @VirginAmerica plus you've added commercials t...\n",
       "2     @VirginAmerica I didn't today... Must mean I n...\n",
       "3     @VirginAmerica it's really aggressive to blast...\n",
       "4     @VirginAmerica and it's a really big bad thing...\n",
       "5     @VirginAmerica seriously would pay $30 a fligh...\n",
       "6     @VirginAmerica yes, nearly every time I fly VX...\n",
       "7     @VirginAmerica Really missed a prime opportuni...\n",
       "8       @virginamerica Well, I didn't…but NOW I DO! :-D\n",
       "9     @VirginAmerica it was amazing, and arrived an ...\n",
       "10    @VirginAmerica did you know that suicide is th...\n",
       "11    @VirginAmerica I &lt;3 pretty graphics. so muc...\n",
       "12    @VirginAmerica This is such a great deal! Alre...\n",
       "13    @VirginAmerica @virginmedia I'm flying your #f...\n",
       "14                               @VirginAmerica Thanks!\n",
       "Name: text, dtype: object"
      ]
     },
     "execution_count": 3,
     "metadata": {},
     "output_type": "execute_result"
    }
   ],
   "source": [
    "tweets.head(15)"
   ]
  },
  {
   "cell_type": "code",
   "execution_count": null,
   "id": "1ebf6495",
   "metadata": {},
   "outputs": [],
   "source": [
    "# Para el ejercicio debemos quedarnos con la columna \"text\".\n"
   ]
  },
  {
   "cell_type": "markdown",
   "id": "9e3444d2",
   "metadata": {},
   "source": [
    "## Ejercicio 2: Limpieza del texto, eliminar las palabras que no aportan información. (2p)\n",
    "\n",
    "Crear una función limpiar_texto que toma un dataset como entrada y realiza una serie de \n",
    "pasos de preprocesamiento para limpiar y estructurar el texto de manera que sea más adecuado para \n",
    "tareas de procesamiento de lenguaje natural (NLP). \n",
    "Para cada línea de texto del data set, la función debe:\n",
    "* Eliminar menciones, hashtags y URLs del texto. Pista: la función re.sub() puede ser útil.\n",
    "* Convertir el texto en minúscula.\n",
    "* Separa las palabras dentro del tweet como elementos de una lista. A este proceso se le llama tokenización, investiga cómo hacerlo con la función TweetTokenizer() incluida en NLTK.\n",
    "* Para cada una de las palabras en esa lista generada:\n",
    "    * Eliminar las palabras comunes y poco informativas (conocidas como stop words). Usa la recopilación de stop words que ya existe en NLTK (accede a ellas con stopwords.words() seleccionando inglés como idioma).\n",
    "    * Utilizar técnicas de lematización (stemming). Investiga qué son y usa el modelo SnowballStemmer() que ya incluye NLTK para stemming.\n",
    "* Transformar la lista final en una cadena de caracteres de nuevo. Cada palabra debe estar separada por un espacio y ese texto debe sustituir al original en la tabla del dataset."
   ]
  },
  {
   "cell_type": "code",
   "execution_count": 4,
   "id": "6ed7818e",
   "metadata": {},
   "outputs": [],
   "source": [
    "def limpiar_texto(dataset):\n",
    "    for n in range(0,len(dataset)-1):\n",
    "        texto_limpio = re.sub(r\"@\\w+|#\\w+|https?://\\S+|www\\.\\S+|[\\U0001F600-\\U0001F64F\\U0001F300-\\U0001F5FF\\U0001F680-\\U0001F6FF\\U0001F700-\\U0001F77F\\U0001F780-\\U0001F7FF\\U0001F800-\\U0001F8FF\\U0001F900-\\U0001F9FF\\U0001FA00-\\U0001FA6F\\U0001FA70-\\U0001FAFF\\U00002702-\\U000027B0\\U000024C2-\\U0001F251]+\",\"\",dataset[n])\n",
    "        texto_minusculas = texto_limpio.lower()\n",
    "        tokenizer = TweetTokenizer()\n",
    "        texto_separado = tokenizer.tokenize(texto_minusculas)\n",
    "        \n",
    "        stop_words = set(stopwords.words('english'))\n",
    "        texto_filtrado = []\n",
    "        for palabra in texto_separado:\n",
    "            if palabra not in stop_words:\n",
    "                texto_filtrado.append(palabra)\n",
    "            \n",
    "            lematizacion = SnowballStemmer(\"english\")\n",
    "            lexemas = [lematizacion.stem(palabra) for palabra in texto_filtrado]\n",
    "        \n",
    "        texto_final = \" \".join(lexemas)\n",
    "        dataset[n]=texto_final\n",
    "    \n",
    "    return dataset\n",
    "                \n",
    "            "
   ]
  },
  {
   "cell_type": "code",
   "execution_count": 5,
   "id": "095856f4",
   "metadata": {},
   "outputs": [
    {
     "data": {
      "text/plain": [
       "0                                                   said .\n",
       "1                      plus ad commerci experi ... tacki .\n",
       "2               today ... must mean need take anoth trip !\n",
       "3        realli aggress blast obnoxi \" entertain \" gues...\n",
       "4                                     realli big bad thing\n",
       "                               ...                        \n",
       "14635                    thank got differ flight chicago .\n",
       "14636    leav 20 minut late flight . warn communic 15 m...\n",
       "14637                          pleas bring american airlin\n",
       "14638    money , chang flight , answer phone ! suggest ...\n",
       "14639    @AmericanAir we have 8 ppl so we need 2 know h...\n",
       "Name: text, Length: 14640, dtype: object"
      ]
     },
     "execution_count": 5,
     "metadata": {},
     "output_type": "execute_result"
    }
   ],
   "source": [
    "limpiar_texto(tweets)"
   ]
  },
  {
   "cell_type": "markdown",
   "id": "a154c08b",
   "metadata": {},
   "source": [
    "## Ejercicio3: Etiquetado de datos con herramientas ya existentes. (2p)\n",
    "El objetivo principal de esta función es asignar la categoría de sentimiento correspondiente usando modelos existentes como TextBlob. TextBlob asigna una puntuación de polaridad al texto, donde valores positivos indican sentimientos positivos y valores negativos indican sentimientos negativos. La intención del proyecto es usar los modelos ya existentes para crear el dataset de entrenamiento necesario para entrenar nuestro propio modelo e intentar que funcione mejor que los ya existentes. Define una función llamada clasificador que toma el dataset con el texto procesado y limpio como entrada. El resultado de este proceso debe almacenarse en un archivo CSV con dos columnas: una para la frase o texto y otra para la etiqueta correspondiente.\n",
    "* Para cada línea de texto del data set, la función debe:\n",
    "    * Utilizar el modelo TextBlob para realizar un análisis de sentimiento. Investiga cómo hacerlo.\n",
    "    * En función de la polaridad calculada, clasificar el sentimiento en categorías específicas. Las categorías deben incluir \"Contento\", \"Muy feliz\", \"Neutro\", \"Molesto\" y \"Hater\".\n",
    "* Finalmente, guardar los resultados como una columna nueva en el dataset."
   ]
  },
  {
   "cell_type": "code",
   "execution_count": 6,
   "id": "6e28113d",
   "metadata": {},
   "outputs": [],
   "source": [
    "def clasificador(data):\n",
    "    categorias = []\n",
    "    for fila in data:\n",
    "        blob = TextBlob(fila)\n",
    "        polaridad = blob.sentiment.polarity\n",
    "        if polaridad == 0:\n",
    "            categoria = \"Neutro\"\n",
    "        elif polaridad > 0 and polaridad < 0.5:\n",
    "            categoria = \"Contento\"\n",
    "        elif polaridad >= 0.5:\n",
    "            categoria = \"Muy feliz\"\n",
    "        elif polaridad < 0 and polaridad > -0.5:\n",
    "            categoria = \"Molesto\"\n",
    "        elif polaridad <= -0.5:\n",
    "            categoria = \"Hater\"\n",
    "        \n",
    "        categorias.append(categoria)\n",
    "    #print(categorias)\n",
    "    data_frame = pd.DataFrame(data)\n",
    "    data_frame[\"Categoria\"] = categorias\n",
    "    \n",
    "    return data_frame\n",
    "    \n",
    "        \n",
    "        "
   ]
  },
  {
   "cell_type": "code",
   "execution_count": 7,
   "id": "c27999a2",
   "metadata": {},
   "outputs": [],
   "source": [
    "tweets = clasificador(tweets)"
   ]
  },
  {
   "cell_type": "code",
   "execution_count": 8,
   "id": "5c9a2d4f",
   "metadata": {},
   "outputs": [
    {
     "data": {
      "text/html": [
       "<div>\n",
       "<style scoped>\n",
       "    .dataframe tbody tr th:only-of-type {\n",
       "        vertical-align: middle;\n",
       "    }\n",
       "\n",
       "    .dataframe tbody tr th {\n",
       "        vertical-align: top;\n",
       "    }\n",
       "\n",
       "    .dataframe thead th {\n",
       "        text-align: right;\n",
       "    }\n",
       "</style>\n",
       "<table border=\"1\" class=\"dataframe\">\n",
       "  <thead>\n",
       "    <tr style=\"text-align: right;\">\n",
       "      <th></th>\n",
       "      <th>text</th>\n",
       "      <th>Categoria</th>\n",
       "    </tr>\n",
       "  </thead>\n",
       "  <tbody>\n",
       "    <tr>\n",
       "      <th>0</th>\n",
       "      <td>said .</td>\n",
       "      <td>Neutro</td>\n",
       "    </tr>\n",
       "    <tr>\n",
       "      <th>1</th>\n",
       "      <td>plus ad commerci experi ... tacki .</td>\n",
       "      <td>Neutro</td>\n",
       "    </tr>\n",
       "    <tr>\n",
       "      <th>2</th>\n",
       "      <td>today ... must mean need take anoth trip !</td>\n",
       "      <td>Molesto</td>\n",
       "    </tr>\n",
       "    <tr>\n",
       "      <th>3</th>\n",
       "      <td>realli aggress blast obnoxi \" entertain \" gues...</td>\n",
       "      <td>Neutro</td>\n",
       "    </tr>\n",
       "    <tr>\n",
       "      <th>4</th>\n",
       "      <td>realli big bad thing</td>\n",
       "      <td>Molesto</td>\n",
       "    </tr>\n",
       "  </tbody>\n",
       "</table>\n",
       "</div>"
      ],
      "text/plain": [
       "                                                text Categoria\n",
       "0                                             said .    Neutro\n",
       "1                plus ad commerci experi ... tacki .    Neutro\n",
       "2         today ... must mean need take anoth trip !   Molesto\n",
       "3  realli aggress blast obnoxi \" entertain \" gues...    Neutro\n",
       "4                               realli big bad thing   Molesto"
      ]
     },
     "execution_count": 8,
     "metadata": {},
     "output_type": "execute_result"
    }
   ],
   "source": [
    "tweets.head(5)"
   ]
  },
  {
   "cell_type": "markdown",
   "id": "af5e66e7",
   "metadata": {},
   "source": [
    "## Ejercicio4: Codificación de los atributos y objetivos. (1p)\n",
    "Investiga cómo funciona CountVectorizer () e investiga si existe otro codificador que se ajuste mejor a tu tarea. Una vez codificado, separa el conjunto de entrenamiento del conjunto de prueba."
   ]
  },
  {
   "cell_type": "code",
   "execution_count": 16,
   "id": "cdd9b5f2",
   "metadata": {},
   "outputs": [],
   "source": [
    "atributos = tweets[\"text\"]\n",
    "objetivo = tweets[\"Categoria\"]\n",
    "\n",
    "vectorizer = CountVectorizer()\n",
    "atributos_codificados = vectorizer.fit_transform(atributos)\n",
    "\n",
    "from sklearn import preprocessing\n",
    "label_encoder = preprocessing.LabelEncoder()\n",
    "objetivo_codificado = label_encoder.fit_transform(objetivo)"
   ]
  },
  {
   "cell_type": "code",
   "execution_count": 18,
   "id": "8a42179b",
   "metadata": {},
   "outputs": [],
   "source": [
    "#Separa conjunto de entrenamiento y de prueba\n",
    "(atributos_entrenamiento, atributos_prueba, objetivo_entrenamiento, objetivo_prueba) = train_test_split(atributos_codificados, objetivo_codificado, random_state=12345, test_size=0.2, stratify=objetivo_codificado)"
   ]
  },
  {
   "cell_type": "markdown",
   "id": "7fe680ee",
   "metadata": {},
   "source": [
    "## Ejercicio5: Entrenamiento del modelo. (2p)\n",
    "Entrena un modelo Naive Bayes y otro de tu elección. Investiga sobre qué versiones de cada modelo es más adecuada para la tarea a realizar. Calcula el porcentaje de acierto del modelo entrenado. Si el porcentaje de acierto está por debajo del 70%, vuelve atrás e intenta mejorar este resultado."
   ]
  },
  {
   "cell_type": "code",
   "execution_count": 19,
   "id": "6a2cabe1",
   "metadata": {},
   "outputs": [
    {
     "name": "stdout",
     "output_type": "stream",
     "text": [
      "La precisión del modelo Naive Bayes desarrollado es: 79.40573770491804 %\n"
     ]
    }
   ],
   "source": [
    "#Modelo Naive Bayes\n",
    "naive_bayes = MultinomialNB(alpha=1.0)  #alpha es el parámetro de suavizado\n",
    "naive_bayes.fit(atributos_entrenamiento, objetivo_entrenamiento)\n",
    "\n",
    "#Realiza las predicciones con el conjunto de prueba\n",
    "predicciones_nb = naive_bayes.predict(atributos_prueba)\n",
    "#Calcular la precisión del modelo\n",
    "precision_nb = naive_bayes.score(atributos_prueba, objetivo_prueba)\n",
    "print(\"La precisión del modelo Naive Bayes desarrollado es:\", precision_nb*100, \"%\")"
   ]
  },
  {
   "cell_type": "code",
   "execution_count": 20,
   "id": "ef8b3cde",
   "metadata": {},
   "outputs": [
    {
     "name": "stdout",
     "output_type": "stream",
     "text": [
      "La precisión del modelo de regresión logística desarrollado es: 88.7636612021858 %\n"
     ]
    }
   ],
   "source": [
    "#Modelo de mi elección: con toda probabilidad el modelo de regresión logística -> 'LogisticRegression'\n",
    "from sklearn.linear_model import LogisticRegression\n",
    "\n",
    "regresion_logistica = LogisticRegression(max_iter=1000, multi_class='multinomial', solver='lbfgs')\n",
    "regresion_logistica.fit(atributos_entrenamiento, objetivo_entrenamiento)\n",
    "\n",
    "#Realiza las predicciones con el conjunto de prueba\n",
    "predicciones_relog = regresion_logistica.predict(atributos_prueba)\n",
    "#Calcular la precisión del modelo\n",
    "precision_relog = regresion_logistica.score(atributos_prueba, objetivo_prueba)\n",
    "print(\"La precisión del modelo de regresión logística desarrollado es:\", precision_relog*100, \"%\")"
   ]
  },
  {
   "cell_type": "markdown",
   "id": "5925eaed",
   "metadata": {},
   "source": [
    "## Ejercicio6: Usar el modelo entrenado (2p)\n",
    "Se deben recopilar los últimos 30 tweets de dos personas con influencia en redes sociales de forma manual, alguna conocida por su mala fama como “hater” y otra con una valoración social más positiva. Utilizar el modelo desarrollado para predecir el sentimiento de cada tweet. Los resultados para cada persona deben ser ilustrados en un pie chart (diagrama de sectores) que muestre el estado de ánimo (el porcentaje de tweets clasificados con cada etiqueta)."
   ]
  },
  {
   "cell_type": "markdown",
   "id": "aee47f76",
   "metadata": {},
   "source": [
    "#### 1. Persona de estilo más negativo\n",
    "Para esta tarea, he navegado por X (Twitter) y he dado con una escritora-activista australiana llamada Alexandra Marshall (@ellymelly) cuyos tweets son la mayoría opiniones negativas o contra un tema concreto. He recopilado 30 de sus últimos tweets (obviando alguno que sólo contenía emoticonos) en un archivo CSV de nombre \"Tweets_hater_examen\", y he aplicado el modelo de detección de sentimientos generado sobre ellos. He aquí el resultado:"
   ]
  },
  {
   "cell_type": "code",
   "execution_count": 47,
   "id": "bdb9860b",
   "metadata": {
    "scrolled": false
   },
   "outputs": [
    {
     "data": {
      "text/plain": [
       "0             Smart money always makes the same moves.\n",
       "1    A thread of tweets that show why they really p...\n",
       "2    Death penalty for all knife crime offences in ...\n",
       "3    I would never, ever, ever, get down on one kne...\n",
       "4    Lazy people do a little work and feel like the...\n",
       "Name: message to examine, dtype: object"
      ]
     },
     "execution_count": 47,
     "metadata": {},
     "output_type": "execute_result"
    }
   ],
   "source": [
    "hater = pd.read_csv('my_tweets.csv', delimiter=\";\")\n",
    "hater = hater[\"message to examine\"]\n",
    "hater= hater[:30]\n",
    "hater.head(5)"
   ]
  },
  {
   "cell_type": "code",
   "execution_count": 48,
   "id": "1748e6b2",
   "metadata": {
    "scrolled": false
   },
   "outputs": [
    {
     "data": {
      "text/plain": [
       "0                         smart money alway make move .\n",
       "1     thread tweet show realli put jail . spoiler al...\n",
       "2     death penalti knife crime offenc uk . enough e...\n",
       "3     would never , ever , ever , get one knee woman...\n",
       "4     lazi peopl littl work feel like win . winner w...\n",
       "5     they'r go forc carbon credit system us . secre...\n",
       "6     pain head . pain heart . pain torso . pain mi ...\n",
       "7     turn 50m sell soul . shut certain subject sell...\n",
       "8     broke , unconnect weak bother deep insid . dee...\n",
       "9     real gs know nsync made banger . bye bye byeeeeee\n",
       "10    life actual simpl . becom strong rich possibl ...\n",
       "11                           life get better get better\n",
       "12    2024 chaotic . hard . also full opportun . run...\n",
       "13    man hate drive bitch . afraid “ stress ” traff...\n",
       "14    \" better version alreadi walk planet . love li...\n",
       "15                     cant explain much want sex hoe .\n",
       "16    differ conspiraci theori realiti usual around ...\n",
       "17    refus wear suit twice entireti matrix attack ....\n",
       "18    first file toast . slowli torn apart . freedom...\n",
       "19    miss day train ruin . mental believ okay miss ...\n",
       "20    peopl longer impress afraid violenc . even you...\n",
       "21    men use conquer foreign land . make money , tr...\n",
       "22    cannot tri chang world expect live peac life ....\n",
       "23       ’ mysogonist want kind love loyal woman ador .\n",
       "24    ’ taught lone wolf . true power man power . tw...\n",
       "25    hundr high-profil case men suffer fals accus ....\n",
       "26    make money peac life . life war . least ’ war ...\n",
       "27    ’ call clown world alway larg part popul belie...\n",
       "28    liber loser . conserv loser . bro - everyon cu...\n",
       "29    You’re not quirky. You’re just ugly and annoyi...\n",
       "Name: message to examine, dtype: object"
      ]
     },
     "execution_count": 48,
     "metadata": {},
     "output_type": "execute_result"
    }
   ],
   "source": [
    "limpiar_texto(hater)"
   ]
  },
  {
   "cell_type": "code",
   "execution_count": 49,
   "id": "14f7e944",
   "metadata": {},
   "outputs": [
    {
     "data": {
      "text/html": [
       "<div>\n",
       "<style scoped>\n",
       "    .dataframe tbody tr th:only-of-type {\n",
       "        vertical-align: middle;\n",
       "    }\n",
       "\n",
       "    .dataframe tbody tr th {\n",
       "        vertical-align: top;\n",
       "    }\n",
       "\n",
       "    .dataframe thead th {\n",
       "        text-align: right;\n",
       "    }\n",
       "</style>\n",
       "<table border=\"1\" class=\"dataframe\">\n",
       "  <thead>\n",
       "    <tr style=\"text-align: right;\">\n",
       "      <th></th>\n",
       "      <th>message to examine</th>\n",
       "      <th>Categoria</th>\n",
       "    </tr>\n",
       "  </thead>\n",
       "  <tbody>\n",
       "    <tr>\n",
       "      <th>0</th>\n",
       "      <td>smart money alway make move .</td>\n",
       "      <td>Contento</td>\n",
       "    </tr>\n",
       "    <tr>\n",
       "      <th>1</th>\n",
       "      <td>thread tweet show realli put jail . spoiler al...</td>\n",
       "      <td>Molesto</td>\n",
       "    </tr>\n",
       "    <tr>\n",
       "      <th>2</th>\n",
       "      <td>death penalti knife crime offenc uk . enough e...</td>\n",
       "      <td>Neutro</td>\n",
       "    </tr>\n",
       "    <tr>\n",
       "      <th>3</th>\n",
       "      <td>would never , ever , ever , get one knee woman...</td>\n",
       "      <td>Neutro</td>\n",
       "    </tr>\n",
       "    <tr>\n",
       "      <th>4</th>\n",
       "      <td>lazi peopl littl work feel like win . winner w...</td>\n",
       "      <td>Contento</td>\n",
       "    </tr>\n",
       "    <tr>\n",
       "      <th>5</th>\n",
       "      <td>they'r go forc carbon credit system us . secre...</td>\n",
       "      <td>Contento</td>\n",
       "    </tr>\n",
       "    <tr>\n",
       "      <th>6</th>\n",
       "      <td>pain head . pain heart . pain torso . pain mi ...</td>\n",
       "      <td>Neutro</td>\n",
       "    </tr>\n",
       "    <tr>\n",
       "      <th>7</th>\n",
       "      <td>turn 50m sell soul . shut certain subject sell...</td>\n",
       "      <td>Molesto</td>\n",
       "    </tr>\n",
       "    <tr>\n",
       "      <th>8</th>\n",
       "      <td>broke , unconnect weak bother deep insid . dee...</td>\n",
       "      <td>Molesto</td>\n",
       "    </tr>\n",
       "    <tr>\n",
       "      <th>9</th>\n",
       "      <td>real gs know nsync made banger . bye bye byeeeeee</td>\n",
       "      <td>Contento</td>\n",
       "    </tr>\n",
       "    <tr>\n",
       "      <th>10</th>\n",
       "      <td>life actual simpl . becom strong rich possibl ...</td>\n",
       "      <td>Contento</td>\n",
       "    </tr>\n",
       "    <tr>\n",
       "      <th>11</th>\n",
       "      <td>life get better get better</td>\n",
       "      <td>Muy feliz</td>\n",
       "    </tr>\n",
       "    <tr>\n",
       "      <th>12</th>\n",
       "      <td>2024 chaotic . hard . also full opportun . run...</td>\n",
       "      <td>Contento</td>\n",
       "    </tr>\n",
       "    <tr>\n",
       "      <th>13</th>\n",
       "      <td>man hate drive bitch . afraid “ stress ” traff...</td>\n",
       "      <td>Molesto</td>\n",
       "    </tr>\n",
       "    <tr>\n",
       "      <th>14</th>\n",
       "      <td>\" better version alreadi walk planet . love li...</td>\n",
       "      <td>Muy feliz</td>\n",
       "    </tr>\n",
       "    <tr>\n",
       "      <th>15</th>\n",
       "      <td>cant explain much want sex hoe .</td>\n",
       "      <td>Contento</td>\n",
       "    </tr>\n",
       "    <tr>\n",
       "      <th>16</th>\n",
       "      <td>differ conspiraci theori realiti usual around ...</td>\n",
       "      <td>Molesto</td>\n",
       "    </tr>\n",
       "    <tr>\n",
       "      <th>17</th>\n",
       "      <td>refus wear suit twice entireti matrix attack ....</td>\n",
       "      <td>Neutro</td>\n",
       "    </tr>\n",
       "    <tr>\n",
       "      <th>18</th>\n",
       "      <td>first file toast . slowli torn apart . freedom...</td>\n",
       "      <td>Contento</td>\n",
       "    </tr>\n",
       "    <tr>\n",
       "      <th>19</th>\n",
       "      <td>miss day train ruin . mental believ okay miss ...</td>\n",
       "      <td>Contento</td>\n",
       "    </tr>\n",
       "    <tr>\n",
       "      <th>20</th>\n",
       "      <td>peopl longer impress afraid violenc . even you...</td>\n",
       "      <td>Hater</td>\n",
       "    </tr>\n",
       "    <tr>\n",
       "      <th>21</th>\n",
       "      <td>men use conquer foreign land . make money , tr...</td>\n",
       "      <td>Molesto</td>\n",
       "    </tr>\n",
       "    <tr>\n",
       "      <th>22</th>\n",
       "      <td>cannot tri chang world expect live peac life ....</td>\n",
       "      <td>Contento</td>\n",
       "    </tr>\n",
       "    <tr>\n",
       "      <th>23</th>\n",
       "      <td>’ mysogonist want kind love loyal woman ador .</td>\n",
       "      <td>Contento</td>\n",
       "    </tr>\n",
       "    <tr>\n",
       "      <th>24</th>\n",
       "      <td>’ taught lone wolf . true power man power . tw...</td>\n",
       "      <td>Contento</td>\n",
       "    </tr>\n",
       "    <tr>\n",
       "      <th>25</th>\n",
       "      <td>hundr high-profil case men suffer fals accus ....</td>\n",
       "      <td>Molesto</td>\n",
       "    </tr>\n",
       "    <tr>\n",
       "      <th>26</th>\n",
       "      <td>make money peac life . life war . least ’ war ...</td>\n",
       "      <td>Molesto</td>\n",
       "    </tr>\n",
       "    <tr>\n",
       "      <th>27</th>\n",
       "      <td>’ call clown world alway larg part popul belie...</td>\n",
       "      <td>Neutro</td>\n",
       "    </tr>\n",
       "    <tr>\n",
       "      <th>28</th>\n",
       "      <td>liber loser . conserv loser . bro - everyon cu...</td>\n",
       "      <td>Neutro</td>\n",
       "    </tr>\n",
       "    <tr>\n",
       "      <th>29</th>\n",
       "      <td>You’re not quirky. You’re just ugly and annoyi...</td>\n",
       "      <td>Molesto</td>\n",
       "    </tr>\n",
       "  </tbody>\n",
       "</table>\n",
       "</div>"
      ],
      "text/plain": [
       "                                   message to examine  Categoria\n",
       "0                       smart money alway make move .   Contento\n",
       "1   thread tweet show realli put jail . spoiler al...    Molesto\n",
       "2   death penalti knife crime offenc uk . enough e...     Neutro\n",
       "3   would never , ever , ever , get one knee woman...     Neutro\n",
       "4   lazi peopl littl work feel like win . winner w...   Contento\n",
       "5   they'r go forc carbon credit system us . secre...   Contento\n",
       "6   pain head . pain heart . pain torso . pain mi ...     Neutro\n",
       "7   turn 50m sell soul . shut certain subject sell...    Molesto\n",
       "8   broke , unconnect weak bother deep insid . dee...    Molesto\n",
       "9   real gs know nsync made banger . bye bye byeeeeee   Contento\n",
       "10  life actual simpl . becom strong rich possibl ...   Contento\n",
       "11                         life get better get better  Muy feliz\n",
       "12  2024 chaotic . hard . also full opportun . run...   Contento\n",
       "13  man hate drive bitch . afraid “ stress ” traff...    Molesto\n",
       "14  \" better version alreadi walk planet . love li...  Muy feliz\n",
       "15                   cant explain much want sex hoe .   Contento\n",
       "16  differ conspiraci theori realiti usual around ...    Molesto\n",
       "17  refus wear suit twice entireti matrix attack ....     Neutro\n",
       "18  first file toast . slowli torn apart . freedom...   Contento\n",
       "19  miss day train ruin . mental believ okay miss ...   Contento\n",
       "20  peopl longer impress afraid violenc . even you...      Hater\n",
       "21  men use conquer foreign land . make money , tr...    Molesto\n",
       "22  cannot tri chang world expect live peac life ....   Contento\n",
       "23     ’ mysogonist want kind love loyal woman ador .   Contento\n",
       "24  ’ taught lone wolf . true power man power . tw...   Contento\n",
       "25  hundr high-profil case men suffer fals accus ....    Molesto\n",
       "26  make money peac life . life war . least ’ war ...    Molesto\n",
       "27  ’ call clown world alway larg part popul belie...     Neutro\n",
       "28  liber loser . conserv loser . bro - everyon cu...     Neutro\n",
       "29  You’re not quirky. You’re just ugly and annoyi...    Molesto"
      ]
     },
     "execution_count": 49,
     "metadata": {},
     "output_type": "execute_result"
    }
   ],
   "source": [
    "hater = clasificador(hater)\n",
    "hater"
   ]
  },
  {
   "cell_type": "code",
   "execution_count": 50,
   "id": "adcaec5f",
   "metadata": {},
   "outputs": [
    {
     "data": {
      "text/plain": [
       "Categoria\n",
       "Contento     12\n",
       "Molesto       9\n",
       "Neutro        6\n",
       "Muy feliz     2\n",
       "Hater         1\n",
       "Name: count, dtype: int64"
      ]
     },
     "execution_count": 50,
     "metadata": {},
     "output_type": "execute_result"
    }
   ],
   "source": [
    "sentimientos_hater = hater[\"Categoria\"].value_counts()\n",
    "sentimientos_hater"
   ]
  },
  {
   "cell_type": "code",
   "execution_count": 51,
   "id": "1531c84e",
   "metadata": {},
   "outputs": [
    {
     "data": {
      "image/png": "[encoded data removed]",
      "text/plain": [
       "<Figure size 640x480 with 1 Axes>"
      ]
     },
     "metadata": {},
     "output_type": "display_data"
    }
   ],
   "source": [
    "import matplotlib.pyplot as plt\n",
    "\n",
    "plt.pie(sentimientos_hater, labels=sentimientos_hater.index, autopct=\"%1.1f%%\")\n",
    "plt.title(\"Análisis de sentimientos\")\n",
    "plt.show()"
   ]
  },
  {
   "cell_type": "markdown",
   "id": "826c1826",
   "metadata": {},
   "source": [
    "#### 1. Persona normal"
   ]
  },
  {
   "cell_type": "code",
   "execution_count": 33,
   "id": "73ac7663",
   "metadata": {},
   "outputs": [
    {
     "data": {
      "text/plain": [
       "0     I often live too far in the future. Wondering ...\n",
       "1     I’m working out to my tennis pre match playlis...\n",
       "2     Thank you for holding the door open for me…. B...\n",
       "3     Today is hair day! I’m braids. I get so excite...\n",
       "4             Dall-e got tired of me asking for images.\n",
       "5                   Butterfingers are so under rated. 🍫\n",
       "6     Starting to collect match-worn jerseys. thanks...\n",
       "7                                 Back to work we go ….\n",
       "8                                This makes me so happy\n",
       "9     I am not ok today. And that’s ok to not be ok....\n",
       "10    Orange slices (you know the candy) are my kryp...\n",
       "11    You ever get so tired your brain stops working...\n",
       "12    Having 2 kids is def not easy. How do you moms...\n",
       "13    Have you ever wanted to start your work out bu...\n",
       "14    It’s unhealthy on how excited I am for the new...\n",
       "15    I’m not used to working out with no goal or to...\n",
       "16                                8 is a better number.\n",
       "17     My new fragrance is “old spoiled milk”. #momlife\n",
       "18    Proud to share an exclusive look at my newest ...\n",
       "19    Me and Jelly Bean #BTS shooting a spot with @l...\n",
       "20    Meet football’s unsung heroes. Witnessed by re...\n",
       "21    The big reveal is now live on YouTube! Did you...\n",
       "22         It’s official I can no longer see my feet 🤰🏿\n",
       "23    Just a casual Bathroom selfie….Enjoy Chip (my ...\n",
       "24    Nice lady: I love your hair Me: Awww Thanks! O...\n",
       "25    I was at a book store the other day and someon...\n",
       "26    On our weekly @SerenaVentures call. Looking at...\n",
       "27    Ok it’s final. I have to give up spicy food #p...\n",
       "28    Some people cry not because they are weak… but...\n",
       "29    Milk free rocky road ice cream recommendations...\n",
       "Name: Texto, dtype: object"
      ]
     },
     "execution_count": 33,
     "metadata": {},
     "output_type": "execute_result"
    }
   ],
   "source": [
    "normal = pd.read_csv('Tweets_normal_examen.csv', delimiter=\";\")\n",
    "normal = normal[\"Texto\"]\n",
    "normal"
   ]
  },
  {
   "cell_type": "code",
   "execution_count": 34,
   "id": "b96bb41e",
   "metadata": {},
   "outputs": [
    {
     "data": {
      "text/plain": [
       "0     often live far futur . wonder feel tomorrow 10...\n",
       "1     ’ work tenni pre match playlist … aiiiii get p...\n",
       "2     thank hold door open … . ’ footbal field away ...\n",
       "3     today hair day ! ’ braid . get excit hair day ...\n",
       "4                             dall- got tire ask imag .\n",
       "5                                     butterfing rate .\n",
       "6     start collect match-worn jersey . thank ’ say ...\n",
       "7                                      back work go … .\n",
       "8                                            make happi\n",
       "9     ok today . ’ ok ok . one ok everi singl day . ...\n",
       "10               orang slice ( know candi ) kryptonit .\n",
       "11    ever get tire brain stop work ’ think basic th...\n",
       "12    2 kid def easi . mom / dad well ! ! ! ? ? ? es...\n",
       "13    ever want start work sudden rememb list … . do...\n",
       "14    ’ unhealthi excit new * nsync music troll movi...\n",
       "15    ’ use work goal honest - championship mind . s...\n",
       "16                                    8 better number .\n",
       "17                    new fragranc “ old spoil milk ” .\n",
       "18    proud share exclus look newest project . ’ sto...\n",
       "19    jelli bean shoot spot . feel seren summer ligh...\n",
       "20    meet footbal ’ unsung hero . wit record crowd ...\n",
       "21               big reveal live youtub ! guess right ?\n",
       "22                             ’ offici longer see feet\n",
       "23       casual bathroom selfi … . enjoy chip ( dog ) )\n",
       "24    nice ladi : love hair : awww thank ! olympia :...\n",
       "25        book store day someon came said retir earli …\n",
       "26                week call . look new compani invest .\n",
       "27                         ok ’ final . give spici food\n",
       "28                       peopl cri weak … strong long .\n",
       "29    Milk free rocky road ice cream recommendations...\n",
       "Name: Texto, dtype: object"
      ]
     },
     "execution_count": 34,
     "metadata": {},
     "output_type": "execute_result"
    }
   ],
   "source": [
    "limpiar_texto(normal)"
   ]
  },
  {
   "cell_type": "code",
   "execution_count": 35,
   "id": "99b12980",
   "metadata": {},
   "outputs": [
    {
     "data": {
      "text/html": [
       "<div>\n",
       "<style scoped>\n",
       "    .dataframe tbody tr th:only-of-type {\n",
       "        vertical-align: middle;\n",
       "    }\n",
       "\n",
       "    .dataframe tbody tr th {\n",
       "        vertical-align: top;\n",
       "    }\n",
       "\n",
       "    .dataframe thead th {\n",
       "        text-align: right;\n",
       "    }\n",
       "</style>\n",
       "<table border=\"1\" class=\"dataframe\">\n",
       "  <thead>\n",
       "    <tr style=\"text-align: right;\">\n",
       "      <th></th>\n",
       "      <th>Texto</th>\n",
       "      <th>Categoria</th>\n",
       "    </tr>\n",
       "  </thead>\n",
       "  <tbody>\n",
       "    <tr>\n",
       "      <th>0</th>\n",
       "      <td>often live far futur . wonder feel tomorrow 10...</td>\n",
       "      <td>Contento</td>\n",
       "    </tr>\n",
       "    <tr>\n",
       "      <th>1</th>\n",
       "      <td>’ work tenni pre match playlist … aiiiii get p...</td>\n",
       "      <td>Contento</td>\n",
       "    </tr>\n",
       "    <tr>\n",
       "      <th>2</th>\n",
       "      <td>thank hold door open … . ’ footbal field away ...</td>\n",
       "      <td>Neutro</td>\n",
       "    </tr>\n",
       "    <tr>\n",
       "      <th>3</th>\n",
       "      <td>today hair day ! ’ braid . get excit hair day ...</td>\n",
       "      <td>Muy feliz</td>\n",
       "    </tr>\n",
       "    <tr>\n",
       "      <th>4</th>\n",
       "      <td>dall- got tire ask imag .</td>\n",
       "      <td>Neutro</td>\n",
       "    </tr>\n",
       "    <tr>\n",
       "      <th>5</th>\n",
       "      <td>butterfing rate .</td>\n",
       "      <td>Neutro</td>\n",
       "    </tr>\n",
       "    <tr>\n",
       "      <th>6</th>\n",
       "      <td>start collect match-worn jersey . thank ’ say ...</td>\n",
       "      <td>Contento</td>\n",
       "    </tr>\n",
       "    <tr>\n",
       "      <th>7</th>\n",
       "      <td>back work go … .</td>\n",
       "      <td>Neutro</td>\n",
       "    </tr>\n",
       "    <tr>\n",
       "      <th>8</th>\n",
       "      <td>make happi</td>\n",
       "      <td>Neutro</td>\n",
       "    </tr>\n",
       "    <tr>\n",
       "      <th>9</th>\n",
       "      <td>ok today . ’ ok ok . one ok everi singl day . ...</td>\n",
       "      <td>Muy feliz</td>\n",
       "    </tr>\n",
       "    <tr>\n",
       "      <th>10</th>\n",
       "      <td>orang slice ( know candi ) kryptonit .</td>\n",
       "      <td>Neutro</td>\n",
       "    </tr>\n",
       "    <tr>\n",
       "      <th>11</th>\n",
       "      <td>ever get tire brain stop work ’ think basic th...</td>\n",
       "      <td>Neutro</td>\n",
       "    </tr>\n",
       "    <tr>\n",
       "      <th>12</th>\n",
       "      <td>2 kid def easi . mom / dad well ! ! ! ? ? ? es...</td>\n",
       "      <td>Hater</td>\n",
       "    </tr>\n",
       "    <tr>\n",
       "      <th>13</th>\n",
       "      <td>ever want start work sudden rememb list … . do...</td>\n",
       "      <td>Contento</td>\n",
       "    </tr>\n",
       "    <tr>\n",
       "      <th>14</th>\n",
       "      <td>’ unhealthi excit new * nsync music troll movi...</td>\n",
       "      <td>Contento</td>\n",
       "    </tr>\n",
       "    <tr>\n",
       "      <th>15</th>\n",
       "      <td>’ use work goal honest - championship mind . s...</td>\n",
       "      <td>Contento</td>\n",
       "    </tr>\n",
       "    <tr>\n",
       "      <th>16</th>\n",
       "      <td>8 better number .</td>\n",
       "      <td>Muy feliz</td>\n",
       "    </tr>\n",
       "    <tr>\n",
       "      <th>17</th>\n",
       "      <td>new fragranc “ old spoil milk ” .</td>\n",
       "      <td>Contento</td>\n",
       "    </tr>\n",
       "    <tr>\n",
       "      <th>18</th>\n",
       "      <td>proud share exclus look newest project . ’ sto...</td>\n",
       "      <td>Muy feliz</td>\n",
       "    </tr>\n",
       "    <tr>\n",
       "      <th>19</th>\n",
       "      <td>jelli bean shoot spot . feel seren summer ligh...</td>\n",
       "      <td>Contento</td>\n",
       "    </tr>\n",
       "    <tr>\n",
       "      <th>20</th>\n",
       "      <td>meet footbal ’ unsung hero . wit record crowd ...</td>\n",
       "      <td>Contento</td>\n",
       "    </tr>\n",
       "    <tr>\n",
       "      <th>21</th>\n",
       "      <td>big reveal live youtub ! guess right ?</td>\n",
       "      <td>Contento</td>\n",
       "    </tr>\n",
       "    <tr>\n",
       "      <th>22</th>\n",
       "      <td>’ offici longer see feet</td>\n",
       "      <td>Neutro</td>\n",
       "    </tr>\n",
       "    <tr>\n",
       "      <th>23</th>\n",
       "      <td>casual bathroom selfi … . enjoy chip ( dog ) )</td>\n",
       "      <td>Molesto</td>\n",
       "    </tr>\n",
       "    <tr>\n",
       "      <th>24</th>\n",
       "      <td>nice ladi : love hair : awww thank ! olympia :...</td>\n",
       "      <td>Muy feliz</td>\n",
       "    </tr>\n",
       "    <tr>\n",
       "      <th>25</th>\n",
       "      <td>book store day someon came said retir earli …</td>\n",
       "      <td>Neutro</td>\n",
       "    </tr>\n",
       "    <tr>\n",
       "      <th>26</th>\n",
       "      <td>week call . look new compani invest .</td>\n",
       "      <td>Contento</td>\n",
       "    </tr>\n",
       "    <tr>\n",
       "      <th>27</th>\n",
       "      <td>ok ’ final . give spici food</td>\n",
       "      <td>Contento</td>\n",
       "    </tr>\n",
       "    <tr>\n",
       "      <th>28</th>\n",
       "      <td>peopl cri weak … strong long .</td>\n",
       "      <td>Contento</td>\n",
       "    </tr>\n",
       "    <tr>\n",
       "      <th>29</th>\n",
       "      <td>Milk free rocky road ice cream recommendations...</td>\n",
       "      <td>Contento</td>\n",
       "    </tr>\n",
       "  </tbody>\n",
       "</table>\n",
       "</div>"
      ],
      "text/plain": [
       "                                                Texto  Categoria\n",
       "0   often live far futur . wonder feel tomorrow 10...   Contento\n",
       "1   ’ work tenni pre match playlist … aiiiii get p...   Contento\n",
       "2   thank hold door open … . ’ footbal field away ...     Neutro\n",
       "3   today hair day ! ’ braid . get excit hair day ...  Muy feliz\n",
       "4                           dall- got tire ask imag .     Neutro\n",
       "5                                   butterfing rate .     Neutro\n",
       "6   start collect match-worn jersey . thank ’ say ...   Contento\n",
       "7                                    back work go … .     Neutro\n",
       "8                                          make happi     Neutro\n",
       "9   ok today . ’ ok ok . one ok everi singl day . ...  Muy feliz\n",
       "10             orang slice ( know candi ) kryptonit .     Neutro\n",
       "11  ever get tire brain stop work ’ think basic th...     Neutro\n",
       "12  2 kid def easi . mom / dad well ! ! ! ? ? ? es...      Hater\n",
       "13  ever want start work sudden rememb list … . do...   Contento\n",
       "14  ’ unhealthi excit new * nsync music troll movi...   Contento\n",
       "15  ’ use work goal honest - championship mind . s...   Contento\n",
       "16                                  8 better number .  Muy feliz\n",
       "17                  new fragranc “ old spoil milk ” .   Contento\n",
       "18  proud share exclus look newest project . ’ sto...  Muy feliz\n",
       "19  jelli bean shoot spot . feel seren summer ligh...   Contento\n",
       "20  meet footbal ’ unsung hero . wit record crowd ...   Contento\n",
       "21             big reveal live youtub ! guess right ?   Contento\n",
       "22                           ’ offici longer see feet     Neutro\n",
       "23     casual bathroom selfi … . enjoy chip ( dog ) )    Molesto\n",
       "24  nice ladi : love hair : awww thank ! olympia :...  Muy feliz\n",
       "25      book store day someon came said retir earli …     Neutro\n",
       "26              week call . look new compani invest .   Contento\n",
       "27                       ok ’ final . give spici food   Contento\n",
       "28                     peopl cri weak … strong long .   Contento\n",
       "29  Milk free rocky road ice cream recommendations...   Contento"
      ]
     },
     "execution_count": 35,
     "metadata": {},
     "output_type": "execute_result"
    }
   ],
   "source": [
    "normal = clasificador(normal)\n",
    "normal"
   ]
  },
  {
   "cell_type": "code",
   "execution_count": 36,
   "id": "69557f3a",
   "metadata": {},
   "outputs": [
    {
     "data": {
      "text/plain": [
       "Categoria\n",
       "Contento     14\n",
       "Neutro        9\n",
       "Muy feliz     5\n",
       "Hater         1\n",
       "Molesto       1\n",
       "Name: count, dtype: int64"
      ]
     },
     "execution_count": 36,
     "metadata": {},
     "output_type": "execute_result"
    }
   ],
   "source": [
    "sentimientos_normal = normal[\"Categoria\"].value_counts()\n",
    "sentimientos_normal"
   ]
  },
  {
   "cell_type": "code",
   "execution_count": 38,
   "id": "11cee39e",
   "metadata": {},
   "outputs": [
    {
     "data": {
      "image/png": "[encoded data removed]",
      "text/plain": [
       "<Figure size 640x480 with 1 Axes>"
      ]
     },
     "metadata": {},
     "output_type": "display_data"
    }
   ],
   "source": [
    "plt.pie(sentimientos_normal, labels=sentimientos_normal.index, autopct=\"%1.1f%%\")\n",
    "plt.title(\"Análisis de sentimientos\")\n",
    "plt.show()"
   ]
  },
  {
   "cell_type": "code",
   "execution_count": null,
   "id": "16d92eb4",
   "metadata": {},
   "outputs": [],
   "source": []
  },
  {
   "cell_type": "code",
   "execution_count": null,
   "id": "63c4a08d",
   "metadata": {},
   "outputs": [],
   "source": []
  }
 ],
 "metadata": {
  "kernelspec": {
   "display_name": "Python 3 (ipykernel)",
   "language": "python",
   "name": "python3"
  },
  "language_info": {
   "codemirror_mode": {
    "name": "ipython",
    "version": 3
   },
   "file_extension": ".py",
   "mimetype": "text/x-python",
   "name": "python",
   "nbconvert_exporter": "python",
   "pygments_lexer": "ipython3",
   "version": "3.11.5"
  }
 },
 "nbformat": 4,
 "nbformat_minor": 5
}
