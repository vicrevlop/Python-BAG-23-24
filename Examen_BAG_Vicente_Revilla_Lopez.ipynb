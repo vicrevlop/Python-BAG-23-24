{
 "cells": [
  {
   "cell_type": "markdown",
   "id": "31ec2830",
   "metadata": {},
   "source": [
    "# Examen BAG 2023-2024. Vicente Revilla López"
   ]
  },
  {
   "cell_type": "markdown",
   "id": "a3fd0657",
   "metadata": {},
   "source": [
    "## Ejercicio 1: Recopilación de datos. (1p)\n",
    "\n",
    "Se deben recopilar más de 5000 tweets en inglés que puedan tener un sentimiento positivo, \n",
    "negativo o neutro. Procurar mantener en la medida de lo posible una proporción equilibrada. Para la\n",
    "recopilación de los datos se puede hacer de forma manual (no recomendable) o usar un dataset de \n",
    "tweets de la base de datos Kaggle (OJO! Que el texto no esté ya pre-procesado). Los tweets \n",
    "recopilados se deben almacenar en un archivo CSV que se debe leer con pandas. Muestra en el \n",
    "notebook las primeras 5 filas de la tabla leída."
   ]
  },
  {
   "cell_type": "code",
   "execution_count": 1,
   "id": "a7b43573",
   "metadata": {},
   "outputs": [],
   "source": [
    "#Se cargan todas las librerías que vamos a usar.\n",
    "\n",
    "import pandas as pd\n",
    "import numpy as np\n",
    "from sklearn.model_selection import train_test_split\n",
    "from sklearn.feature_extraction.text import CountVectorizer\n",
    "from sklearn.naive_bayes import MultinomialNB\n",
    "from sklearn.metrics import accuracy_score, classification_report, confusion_matrix\n",
    "from sklearn.pipeline import make_pipeline\n",
    "\n",
    "import nltk\n",
    "from nltk.corpus import stopwords\n",
    "from nltk.stem import PorterStemmer\n",
    "from nltk.tokenize import TweetTokenizer\n",
    "import re\n",
    "from nltk.stem import SnowballStemmer\n",
    "from textblob import TextBlob"
   ]
  },
  {
   "cell_type": "code",
   "execution_count": 2,
   "id": "e370783e",
   "metadata": {},
   "outputs": [
    {
     "data": {
      "text/plain": [
       "0                  @VirginAmerica What @dhepburn said.\n",
       "1    @VirginAmerica plus you've added commercials t...\n",
       "2    @VirginAmerica I didn't today... Must mean I n...\n",
       "3    @VirginAmerica it's really aggressive to blast...\n",
       "4    @VirginAmerica and it's a really big bad thing...\n",
       "Name: text, dtype: object"
      ]
     },
     "execution_count": 2,
     "metadata": {},
     "output_type": "execute_result"
    }
   ],
   "source": [
    "# Para este ejercicio he usado un conjunto de datos descargado de la base de datos Kaggle, almacenado en un archivo CSV bajo\n",
    "# el nombre de \"Tweets.csv\". Lo leemos con la función read_csv de pandas y nos quedamos únicamente con la columna \"text\", que\n",
    "# contiene los mensajes de texto. Usando la función .head mostramos por pantalla las primeras 5 líneas del dataset.\n",
    "\n",
    "tweets = pd.read_csv('Tweets.csv')\n",
    "tweets=tweets[\"text\"]\n",
    "tweets.head(5)"
   ]
  },
  {
   "cell_type": "markdown",
   "id": "9e3444d2",
   "metadata": {},
   "source": [
    "## Ejercicio 2: Limpieza del texto, eliminar las palabras que no aportan información. (2p)\n",
    "\n",
    "Crear una función limpiar_texto que toma un dataset como entrada y realiza una serie de \n",
    "pasos de preprocesamiento para limpiar y estructurar el texto de manera que sea más adecuado para \n",
    "tareas de procesamiento de lenguaje natural (NLP). \n",
    "Para cada línea de texto del data set, la función debe:\n",
    "* Eliminar menciones, hashtags y URLs del texto. Pista: la función re.sub() puede ser útil.\n",
    "* Convertir el texto en minúscula.\n",
    "* Separa las palabras dentro del tweet como elementos de una lista. A este proceso se le llama tokenización, investiga cómo hacerlo con la función TweetTokenizer() incluida en NLTK.\n",
    "* Para cada una de las palabras en esa lista generada:\n",
    "    * Eliminar las palabras comunes y poco informativas (conocidas como stop words). Usa la recopilación de stop words que ya existe en NLTK (accede a ellas con stopwords.words() seleccionando inglés como idioma).\n",
    "    * Utilizar técnicas de lematización (stemming). Investiga qué son y usa el modelo SnowballStemmer() que ya incluye NLTK para stemming.\n",
    "* Transformar la lista final en una cadena de caracteres de nuevo. Cada palabra debe estar separada por un espacio y ese texto debe sustituir al original en la tabla del dataset."
   ]
  },
  {
   "cell_type": "code",
   "execution_count": 3,
   "id": "6ed7818e",
   "metadata": {},
   "outputs": [],
   "source": [
    "def limpiar_texto(dataset):\n",
    "    for n in range(0,len(dataset)):\n",
    "        texto_limpio = re.sub(r\"@\\w+|#\\w+|https?://\\S+|www\\.\\S+|[\\U0001F600-\\U0001F64F\\U0001F300-\\U0001F5FF\\U0001F680-\\U0001F6FF\\U0001F700-\\U0001F77F\\U0001F780-\\U0001F7FF\\U0001F800-\\U0001F8FF\\U0001F900-\\U0001F9FF\\U0001FA00-\\U0001FA6F\\U0001FA70-\\U0001FAFF\\U00002702-\\U000027B0\\U000024C2-\\U0001F251]+\",\"\",dataset[n])\n",
    "        texto_minusculas = texto_limpio.lower()\n",
    "        tokenizer = TweetTokenizer()\n",
    "        texto_separado = tokenizer.tokenize(texto_minusculas)\n",
    "        \n",
    "        stop_words = set(stopwords.words('english'))\n",
    "        texto_filtrado = []\n",
    "        for palabra in texto_separado:\n",
    "            if palabra not in stop_words:\n",
    "                texto_filtrado.append(palabra)\n",
    "            \n",
    "            lematizacion = SnowballStemmer(\"english\")\n",
    "            lexemas = []\n",
    "            for palabra in texto_filtrado:\n",
    "                lexema = lematizacion.stem(palabra)\n",
    "                lexemas.append(lexema)\n",
    "        \n",
    "        texto_final = \" \".join(lexemas)\n",
    "        dataset[n]=texto_final\n",
    "    \n",
    "    return dataset\n",
    "                \n",
    "# Para crear esta función recorremos un bucle para cada fila (n) del dataset dentro del cual aplicamos las siguientes funciones:\n",
    "#   1. Con re.sub eliminamos hashtags (#), menciones (@) y URLs (https,www) del texto; especificando los argumentos requeridos\n",
    "#      para eliminar cada cosa. También he eliminado los emoticonos mediante un código sacado de internet (U0001F600......).\n",
    "#   2. Con la función .lower transformamos el texto resultante en todo minúsculas.\n",
    "#   3. Con la función .tokenize de la herramienta TweetTokenizer() separamos cada palabra del texto como elementos de una lista\n",
    "#   4. A continuación, creamos una lista vacía para ir guardando cada palabra relevante de los tweets en ella. Para discriminar\n",
    "#      entre palabras relevantes e irrelevantes creamos una especie de diccionario (en inglés) de palabras no informativas con \n",
    "#      la función stopwords.words, y recorremos la totalidad del texto palabra por palabra filtrando sólo aquellas que \n",
    "#      NO aparezcan en la lista de palabras irrelevantes. Esto lo hacemos con un condicional y con la función .append().\n",
    "#   5. Además, al mismo tiempo que filtramos las palabras, aquellas que pasen la criba las lematizamos utilizando la función\n",
    "#      .stem de la herramienta SnowballStemmer(). Con lematizar nos referimos a eliminar prefijos y sufijos poco informativos\n",
    "#      para quedarnos con la raíz (lexema) de la palabra.\n",
    "#   6. Una vez hecho esto último, almacenamos el resultado final (el tweet procesado de la fila n) y lo sustituimos en el\n",
    "#      dataset original.\n",
    "# Como cada fila equivale a un tweet, esta función procesará cada tweet de manera independiente hasta hacerlo con todos los del\n",
    "# dataset, para luego sobreescribir fila por fila el resultado sobre el dataset primitivo."
   ]
  },
  {
   "cell_type": "code",
   "execution_count": 4,
   "id": "095856f4",
   "metadata": {},
   "outputs": [
    {
     "data": {
      "text/plain": [
       "0                                                   said .\n",
       "1                      plus ad commerci experi ... tacki .\n",
       "2               today ... must mean need take anoth trip !\n",
       "3        realli aggress blast obnoxi \" entertain \" gues...\n",
       "4                                     realli big bad thing\n",
       "                               ...                        \n",
       "14635                    thank got differ flight chicago .\n",
       "14636    leav 20 minut late flight . warn communic 15 m...\n",
       "14637                          pleas bring american airlin\n",
       "14638    money , chang flight , answer phone ! suggest ...\n",
       "14639    8 ppl need 2 know mani seat next flight . plz ...\n",
       "Name: text, Length: 14640, dtype: object"
      ]
     },
     "execution_count": 4,
     "metadata": {},
     "output_type": "execute_result"
    }
   ],
   "source": [
    "limpiar_texto(tweets)"
   ]
  },
  {
   "cell_type": "markdown",
   "id": "a154c08b",
   "metadata": {},
   "source": [
    "## Ejercicio3: Etiquetado de datos con herramientas ya existentes. (2p)\n",
    "El objetivo principal de esta función es asignar la categoría de sentimiento correspondiente usando modelos existentes como TextBlob. TextBlob asigna una puntuación de polaridad al texto, donde valores positivos indican sentimientos positivos y valores negativos indican sentimientos negativos. La intención del proyecto es usar los modelos ya existentes para crear el dataset de entrenamiento necesario para entrenar nuestro propio modelo e intentar que funcione mejor que los ya existentes. Define una función llamada clasificador que toma el dataset con el texto procesado y limpio como entrada. El resultado de este proceso debe almacenarse en un archivo CSV con dos columnas: una para la frase o texto y otra para la etiqueta correspondiente.\n",
    "* Para cada línea de texto del data set, la función debe:\n",
    "    * Utilizar el modelo TextBlob para realizar un análisis de sentimiento. Investiga cómo hacerlo.\n",
    "    * En función de la polaridad calculada, clasificar el sentimiento en categorías específicas. Las categorías deben incluir \"Contento\", \"Muy feliz\", \"Neutro\", \"Molesto\" y \"Hater\".\n",
    "* Finalmente, guardar los resultados como una columna nueva en el dataset."
   ]
  },
  {
   "cell_type": "code",
   "execution_count": 5,
   "id": "6e28113d",
   "metadata": {},
   "outputs": [],
   "source": [
    "def clasificador(data):\n",
    "    categorias = []\n",
    "    for fila in data:\n",
    "        blob = TextBlob(fila)\n",
    "        polaridad = blob.sentiment.polarity\n",
    "        if polaridad == 0:\n",
    "            categoria = \"Neutro\"\n",
    "        elif polaridad > 0 and polaridad < 0.5:\n",
    "            categoria = \"Contento\"\n",
    "        elif polaridad >= 0.5:\n",
    "            categoria = \"Muy feliz\"\n",
    "        elif polaridad < 0 and polaridad > -0.5:\n",
    "            categoria = \"Molesto\"\n",
    "        elif polaridad <= -0.5:\n",
    "            categoria = \"Hater\"\n",
    "        \n",
    "        categorias.append(categoria)\n",
    "    \n",
    "    data_frame = pd.DataFrame(data)\n",
    "    data_frame[\"Categoria\"] = categorias\n",
    "    \n",
    "    return data_frame\n",
    "    \n",
    "# Para crear esta función primero generamos una lista vacía de las categorías sentimentales. Recorremos un bucle para cada fila\n",
    "# (tweet) del dataset.\n",
    "#   1. Con el modelo de sentimiento TextBlob() calculamos la polaridad de cada tweet. La polaridad es un parámetro que puede\n",
    "#      tomar cualquier valor entre -1 y 1; que nos va a indicar el sentimiento del texto. Típicamente, si la polaridad es\n",
    "#      negativa, el texto emana negatividad; si es positiva, positividad; y si vale 0, neutralidad.\n",
    "#   2. Sabiendo esto, mediante un condicional múltiple podemos clasificar cada tweet en función de su polaridad:\n",
    "#        a. Si la polaridad vale exactamente 0, etiqueta el tweet como \"Neutro\".\n",
    "#        b. Si la polaridad vale entre (0,0.5), etiqueta el tweet como \"Contento\".\n",
    "#        c. Si la polaridad vale entre [0.5,1], etiqueta el tweet como \"Muy feliz\".\n",
    "#        d. Si la polaridad vale entre (-0.5,0), etiqueta el tweet como \"Molesto\".\n",
    "#        e. Si la polaridad vale entre [-1,-0.5], etiqueta el tweet como \"Hater\".\n",
    "#      Una vez el tweet (n) ha sido etiquetado, se almacena su categoría en la lista vacía creada al principio mediante la \n",
    "#      función .append. Como la función hará esto para cada tweet (fila), la lista final contendrá la categoría de cada tweet\n",
    "#      ordenada correctamente.\n",
    "#   3. Finalmente, convertimos el dataset que contiene los tweets en un Data Frame (función pd.DataFrame) y le añadimos la\n",
    "#      lista con las categorías, creando una nueva columna en el dataset llamada \"Categoria\". Esto es posible pues ambas\n",
    "#      columnas tienen el mismo número de datos (cada tweet con su categoría)."
   ]
  },
  {
   "cell_type": "code",
   "execution_count": 6,
   "id": "c27999a2",
   "metadata": {},
   "outputs": [],
   "source": [
    "tweets = clasificador(tweets)"
   ]
  },
  {
   "cell_type": "code",
   "execution_count": 7,
   "id": "5c9a2d4f",
   "metadata": {},
   "outputs": [
    {
     "data": {
      "text/html": [
       "<div>\n",
       "<style scoped>\n",
       "    .dataframe tbody tr th:only-of-type {\n",
       "        vertical-align: middle;\n",
       "    }\n",
       "\n",
       "    .dataframe tbody tr th {\n",
       "        vertical-align: top;\n",
       "    }\n",
       "\n",
       "    .dataframe thead th {\n",
       "        text-align: right;\n",
       "    }\n",
       "</style>\n",
       "<table border=\"1\" class=\"dataframe\">\n",
       "  <thead>\n",
       "    <tr style=\"text-align: right;\">\n",
       "      <th></th>\n",
       "      <th>text</th>\n",
       "      <th>Categoria</th>\n",
       "    </tr>\n",
       "  </thead>\n",
       "  <tbody>\n",
       "    <tr>\n",
       "      <th>0</th>\n",
       "      <td>said .</td>\n",
       "      <td>Neutro</td>\n",
       "    </tr>\n",
       "    <tr>\n",
       "      <th>1</th>\n",
       "      <td>plus ad commerci experi ... tacki .</td>\n",
       "      <td>Neutro</td>\n",
       "    </tr>\n",
       "    <tr>\n",
       "      <th>2</th>\n",
       "      <td>today ... must mean need take anoth trip !</td>\n",
       "      <td>Molesto</td>\n",
       "    </tr>\n",
       "    <tr>\n",
       "      <th>3</th>\n",
       "      <td>realli aggress blast obnoxi \" entertain \" gues...</td>\n",
       "      <td>Neutro</td>\n",
       "    </tr>\n",
       "    <tr>\n",
       "      <th>4</th>\n",
       "      <td>realli big bad thing</td>\n",
       "      <td>Molesto</td>\n",
       "    </tr>\n",
       "  </tbody>\n",
       "</table>\n",
       "</div>"
      ],
      "text/plain": [
       "                                                text Categoria\n",
       "0                                             said .    Neutro\n",
       "1                plus ad commerci experi ... tacki .    Neutro\n",
       "2         today ... must mean need take anoth trip !   Molesto\n",
       "3  realli aggress blast obnoxi \" entertain \" gues...    Neutro\n",
       "4                               realli big bad thing   Molesto"
      ]
     },
     "execution_count": 7,
     "metadata": {},
     "output_type": "execute_result"
    }
   ],
   "source": [
    "tweets.head(5)"
   ]
  },
  {
   "cell_type": "markdown",
   "id": "af5e66e7",
   "metadata": {},
   "source": [
    "## Ejercicio4: Codificación de los atributos y objetivos. (1p)\n",
    "Investiga cómo funciona CountVectorizer () e investiga si existe otro codificador que se ajuste mejor a tu tarea. Una vez codificado, separa el conjunto de entrenamiento del conjunto de prueba."
   ]
  },
  {
   "cell_type": "code",
   "execution_count": 8,
   "id": "cdd9b5f2",
   "metadata": {},
   "outputs": [],
   "source": [
    "# Codificación de atributos y objetivos:\n",
    "# Convertimos los datos discretos (texto) a números enteros para poder trabajar con ellos mediante sklearn. Definimos los\n",
    "# atributos como el texto de los tweets, y los objetivos como las categorías de los tweets. Para codificarlos utilizamos la\n",
    "# función .fit_transform, pero para los atributos aplicamos la herramienta CountVectorizer() y para los objetivos aplicamos\n",
    "# LabelEncoder(), pues ambos son los codificadores que mejor se ajustan para sus respectivos datos.\n",
    "\n",
    "atributos = tweets[\"text\"]\n",
    "objetivo = tweets[\"Categoria\"]\n",
    "\n",
    "vectorizer = CountVectorizer()\n",
    "atributos_codificados = vectorizer.fit_transform(atributos)\n",
    "\n",
    "from sklearn import preprocessing\n",
    "label_encoder = preprocessing.LabelEncoder()\n",
    "objetivo_codificado = label_encoder.fit_transform(objetivo)"
   ]
  },
  {
   "cell_type": "code",
   "execution_count": 9,
   "id": "8a42179b",
   "metadata": {},
   "outputs": [],
   "source": [
    "# Separación conjunto de entrenamiento y de prueba:\n",
    "# Una vez codificadas las variables, es necesario separar el conjunto de datos en dos: un conjunto de entrenamiento, que se \n",
    "# usará para construir los distintos modelos; y un conjunto de prueba, que se usará para comparar dichos modelos.\n",
    "# Esto lo llevamos a cabo mediante la función train_test_split, especificando como argumentos nuestros datos codificados,\n",
    "# un valor de semilla aleatoria adecuado para que el muestreo sea reproducible a pesar de ser aleatorio (random_state), el \n",
    "# tamaño del conjunto de prueba (test_size), y estratificamos respecto a la distribución de valores en la variable objetivo\n",
    "# (stratify).\n",
    "\n",
    "(atributos_entrenamiento, atributos_prueba, objetivo_entrenamiento, objetivo_prueba) = train_test_split(atributos_codificados, \n",
    "                                                                                                        objetivo_codificado, \n",
    "                                                                                                        random_state=12345, \n",
    "                                                                                                        test_size=0.2, \n",
    "                                                                                                        stratify=objetivo_codificado)"
   ]
  },
  {
   "cell_type": "markdown",
   "id": "7fe680ee",
   "metadata": {},
   "source": [
    "## Ejercicio5: Entrenamiento del modelo. (2p)\n",
    "Entrena un modelo Naive Bayes y otro de tu elección. Investiga sobre qué versiones de cada modelo es más adecuada para la tarea a realizar. Calcula el porcentaje de acierto del modelo entrenado. Si el porcentaje de acierto está por debajo del 70%, vuelve atrás e intenta mejorar este resultado."
   ]
  },
  {
   "cell_type": "code",
   "execution_count": 10,
   "id": "6a2cabe1",
   "metadata": {},
   "outputs": [
    {
     "name": "stdout",
     "output_type": "stream",
     "text": [
      "La precisión del modelo Naive Bayes desarrollado es: 78.72267759562843 %\n"
     ]
    }
   ],
   "source": [
    "#Modelo Naive Bayes\n",
    "naive_bayes = MultinomialNB(alpha=1.0)\n",
    "naive_bayes.fit(atributos_entrenamiento, objetivo_entrenamiento)\n",
    "\n",
    "#Realizar las predicciones con el conjunto de prueba\n",
    "predicciones_nb = naive_bayes.predict(atributos_prueba)\n",
    "#Calcular la precisión del modelo\n",
    "precision_nb = naive_bayes.score(atributos_prueba, objetivo_prueba)\n",
    "print(\"La precisión del modelo Naive Bayes desarrollado es:\", precision_nb*100, \"%\")"
   ]
  },
  {
   "cell_type": "code",
   "execution_count": 11,
   "id": "ef8b3cde",
   "metadata": {},
   "outputs": [
    {
     "name": "stdout",
     "output_type": "stream",
     "text": [
      "La precisión del modelo de regresión logística desarrollado es: 89.03688524590164 %\n"
     ]
    }
   ],
   "source": [
    "#Modelo de mi elección: modelo de regresión logística -> 'LogisticRegression'. Investigando sobre posibles modelos, el que\n",
    "# mejor se ajusta a la tarea que estamos realizando es el modelo de regresión logística, pues es un modelo que ofrece buenos\n",
    "# resultados para análisis tanto binarios como multinomiales. En este caso, al ser multinomial, hay que especificarlo con el\n",
    "# argumento multi_class.\n",
    "\n",
    "from sklearn.linear_model import LogisticRegression\n",
    "\n",
    "regresion_logistica = LogisticRegression(max_iter=1000, multi_class='multinomial', solver='lbfgs')\n",
    "regresion_logistica.fit(atributos_entrenamiento, objetivo_entrenamiento)\n",
    "\n",
    "#Realiza las predicciones con el conjunto de prueba\n",
    "predicciones_relog = regresion_logistica.predict(atributos_prueba)\n",
    "#Calcular la precisión del modelo\n",
    "precision_relog = regresion_logistica.score(atributos_prueba, objetivo_prueba)\n",
    "print(\"La precisión del modelo de regresión logística desarrollado es:\", precision_relog*100, \"%\")"
   ]
  },
  {
   "cell_type": "markdown",
   "id": "5925eaed",
   "metadata": {},
   "source": [
    "## Ejercicio6: Usar el modelo entrenado (2p)\n",
    "Se deben recopilar los últimos 30 tweets de dos personas con influencia en redes sociales de forma manual, alguna conocida por su mala fama como “hater” y otra con una valoración social más positiva. Utilizar el modelo desarrollado para predecir el sentimiento de cada tweet. Los resultados para cada persona deben ser ilustrados en un pie chart (diagrama de sectores) que muestre el estado de ánimo (el porcentaje de tweets clasificados con cada etiqueta)."
   ]
  },
  {
   "cell_type": "markdown",
   "id": "aee47f76",
   "metadata": {},
   "source": [
    "#### 1. Persona de estilo más negativo\n",
    "Para esta tarea, he navegado por X (Twitter) y he dado con una escritora-activista australiana llamada Alexandra Marshall (@ellymelly) cuyos tweets son la mayoría críticas contra algún tema concreto. He recopilado 30 de sus últimos tweets (obviando alguno que sólo contenía emoticonos) en un archivo CSV de nombre \"Tweets_hater_examen\", y he aplicado el modelo de detección de sentimientos generado sobre ellos. He aquí el resultado:"
   ]
  },
  {
   "cell_type": "code",
   "execution_count": 12,
   "id": "bdb9860b",
   "metadata": {
    "scrolled": false
   },
   "outputs": [
    {
     "data": {
      "text/plain": [
       "0     The Labor Party are copy-pasting a Morrison-er...\n",
       "1     It's not a coincidence that the people who wan...\n",
       "2     From the Daily Mail. Everything we watch is so...\n",
       "3     50 years of energy saving devices marketed und...\n",
       "4     The #Left can't get their grievance stories st...\n",
       "5     20 years ago, companies were not allowed to as...\n",
       "6     Social Justice politics is not meant to make s...\n",
       "7     The Left want all the 'white colonisers' to 'g...\n",
       "8     It is sensible to be 'phobic' about a dangerou...\n",
       "9     People are getting 'bored' of #ClimateChange, ...\n",
       "10    Local councils: Ban Australia Day. Politicians...\n",
       "11    I'm not 'anti-vaxx'. I am anti 'being forced t...\n",
       "12    Farmers can stage protests in Europe against t...\n",
       "13    So many people wrongly believe that #renewable...\n",
       "14    Victimhood is the preferred career path for th...\n",
       "15    Our political leaders are motivated by holding...\n",
       "16    What is this modern obsession with printing fo...\n",
       "17    Citizen spending did not cause inflation. GOVE...\n",
       "18    Activism doesn't mean anything anymore. The ac...\n",
       "19            One week into 2024 and still feeling like\n",
       "20    The reason we'll never get a proper Royal Comm...\n",
       "21    @LeilaniDowding @Ofcom It's a total miracle we...\n",
       "22    Australia is fighting to stop wind farms destr...\n",
       "23    \"Evidence is mounting regarding the true origi...\n",
       "24    Pauline Hanson's greatest crime was ... to acc...\n",
       "25    Indigenous group Navajo Nation tried to stop a...\n",
       "26                                       Australia too.\n",
       "27    Looks like fun. But also, definitely need to b...\n",
       "28      Angela Merkel and her vanity migration project.\n",
       "29    It is not a conspiracy to say that celebrities...\n",
       "Name: Texto, dtype: object"
      ]
     },
     "execution_count": 12,
     "metadata": {},
     "output_type": "execute_result"
    }
   ],
   "source": [
    "marshall = pd.read_csv('Tweets_hater_examen.csv', delimiter=\";\")\n",
    "marshall = marshall[\"Texto\"]\n",
    "marshall"
   ]
  },
  {
   "cell_type": "code",
   "execution_count": 13,
   "id": "1748e6b2",
   "metadata": {
    "scrolled": false
   },
   "outputs": [
    {
     "data": {
      "text/plain": [
       "0     labor parti copy-past morrison-era censorship ...\n",
       "1     coincid peopl want live smart citi think freed...\n",
       "2     daili mail . everyth watch fake . lisa re-engi...\n",
       "3     50 year energi save devic market messag : use ...\n",
       "4     can't get grievanc stori straight . colonis ev...\n",
       "5     20 year ago , compani allow ask race , gender ...\n",
       "6     social justic polit meant make sens . that who...\n",
       "7     left want ' white colonis ' ' go back came ' w...\n",
       "8                   sensibl ' phobic ' danger ideolog .\n",
       "9     peopl get ' bore ' , say peter ridd live ' cli...\n",
       "10    local council : ban australia day . politician...\n",
       "11    i'm ' anti-vaxx ' . anti ' forc particip high-...\n",
       "12    farmer stage protest europ abl converg citi ce...\n",
       "13    mani peopl wrong believ energi mean ' big hole...\n",
       "14          victimhood prefer career path achiev noth .\n",
       "15    polit leader motiv hold power make money . pur...\n",
       "16          modern obsess print food instead grow ? ? ?\n",
       "17    citizen spend caus inflat . govern spend caus ...\n",
       "18    activ mean anyth anymor . activist class pest ...\n",
       "19                        one week 2024 still feel like\n",
       "20    reason we'll never get proper royal commiss si...\n",
       "21         total miracl surviv ! anyon tri studi us ? ?\n",
       "22    australia fight stop wind farm destroy nativ l...\n",
       "23    \" evid mount regard true origin excess death ....\n",
       "24    paulin hanson greatest crime ... accur predict...\n",
       "25    indigen group navajo nation tri stop recent ' ...\n",
       "26                                          australia .\n",
       "27    look like fun . also , definit need pack bubbl...\n",
       "28                angela merkel vaniti migrat project .\n",
       "29    conspiraci say celebr , ceo , politician frigh...\n",
       "Name: Texto, dtype: object"
      ]
     },
     "execution_count": 13,
     "metadata": {},
     "output_type": "execute_result"
    }
   ],
   "source": [
    "limpiar_texto(marshall)"
   ]
  },
  {
   "cell_type": "code",
   "execution_count": 14,
   "id": "14f7e944",
   "metadata": {},
   "outputs": [
    {
     "data": {
      "text/html": [
       "<div>\n",
       "<style scoped>\n",
       "    .dataframe tbody tr th:only-of-type {\n",
       "        vertical-align: middle;\n",
       "    }\n",
       "\n",
       "    .dataframe tbody tr th {\n",
       "        vertical-align: top;\n",
       "    }\n",
       "\n",
       "    .dataframe thead th {\n",
       "        text-align: right;\n",
       "    }\n",
       "</style>\n",
       "<table border=\"1\" class=\"dataframe\">\n",
       "  <thead>\n",
       "    <tr style=\"text-align: right;\">\n",
       "      <th></th>\n",
       "      <th>Texto</th>\n",
       "      <th>Categoria</th>\n",
       "    </tr>\n",
       "  </thead>\n",
       "  <tbody>\n",
       "    <tr>\n",
       "      <th>0</th>\n",
       "      <td>labor parti copy-past morrison-era censorship ...</td>\n",
       "      <td>Molesto</td>\n",
       "    </tr>\n",
       "    <tr>\n",
       "      <th>1</th>\n",
       "      <td>coincid peopl want live smart citi think freed...</td>\n",
       "      <td>Molesto</td>\n",
       "    </tr>\n",
       "    <tr>\n",
       "      <th>2</th>\n",
       "      <td>daili mail . everyth watch fake . lisa re-engi...</td>\n",
       "      <td>Hater</td>\n",
       "    </tr>\n",
       "    <tr>\n",
       "      <th>3</th>\n",
       "      <td>50 year energi save devic market messag : use ...</td>\n",
       "      <td>Molesto</td>\n",
       "    </tr>\n",
       "    <tr>\n",
       "      <th>4</th>\n",
       "      <td>can't get grievanc stori straight . colonis ev...</td>\n",
       "      <td>Hater</td>\n",
       "    </tr>\n",
       "    <tr>\n",
       "      <th>5</th>\n",
       "      <td>20 year ago , compani allow ask race , gender ...</td>\n",
       "      <td>Molesto</td>\n",
       "    </tr>\n",
       "    <tr>\n",
       "      <th>6</th>\n",
       "      <td>social justic polit meant make sens . that who...</td>\n",
       "      <td>Contento</td>\n",
       "    </tr>\n",
       "    <tr>\n",
       "      <th>7</th>\n",
       "      <td>left want ' white colonis ' ' go back came ' w...</td>\n",
       "      <td>Neutro</td>\n",
       "    </tr>\n",
       "    <tr>\n",
       "      <th>8</th>\n",
       "      <td>sensibl ' phobic ' danger ideolog .</td>\n",
       "      <td>Neutro</td>\n",
       "    </tr>\n",
       "    <tr>\n",
       "      <th>9</th>\n",
       "      <td>peopl get ' bore ' , say peter ridd live ' cli...</td>\n",
       "      <td>Contento</td>\n",
       "    </tr>\n",
       "    <tr>\n",
       "      <th>10</th>\n",
       "      <td>local council : ban australia day . politician...</td>\n",
       "      <td>Molesto</td>\n",
       "    </tr>\n",
       "    <tr>\n",
       "      <th>11</th>\n",
       "      <td>i'm ' anti-vaxx ' . anti ' forc particip high-...</td>\n",
       "      <td>Contento</td>\n",
       "    </tr>\n",
       "    <tr>\n",
       "      <th>12</th>\n",
       "      <td>farmer stage protest europ abl converg citi ce...</td>\n",
       "      <td>Contento</td>\n",
       "    </tr>\n",
       "    <tr>\n",
       "      <th>13</th>\n",
       "      <td>mani peopl wrong believ energi mean ' big hole...</td>\n",
       "      <td>Molesto</td>\n",
       "    </tr>\n",
       "    <tr>\n",
       "      <th>14</th>\n",
       "      <td>victimhood prefer career path achiev noth .</td>\n",
       "      <td>Neutro</td>\n",
       "    </tr>\n",
       "    <tr>\n",
       "      <th>15</th>\n",
       "      <td>polit leader motiv hold power make money . pur...</td>\n",
       "      <td>Contento</td>\n",
       "    </tr>\n",
       "    <tr>\n",
       "      <th>16</th>\n",
       "      <td>modern obsess print food instead grow ? ? ?</td>\n",
       "      <td>Contento</td>\n",
       "    </tr>\n",
       "    <tr>\n",
       "      <th>17</th>\n",
       "      <td>citizen spend caus inflat . govern spend caus ...</td>\n",
       "      <td>Muy feliz</td>\n",
       "    </tr>\n",
       "    <tr>\n",
       "      <th>18</th>\n",
       "      <td>activ mean anyth anymor . activist class pest ...</td>\n",
       "      <td>Molesto</td>\n",
       "    </tr>\n",
       "    <tr>\n",
       "      <th>19</th>\n",
       "      <td>one week 2024 still feel like</td>\n",
       "      <td>Neutro</td>\n",
       "    </tr>\n",
       "    <tr>\n",
       "      <th>20</th>\n",
       "      <td>reason we'll never get proper royal commiss si...</td>\n",
       "      <td>Contento</td>\n",
       "    </tr>\n",
       "    <tr>\n",
       "      <th>21</th>\n",
       "      <td>total miracl surviv ! anyon tri studi us ? ?</td>\n",
       "      <td>Neutro</td>\n",
       "    </tr>\n",
       "    <tr>\n",
       "      <th>22</th>\n",
       "      <td>australia fight stop wind farm destroy nativ l...</td>\n",
       "      <td>Molesto</td>\n",
       "    </tr>\n",
       "    <tr>\n",
       "      <th>23</th>\n",
       "      <td>\" evid mount regard true origin excess death ....</td>\n",
       "      <td>Molesto</td>\n",
       "    </tr>\n",
       "    <tr>\n",
       "      <th>24</th>\n",
       "      <td>paulin hanson greatest crime ... accur predict...</td>\n",
       "      <td>Contento</td>\n",
       "    </tr>\n",
       "    <tr>\n",
       "      <th>25</th>\n",
       "      <td>indigen group navajo nation tri stop recent ' ...</td>\n",
       "      <td>Contento</td>\n",
       "    </tr>\n",
       "    <tr>\n",
       "      <th>26</th>\n",
       "      <td>australia .</td>\n",
       "      <td>Neutro</td>\n",
       "    </tr>\n",
       "    <tr>\n",
       "      <th>27</th>\n",
       "      <td>look like fun . also , definit need pack bubbl...</td>\n",
       "      <td>Contento</td>\n",
       "    </tr>\n",
       "    <tr>\n",
       "      <th>28</th>\n",
       "      <td>angela merkel vaniti migrat project .</td>\n",
       "      <td>Neutro</td>\n",
       "    </tr>\n",
       "    <tr>\n",
       "      <th>29</th>\n",
       "      <td>conspiraci say celebr , ceo , politician frigh...</td>\n",
       "      <td>Neutro</td>\n",
       "    </tr>\n",
       "  </tbody>\n",
       "</table>\n",
       "</div>"
      ],
      "text/plain": [
       "                                                Texto  Categoria\n",
       "0   labor parti copy-past morrison-era censorship ...    Molesto\n",
       "1   coincid peopl want live smart citi think freed...    Molesto\n",
       "2   daili mail . everyth watch fake . lisa re-engi...      Hater\n",
       "3   50 year energi save devic market messag : use ...    Molesto\n",
       "4   can't get grievanc stori straight . colonis ev...      Hater\n",
       "5   20 year ago , compani allow ask race , gender ...    Molesto\n",
       "6   social justic polit meant make sens . that who...   Contento\n",
       "7   left want ' white colonis ' ' go back came ' w...     Neutro\n",
       "8                 sensibl ' phobic ' danger ideolog .     Neutro\n",
       "9   peopl get ' bore ' , say peter ridd live ' cli...   Contento\n",
       "10  local council : ban australia day . politician...    Molesto\n",
       "11  i'm ' anti-vaxx ' . anti ' forc particip high-...   Contento\n",
       "12  farmer stage protest europ abl converg citi ce...   Contento\n",
       "13  mani peopl wrong believ energi mean ' big hole...    Molesto\n",
       "14        victimhood prefer career path achiev noth .     Neutro\n",
       "15  polit leader motiv hold power make money . pur...   Contento\n",
       "16        modern obsess print food instead grow ? ? ?   Contento\n",
       "17  citizen spend caus inflat . govern spend caus ...  Muy feliz\n",
       "18  activ mean anyth anymor . activist class pest ...    Molesto\n",
       "19                      one week 2024 still feel like     Neutro\n",
       "20  reason we'll never get proper royal commiss si...   Contento\n",
       "21       total miracl surviv ! anyon tri studi us ? ?     Neutro\n",
       "22  australia fight stop wind farm destroy nativ l...    Molesto\n",
       "23  \" evid mount regard true origin excess death ....    Molesto\n",
       "24  paulin hanson greatest crime ... accur predict...   Contento\n",
       "25  indigen group navajo nation tri stop recent ' ...   Contento\n",
       "26                                        australia .     Neutro\n",
       "27  look like fun . also , definit need pack bubbl...   Contento\n",
       "28              angela merkel vaniti migrat project .     Neutro\n",
       "29  conspiraci say celebr , ceo , politician frigh...     Neutro"
      ]
     },
     "execution_count": 14,
     "metadata": {},
     "output_type": "execute_result"
    }
   ],
   "source": [
    "marshall = clasificador(marshall)\n",
    "marshall"
   ]
  },
  {
   "cell_type": "code",
   "execution_count": 15,
   "id": "adcaec5f",
   "metadata": {},
   "outputs": [
    {
     "data": {
      "text/plain": [
       "Categoria\n",
       "Contento     10\n",
       "Molesto       9\n",
       "Neutro        8\n",
       "Hater         2\n",
       "Muy feliz     1\n",
       "Name: count, dtype: int64"
      ]
     },
     "execution_count": 15,
     "metadata": {},
     "output_type": "execute_result"
    }
   ],
   "source": [
    "sentimientos_marshall = marshall[\"Categoria\"].value_counts()\n",
    "sentimientos_marshall"
   ]
  },
  {
   "cell_type": "code",
   "execution_count": 16,
   "id": "1531c84e",
   "metadata": {},
   "outputs": [
    {
     "data": {
      "image/png": "[encoded data removed]",
      "text/plain": [
       "<Figure size 640x480 with 1 Axes>"
      ]
     },
     "metadata": {},
     "output_type": "display_data"
    }
   ],
   "source": [
    "import matplotlib.pyplot as plt\n",
    "\n",
    "plt.pie(sentimientos_marshall, labels=sentimientos_marshall.index, autopct=\"%1.1f%%\")\n",
    "plt.title(\"Alexandra Marshall\")\n",
    "plt.show()"
   ]
  },
  {
   "cell_type": "markdown",
   "id": "826c1826",
   "metadata": {},
   "source": [
    "#### 1. Persona de estilo más positivo\n",
    "Para esta otra tarea, he utilizado los tweets de la famosa tenista Serena Williams (@serenawilliams), ganadora de 23 torneos de Grand Slam, y he aplicado nuevamente el modelo de detección de sentimientos sobre ellos. He aquí el resultado:"
   ]
  },
  {
   "cell_type": "code",
   "execution_count": 17,
   "id": "73ac7663",
   "metadata": {},
   "outputs": [
    {
     "data": {
      "text/plain": [
       "0     I often live too far in the future. Wondering ...\n",
       "1     I’m working out to my tennis pre match playlis...\n",
       "2     Thank you for holding the door open for me…. B...\n",
       "3     Today is hair day! I’m braids. I get so excite...\n",
       "4             Dall-e got tired of me asking for images.\n",
       "5                   Butterfingers are so under rated. 🍫\n",
       "6     Starting to collect match-worn jerseys. thanks...\n",
       "7                                 Back to work we go ….\n",
       "8                                This makes me so happy\n",
       "9     I am not ok today. And that’s ok to not be ok....\n",
       "10    Orange slices (you know the candy) are my kryp...\n",
       "11    You ever get so tired your brain stops working...\n",
       "12    Having 2 kids is def not easy. How do you moms...\n",
       "13    Have you ever wanted to start your work out bu...\n",
       "14    It’s unhealthy on how excited I am for the new...\n",
       "15    I’m not used to working out with no goal or to...\n",
       "16                                8 is a better number.\n",
       "17     My new fragrance is “old spoiled milk”. #momlife\n",
       "18    Proud to share an exclusive look at my newest ...\n",
       "19    Me and Jelly Bean #BTS shooting a spot with @l...\n",
       "20    Meet football’s unsung heroes. Witnessed by re...\n",
       "21    The big reveal is now live on YouTube! Did you...\n",
       "22         It’s official I can no longer see my feet 🤰🏿\n",
       "23    Just a casual Bathroom selfie….Enjoy Chip (my ...\n",
       "24    Nice lady: I love your hair Me: Awww Thanks! O...\n",
       "25    I was at a book store the other day and someon...\n",
       "26    On our weekly @SerenaVentures call. Looking at...\n",
       "27    Ok it’s final. I have to give up spicy food #p...\n",
       "28    Some people cry not because they are weak… but...\n",
       "29    Milk free rocky road ice cream recommendations...\n",
       "Name: Texto, dtype: object"
      ]
     },
     "execution_count": 17,
     "metadata": {},
     "output_type": "execute_result"
    }
   ],
   "source": [
    "serena = pd.read_csv('Tweets_normal_examen.csv', delimiter=\";\")\n",
    "serena = serena[\"Texto\"]\n",
    "serena"
   ]
  },
  {
   "cell_type": "code",
   "execution_count": 18,
   "id": "b96bb41e",
   "metadata": {},
   "outputs": [
    {
     "data": {
      "text/plain": [
       "0     often live far futur . wonder feel tomorrow 10...\n",
       "1     ’ work tenni pre match playlist … aiiiii get p...\n",
       "2     thank hold door open … . ’ footbal field away ...\n",
       "3     today hair day ! ’ braid . get excit hair day ...\n",
       "4                             dall- got tire ask imag .\n",
       "5                                     butterfing rate .\n",
       "6     start collect match-worn jersey . thank ’ say ...\n",
       "7                                      back work go … .\n",
       "8                                            make happi\n",
       "9     ok today . ’ ok ok . one ok everi singl day . ...\n",
       "10               orang slice ( know candi ) kryptonit .\n",
       "11    ever get tire brain stop work ’ think basic th...\n",
       "12    2 kid def easi . mom / dad well ! ! ! ? ? ? es...\n",
       "13    ever want start work sudden rememb list … . do...\n",
       "14    ’ unhealthi excit new * nsync music troll movi...\n",
       "15    ’ use work goal honest - championship mind . s...\n",
       "16                                    8 better number .\n",
       "17                    new fragranc “ old spoil milk ” .\n",
       "18    proud share exclus look newest project . ’ sto...\n",
       "19    jelli bean shoot spot . feel seren summer ligh...\n",
       "20    meet footbal ’ unsung hero . wit record crowd ...\n",
       "21               big reveal live youtub ! guess right ?\n",
       "22                             ’ offici longer see feet\n",
       "23       casual bathroom selfi … . enjoy chip ( dog ) )\n",
       "24    nice ladi : love hair : awww thank ! olympia :...\n",
       "25        book store day someon came said retir earli …\n",
       "26                week call . look new compani invest .\n",
       "27                         ok ’ final . give spici food\n",
       "28                       peopl cri weak … strong long .\n",
       "29     milk free rocki road ice cream recommend pleas ?\n",
       "Name: Texto, dtype: object"
      ]
     },
     "execution_count": 18,
     "metadata": {},
     "output_type": "execute_result"
    }
   ],
   "source": [
    "limpiar_texto(serena)"
   ]
  },
  {
   "cell_type": "code",
   "execution_count": 19,
   "id": "99b12980",
   "metadata": {},
   "outputs": [
    {
     "data": {
      "text/html": [
       "<div>\n",
       "<style scoped>\n",
       "    .dataframe tbody tr th:only-of-type {\n",
       "        vertical-align: middle;\n",
       "    }\n",
       "\n",
       "    .dataframe tbody tr th {\n",
       "        vertical-align: top;\n",
       "    }\n",
       "\n",
       "    .dataframe thead th {\n",
       "        text-align: right;\n",
       "    }\n",
       "</style>\n",
       "<table border=\"1\" class=\"dataframe\">\n",
       "  <thead>\n",
       "    <tr style=\"text-align: right;\">\n",
       "      <th></th>\n",
       "      <th>Texto</th>\n",
       "      <th>Categoria</th>\n",
       "    </tr>\n",
       "  </thead>\n",
       "  <tbody>\n",
       "    <tr>\n",
       "      <th>0</th>\n",
       "      <td>often live far futur . wonder feel tomorrow 10...</td>\n",
       "      <td>Contento</td>\n",
       "    </tr>\n",
       "    <tr>\n",
       "      <th>1</th>\n",
       "      <td>’ work tenni pre match playlist … aiiiii get p...</td>\n",
       "      <td>Contento</td>\n",
       "    </tr>\n",
       "    <tr>\n",
       "      <th>2</th>\n",
       "      <td>thank hold door open … . ’ footbal field away ...</td>\n",
       "      <td>Neutro</td>\n",
       "    </tr>\n",
       "    <tr>\n",
       "      <th>3</th>\n",
       "      <td>today hair day ! ’ braid . get excit hair day ...</td>\n",
       "      <td>Muy feliz</td>\n",
       "    </tr>\n",
       "    <tr>\n",
       "      <th>4</th>\n",
       "      <td>dall- got tire ask imag .</td>\n",
       "      <td>Neutro</td>\n",
       "    </tr>\n",
       "    <tr>\n",
       "      <th>5</th>\n",
       "      <td>butterfing rate .</td>\n",
       "      <td>Neutro</td>\n",
       "    </tr>\n",
       "    <tr>\n",
       "      <th>6</th>\n",
       "      <td>start collect match-worn jersey . thank ’ say ...</td>\n",
       "      <td>Contento</td>\n",
       "    </tr>\n",
       "    <tr>\n",
       "      <th>7</th>\n",
       "      <td>back work go … .</td>\n",
       "      <td>Neutro</td>\n",
       "    </tr>\n",
       "    <tr>\n",
       "      <th>8</th>\n",
       "      <td>make happi</td>\n",
       "      <td>Neutro</td>\n",
       "    </tr>\n",
       "    <tr>\n",
       "      <th>9</th>\n",
       "      <td>ok today . ’ ok ok . one ok everi singl day . ...</td>\n",
       "      <td>Muy feliz</td>\n",
       "    </tr>\n",
       "    <tr>\n",
       "      <th>10</th>\n",
       "      <td>orang slice ( know candi ) kryptonit .</td>\n",
       "      <td>Neutro</td>\n",
       "    </tr>\n",
       "    <tr>\n",
       "      <th>11</th>\n",
       "      <td>ever get tire brain stop work ’ think basic th...</td>\n",
       "      <td>Neutro</td>\n",
       "    </tr>\n",
       "    <tr>\n",
       "      <th>12</th>\n",
       "      <td>2 kid def easi . mom / dad well ! ! ! ? ? ? es...</td>\n",
       "      <td>Hater</td>\n",
       "    </tr>\n",
       "    <tr>\n",
       "      <th>13</th>\n",
       "      <td>ever want start work sudden rememb list … . do...</td>\n",
       "      <td>Contento</td>\n",
       "    </tr>\n",
       "    <tr>\n",
       "      <th>14</th>\n",
       "      <td>’ unhealthi excit new * nsync music troll movi...</td>\n",
       "      <td>Contento</td>\n",
       "    </tr>\n",
       "    <tr>\n",
       "      <th>15</th>\n",
       "      <td>’ use work goal honest - championship mind . s...</td>\n",
       "      <td>Contento</td>\n",
       "    </tr>\n",
       "    <tr>\n",
       "      <th>16</th>\n",
       "      <td>8 better number .</td>\n",
       "      <td>Muy feliz</td>\n",
       "    </tr>\n",
       "    <tr>\n",
       "      <th>17</th>\n",
       "      <td>new fragranc “ old spoil milk ” .</td>\n",
       "      <td>Contento</td>\n",
       "    </tr>\n",
       "    <tr>\n",
       "      <th>18</th>\n",
       "      <td>proud share exclus look newest project . ’ sto...</td>\n",
       "      <td>Muy feliz</td>\n",
       "    </tr>\n",
       "    <tr>\n",
       "      <th>19</th>\n",
       "      <td>jelli bean shoot spot . feel seren summer ligh...</td>\n",
       "      <td>Contento</td>\n",
       "    </tr>\n",
       "    <tr>\n",
       "      <th>20</th>\n",
       "      <td>meet footbal ’ unsung hero . wit record crowd ...</td>\n",
       "      <td>Contento</td>\n",
       "    </tr>\n",
       "    <tr>\n",
       "      <th>21</th>\n",
       "      <td>big reveal live youtub ! guess right ?</td>\n",
       "      <td>Contento</td>\n",
       "    </tr>\n",
       "    <tr>\n",
       "      <th>22</th>\n",
       "      <td>’ offici longer see feet</td>\n",
       "      <td>Neutro</td>\n",
       "    </tr>\n",
       "    <tr>\n",
       "      <th>23</th>\n",
       "      <td>casual bathroom selfi … . enjoy chip ( dog ) )</td>\n",
       "      <td>Molesto</td>\n",
       "    </tr>\n",
       "    <tr>\n",
       "      <th>24</th>\n",
       "      <td>nice ladi : love hair : awww thank ! olympia :...</td>\n",
       "      <td>Muy feliz</td>\n",
       "    </tr>\n",
       "    <tr>\n",
       "      <th>25</th>\n",
       "      <td>book store day someon came said retir earli …</td>\n",
       "      <td>Neutro</td>\n",
       "    </tr>\n",
       "    <tr>\n",
       "      <th>26</th>\n",
       "      <td>week call . look new compani invest .</td>\n",
       "      <td>Contento</td>\n",
       "    </tr>\n",
       "    <tr>\n",
       "      <th>27</th>\n",
       "      <td>ok ’ final . give spici food</td>\n",
       "      <td>Contento</td>\n",
       "    </tr>\n",
       "    <tr>\n",
       "      <th>28</th>\n",
       "      <td>peopl cri weak … strong long .</td>\n",
       "      <td>Contento</td>\n",
       "    </tr>\n",
       "    <tr>\n",
       "      <th>29</th>\n",
       "      <td>milk free rocki road ice cream recommend pleas ?</td>\n",
       "      <td>Contento</td>\n",
       "    </tr>\n",
       "  </tbody>\n",
       "</table>\n",
       "</div>"
      ],
      "text/plain": [
       "                                                Texto  Categoria\n",
       "0   often live far futur . wonder feel tomorrow 10...   Contento\n",
       "1   ’ work tenni pre match playlist … aiiiii get p...   Contento\n",
       "2   thank hold door open … . ’ footbal field away ...     Neutro\n",
       "3   today hair day ! ’ braid . get excit hair day ...  Muy feliz\n",
       "4                           dall- got tire ask imag .     Neutro\n",
       "5                                   butterfing rate .     Neutro\n",
       "6   start collect match-worn jersey . thank ’ say ...   Contento\n",
       "7                                    back work go … .     Neutro\n",
       "8                                          make happi     Neutro\n",
       "9   ok today . ’ ok ok . one ok everi singl day . ...  Muy feliz\n",
       "10             orang slice ( know candi ) kryptonit .     Neutro\n",
       "11  ever get tire brain stop work ’ think basic th...     Neutro\n",
       "12  2 kid def easi . mom / dad well ! ! ! ? ? ? es...      Hater\n",
       "13  ever want start work sudden rememb list … . do...   Contento\n",
       "14  ’ unhealthi excit new * nsync music troll movi...   Contento\n",
       "15  ’ use work goal honest - championship mind . s...   Contento\n",
       "16                                  8 better number .  Muy feliz\n",
       "17                  new fragranc “ old spoil milk ” .   Contento\n",
       "18  proud share exclus look newest project . ’ sto...  Muy feliz\n",
       "19  jelli bean shoot spot . feel seren summer ligh...   Contento\n",
       "20  meet footbal ’ unsung hero . wit record crowd ...   Contento\n",
       "21             big reveal live youtub ! guess right ?   Contento\n",
       "22                           ’ offici longer see feet     Neutro\n",
       "23     casual bathroom selfi … . enjoy chip ( dog ) )    Molesto\n",
       "24  nice ladi : love hair : awww thank ! olympia :...  Muy feliz\n",
       "25      book store day someon came said retir earli …     Neutro\n",
       "26              week call . look new compani invest .   Contento\n",
       "27                       ok ’ final . give spici food   Contento\n",
       "28                     peopl cri weak … strong long .   Contento\n",
       "29   milk free rocki road ice cream recommend pleas ?   Contento"
      ]
     },
     "execution_count": 19,
     "metadata": {},
     "output_type": "execute_result"
    }
   ],
   "source": [
    "serena = clasificador(serena)\n",
    "serena"
   ]
  },
  {
   "cell_type": "code",
   "execution_count": 20,
   "id": "69557f3a",
   "metadata": {},
   "outputs": [
    {
     "data": {
      "text/plain": [
       "Categoria\n",
       "Contento     14\n",
       "Neutro        9\n",
       "Muy feliz     5\n",
       "Hater         1\n",
       "Molesto       1\n",
       "Name: count, dtype: int64"
      ]
     },
     "execution_count": 20,
     "metadata": {},
     "output_type": "execute_result"
    }
   ],
   "source": [
    "sentimientos_serena = serena[\"Categoria\"].value_counts()\n",
    "sentimientos_serena"
   ]
  },
  {
   "cell_type": "code",
   "execution_count": 21,
   "id": "11cee39e",
   "metadata": {},
   "outputs": [
    {
     "data": {
      "image/png": "[encoded data removed]",
      "text/plain": [
       "<Figure size 640x480 with 1 Axes>"
      ]
     },
     "metadata": {},
     "output_type": "display_data"
    }
   ],
   "source": [
    "plt.pie(sentimientos_serena, labels=sentimientos_serena.index, autopct=\"%1.1f%%\")\n",
    "plt.title(\"Serena Williams\")\n",
    "plt.show()"
   ]
  }
 ],
 "metadata": {
  "kernelspec": {
   "display_name": "Python 3 (ipykernel)",
   "language": "python",
   "name": "python3"
  },
  "language_info": {
   "codemirror_mode": {
    "name": "ipython",
    "version": 3
   },
   "file_extension": ".py",
   "mimetype": "text/x-python",
   "name": "python",
   "nbconvert_exporter": "python",
   "pygments_lexer": "ipython3",
   "version": "3.11.5"
  }
 },
 "nbformat": 4,
 "nbformat_minor": 5
}
