{
 "cells": [
  {
   "cell_type": "markdown",
   "id": "25e406e4",
   "metadata": {},
   "source": [
    "# Python básico\n",
    "\n",
    "Ana Belén Romero Losada\n",
    "Departamento de Ciencias de la Computación e Inteligencia Artificial\n",
    "Universidad de Sevila\n",
    "\n",
    "En esta hoja de trabajo vamos a ver lo esencial de Python para poder empezar a practicar con el lenguaje.\n",
    "\n",
    "En el entorno Jupyter se trabaja Python sobre un notebook u hoja de trabajo. Esta hoja de trabajo está formada por una secuencia de cajas, que pueden ser de texto, en las que explicar ideas y conceptos, o de código, en las que definir o evaluar funciones Python.\n"
   ]
  },
  {
   "cell_type": "markdown",
   "id": "6f83aa55",
   "metadata": {},
   "source": [
    "##  Ejercicio 1\n",
    "\n",
    "Crea una función que resuelva una ecuación de segundo grado en jupyter y en R. Compara las diferencias a la hora de realizar operaciones aritméticas y lógicas, declarar variables/objetos y usar las estructuras de control. \n",
    "\n",
    "PISTA: existe una función llamada round() para redondear. Se usa como típicamente se usa en R."
   ]
  },
  {
   "cell_type": "code",
   "execution_count": 68,
   "id": "5a496365",
   "metadata": {},
   "outputs": [],
   "source": [
    "#Crea la funcion llamada calculadora\n",
    "##comprueba si el número que iría dentro de la raiz cuadrada es negativo\n",
    "###Devuelve 0 y un mensaje de error\n",
    "##en el caso que no lo sea, resuelve la ecuacion\n",
    "### imprime por pantalla los siguientes mensajes\n",
    "####\"ambas soluciones son válidas, x puede valer sol1 y sol2\"\n",
    "####\"Solo la solucion 1 es válida, x vale sol1\"\n",
    "####\"Solo la solucion 2 es válida, x vale sol2\"\n",
    "\n",
    "def calculadora(a,b,c):\n",
    "    if ((b**2)-(4*a*c)) < 0:\n",
    "        print(\"Fatal error. La ecuación no tiene solución\")\n",
    "        return(0)\n",
    "    else:\n",
    "        sol1 = (((-b)+(b**2 - 4*a*c)**(0.5))/(2*a))\n",
    "        sol2 = (((-b)-(b**2 - 4*a*c)**(0.5))/(2*a))\n",
    "        print(sol1,sol2) ##Puedes ir poniendo prints para comprobar dónde hay errores, es como un checkpoint. Luego los quitas.\n",
    "        test1 = (a*(sol1)**2 + b*(sol1) + c)\n",
    "        test2 = (a*(sol2)**2 + b*(sol2) + c)\n",
    "        print(test1,test2) ##Otro checkpoint\n",
    "        if round(test1) == 0 and round(test2) == 0: ##Los test tienen que valer 0, ya que si no la ecuación Ax2 + Bx + C = 0 no se cumple.\n",
    "            print(\"Ambas soluciones son válidas, x puede valer\", sol1, \"y\", sol2)\n",
    "            \n",
    "        elif round(test1) == 0 and round(test2) != 0:\n",
    "            print(\"Solo la solución 1 es válida, x vale\", sol1)\n",
    "            \n",
    "        elif round(test1) != 0 and round(test2) == 0:\n",
    "            print(\"Solo la solución 2 es válida, x vale\", sol2)\n",
    "                \n",
    "        \n"
   ]
  },
  {
   "cell_type": "code",
   "execution_count": 69,
   "id": "12dde7a4",
   "metadata": {},
   "outputs": [
    {
     "name": "stdout",
     "output_type": "stream",
     "text": [
      "3.0 0.0\n",
      "0.0 0.0\n",
      "Ambas soluciones son válidas, x puede valer 3.0 y 0.0\n"
     ]
    }
   ],
   "source": [
    "calculadora(1,-3,0)"
   ]
  },
  {
   "cell_type": "markdown",
   "id": "0bdfc9f1",
   "metadata": {},
   "source": [
    "## Ejercicio 2\n",
    "\n",
    "Traduce este pseudocódigo a código en R y python simultáneamente. \n",
    "\n"
   ]
  },
  {
   "cell_type": "code",
   "execution_count": 70,
   "id": "d22b6179",
   "metadata": {},
   "outputs": [
    {
     "name": "stdout",
     "output_type": "stream",
     "text": [
      "2 3 4\n"
     ]
    }
   ],
   "source": [
    "#Declara una variable llamada x que valga 2\n",
    "#Súmale 2 a x\n",
    "x=2\n",
    "#x<-2\n",
    "#x=c(2,3,4)\n",
    "x,y,z = 2,3,4\n",
    "print(x,y,z)"
   ]
  },
  {
   "cell_type": "code",
   "execution_count": 83,
   "id": "fa2a5d93",
   "metadata": {},
   "outputs": [
    {
     "data": {
      "text/plain": [
       "(191, 59049, -5)"
      ]
     },
     "execution_count": 83,
     "metadata": {},
     "output_type": "execute_result"
    }
   ],
   "source": [
    "#Súmale 2 a x\n",
    "x+=2\n",
    "y*=3\n",
    "z-=1\n",
    "x , y , z"
   ]
  },
  {
   "cell_type": "code",
   "execution_count": 100,
   "id": "c04298d3",
   "metadata": {},
   "outputs": [
    {
     "data": {
      "text/plain": [
       "'hola hola hola hola '"
      ]
     },
     "execution_count": 100,
     "metadata": {},
     "output_type": "execute_result"
    }
   ],
   "source": [
    "#Declara una variable llamada palabra que valga \"hola\"\n",
    "#Cuadrupicla la variable palabra\n",
    "Palabra = \"hola \"\n",
    "Palabra*=4\n",
    "Palabra"
   ]
  },
  {
   "cell_type": "code",
   "execution_count": 106,
   "id": "a9457486",
   "metadata": {},
   "outputs": [
    {
     "data": {
      "text/plain": [
       "10"
      ]
     },
     "execution_count": 106,
     "metadata": {},
     "output_type": "execute_result"
    }
   ],
   "source": [
    "#añade las palabras \"mundo que tal\" a palabra\n",
    "#encuentra en que posicion está mundo\n",
    "#escribelo en mayuscula y cuenta cuantas \"a\" hay (esto hazlo solo en python)\n",
    "Palabra += \"mundo que tal\"\n",
    "Palabra\n",
    "Palabra.index(\"mundo\") #Encuentra en qué posición está mundo\n",
    "Palabra.upper() #Lo pone todo en mayúscula\n",
    "Palabra.find(\"tal\") #Encuentra si hay x término y dónde está\n",
    "Palabra.count(\"a\") #Cuenta la cantidad de x elemento que hay en la variable"
   ]
  },
  {
   "cell_type": "code",
   "execution_count": 111,
   "id": "6951091b",
   "metadata": {},
   "outputs": [
    {
     "data": {
      "text/plain": [
       "'lat euq odnumlat euq odnumlat euq odnumlat euq odnumlat euq odnumlat euq odnum aloh aloh aloh aloh'"
      ]
     },
     "execution_count": 111,
     "metadata": {},
     "output_type": "execute_result"
    }
   ],
   "source": [
    "Palabra[0:25] #Acceder a esos elementos. El primero es 0, no 1.\n",
    "Palabra[0:10:2] #Devuelve desde el elemento 0 hasta el 10 en intervalos de 2 en 2.\n",
    "Palabra[::-1] #Invierte la cadena de caracteres. Si tienes un \"hola\", te devuelve \"aloh\""
   ]
  },
  {
   "cell_type": "markdown",
   "id": "cd1fc86f",
   "metadata": {},
   "source": [
    "## Ejercicio 3\n",
    "\n",
    "Vamos a prácticar con las demás clases de objetos en python."
   ]
  },
  {
   "cell_type": "code",
   "execution_count": 119,
   "id": "95a15183",
   "metadata": {},
   "outputs": [
    {
     "data": {
      "text/plain": [
       "(1, 2, 'hola', 10)"
      ]
     },
     "execution_count": 119,
     "metadata": {},
     "output_type": "execute_result"
    }
   ],
   "source": [
    "#############tuplas\n",
    "#Crea una tupla con tres elementos, el elemento más parecido a un vector\n",
    "tupla1=(1,2,\"hola\")\n",
    "#Crea una tupla con un elemento\n",
    "tupla2=(1,)\n",
    "#Crea una tupla vacía\n",
    "tupla0=()\n",
    "#recorre la tupla al revés\n",
    "tupla1[::-1]\n",
    "#está el valor 6 en la tupla?\n",
    "6 in tupla1\n",
    "#Concatena, es decir, añade al final de la tupla: el valor 10\n",
    "tupla1+=(10,)\n",
    "#Modifica el valor de la posición 2 en la tupla por la palabra \"hola\"\n",
    "tupla1[2]=\"hola\" ##Jajaja trampa, la tupla es inmutable, no se puede modificar los elementos por otros. "
   ]
  },
  {
   "cell_type": "code",
   "execution_count": 135,
   "id": "305c0ac9",
   "metadata": {},
   "outputs": [
    {
     "name": "stdout",
     "output_type": "stream",
     "text": [
      "['hola', 'nadalista', 'hola', 'agapornis', 'hola']\n"
     ]
    },
    {
     "data": {
      "text/plain": [
       "[2]"
      ]
     },
     "execution_count": 135,
     "metadata": {},
     "output_type": "execute_result"
    }
   ],
   "source": [
    "#############listas\n",
    "#Crea una lista que dentro tenga palabras\n",
    "lista1=[\"hola\",\"adiós\",\"nadalista\"]\n",
    "#Modifica el valor de la posición 2 en la lista por la palabra \"hola\"\n",
    "lista1[2]=\"hola\" #ha cambiado nadalista por hola, en vez de adios por hola, porque empieza a contar desde 0, \n",
    "                 #ergo el elemento 2 es el 1.\n",
    "lista1[1]=\"nadalista\" #ahora si esta bien\n",
    "lista1\n",
    "#Concatena el valor 122 con tu lista\n",
    "lista1+=[122]\n",
    "lista1\n",
    "#Concatena el valor \"hola\" con tu lista\n",
    "lista1+=[\"hola\"]\n",
    "lista1\n",
    "#transforma la lista en una string con la función .join. Cuidado, join no pasa números a string. Si tengo una lista sólo de \n",
    "#palabras y quiero pasarla a cadena de caracteres, función .join\n",
    "lista1[3]=\"agapornis\"\n",
    "\" y \".join(lista1)\n",
    "print(lista1)\n",
    "\n",
    "#función .append -> para añadir elementos a una lista vacia. Es lo mismo que con la asignación aumentada, pero puedes añadirle \n",
    "#                   de todo, incluso otra lista.\n",
    "lista_vacia=[]\n",
    "lista_vacia.append(2)\n",
    "lista_vacia\n",
    "\n"
   ]
  },
  {
   "cell_type": "code",
   "execution_count": null,
   "id": "5d735ce2",
   "metadata": {},
   "outputs": [],
   "source": [
    "#Bucle for\n",
    "def mi_primer_bucle(lista):\n",
    "    for i in range(0:(len(lista)+1)): #range es como el seq de R, hace una secuencia desde 0 hasta el valor deseado.\n",
    "    "
   ]
  },
  {
   "cell_type": "code",
   "execution_count": null,
   "id": "37b322bc",
   "metadata": {},
   "outputs": [],
   "source": [
    "#############Diccionarios\n",
    "#Crea un diccionario\n",
    "#accede al valor de la 2ª clave\n",
    "#Añade una clave nueva con su correspondiente valor\n",
    "#Accede solo a los valores, o solo a las claves"
   ]
  }
 ],
 "metadata": {
  "kernelspec": {
   "display_name": "Python 3 (ipykernel)",
   "language": "python",
   "name": "python3"
  },
  "language_info": {
   "codemirror_mode": {
    "name": "ipython",
    "version": 3
   },
   "file_extension": ".py",
   "mimetype": "text/x-python",
   "name": "python",
   "nbconvert_exporter": "python",
   "pygments_lexer": "ipython3",
   "version": "3.11.5"
  }
 },
 "nbformat": 4,
 "nbformat_minor": 5
}
