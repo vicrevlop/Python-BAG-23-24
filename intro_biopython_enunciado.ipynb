{
 "cells": [
  {
   "cell_type": "markdown",
   "metadata": {},
   "source": [
    "# Bioinformática y Análisis Genómico\n",
    "# 4º curso Grado en Bioquímica - Mención en Biotecnología\n",
    "# Curso 2023/2024\n",
    "## Práctica 2: Introducción a Biopython\n",
    "\n"
   ]
  },
  {
   "cell_type": "markdown",
   "metadata": {},
   "source": [
    "**Biopython** https://biopython.org/ es un conjunto de herramientas de libre acceso para la biología computacional escritas en Python por un equipo internacional de desarrolladores.\n",
    "\n",
    "Se trata de un esfuerzo de colaboración distribuido para desarrollar bibliotecas y aplicaciones en Python que satisfagan las necesidades del trabajo actual y futuro en bioinformática."
   ]
  },
  {
   "cell_type": "markdown",
   "metadata": {},
   "source": [
    "En esta práctica se va a aprender a instalar y utilizar Biopython en un entorno de Anaconda.\n"
   ]
  },
  {
   "cell_type": "markdown",
   "metadata": {},
   "source": [
    "## Instalación de Biopython en un entorno de Anaconda\n",
    "Debemos instalarnos biopython para poder acceder a los distintos paquetes (librerías) que ofrece. Al igual que antes de instalarnos cualquier paquete de bioconductor en R debíamos instalarnos el paquete general de Bioconductor.\n",
    "\n",
    "* Requisitos: Una instalación de *Anaconda* (Ya lo tenemos)\n",
    "* Abrir un terminal en Linux o Mac, o bien ejecutar el programa *Anaconda Prompt* en Windows\n",
    "* Crear un nuevo entorno de Python con Biopython llamado *bioinformatics* mediante el comando:\n",
    "    * **conda create -n bioinformatics biopython**\n",
    "* Activar el entorno creado\n",
    "    * **conda activate bioinformatics**\n",
    "* Es necesario volver a instalar jupyter para el entorno creado\n",
    "    * **conda install jupyter**\n",
    "* Iniciar jupyter\n",
    "    * **jupyter notebook**"
   ]
  },
  {
   "cell_type": "markdown",
   "metadata": {},
   "source": [
    "## Importacion de bibiotecas y funciones\n",
    "\n",
    "El paquete principal de Biopython se llama Bio, conteniendo diferentes subpaquetes con diversa funcionalidad.\n",
    "Consultad https://biopython.org/wiki/Documentation para más información.\n",
    "\n",
    "Vamos a importar una serie de subpaquetes de Bio, así comprobaremos si la instalación se ha hecho correctamente."
   ]
  },
  {
   "cell_type": "code",
   "execution_count": 1,
   "metadata": {},
   "outputs": [],
   "source": [
    "from Bio import Entrez, Seq, SeqIO"
   ]
  },
  {
   "cell_type": "markdown",
   "metadata": {},
   "source": [
    "## Interacción con Bases de Datos\n",
    "\n",
    "Una de las facilidades que aporta este paquete es que podemos interaccionar con bases de datos como el NCBI. Por ejemplo, podemos acceder a una secuencia subida al NCBI desde aquí. Para ello usaremos la librería *Entrez*.\n",
    "\n"
   ]
  },
  {
   "cell_type": "markdown",
   "metadata": {},
   "source": [
    "Para usar cualquier función de una librería siempre se sigue la siguiente estructura: librería.función(argumentos). Entrez es la librería a la que queremos acceder, lo que viene después del punto es la funcion.\n",
    "\n",
    "Con la librería *Entrez* se crean objetos de clase handle. Son objetos que no se pueden imprimir por pantalla como texto, pues son literalmente \"wrappers\", es decir, agrupan mucha información de distinta índole. Se selecciona qué hacer con los handlers de Entrez dependiendo de la información que quieras extraer de ellos.\n",
    "Para extraer la información que tengan en texto plano se usa .read"
   ]
  },
  {
   "cell_type": "code",
   "execution_count": 2,
   "metadata": {},
   "outputs": [
    {
     "name": "stdout",
     "output_type": "stream",
     "text": [
      "{'DbList': ['pubmed', 'protein', 'nuccore', 'ipg', 'nucleotide', 'structure', 'genome', 'annotinfo', 'assembly', 'bioproject', 'biosample', 'blastdbinfo', 'books', 'cdd', 'clinvar', 'gap', 'gapplus', 'grasp', 'dbvar', 'gene', 'gds', 'geoprofiles', 'homologene', 'medgen', 'mesh', 'nlmcatalog', 'omim', 'orgtrack', 'pmc', 'popset', 'proteinclusters', 'pcassay', 'protfam', 'pccompound', 'pcsubstance', 'seqannot', 'snp', 'sra', 'taxonomy', 'biocollections', 'gtr']}\n"
     ]
    }
   ],
   "source": [
    "##Hay que identificarse antes de entrar en el paquete, para que haya un registro de control de quién entra al paquete.\n",
    "Entrez.email = \"vicrevlop@us.es\"\n",
    "\n",
    "##Uso paquete entrez -> Entrez.función(argumento).\n",
    "\n",
    "# Estas lineas nos dan un listado de bases de datos disponibles\n",
    "handle = Entrez.einfo() \n",
    "rec = Entrez.read(handle)\n",
    "print(rec)\n"
   ]
  },
  {
   "cell_type": "markdown",
   "metadata": {},
   "source": [
    "Vamos a buscar una secuencia por Accesion number y obtenerla en formato FASTA.\n",
    "*.efetch* es la funcion de Entrez para buscar."
   ]
  },
  {
   "cell_type": "code",
   "execution_count": 3,
   "metadata": {},
   "outputs": [
    {
     "name": "stdout",
     "output_type": "stream",
     "text": [
      "ID: NM_002299.4\n",
      "Name: NM_002299.4\n",
      "Description: NM_002299.4 Homo sapiens lactase (LCT), mRNA\n",
      "Number of features: 0\n",
      "Seq('AACAGTTCCTAGAAAATGGAGCTGTCTTGGCATGTAGTCTTTATTGCCCTGCTA...GTC')\n"
     ]
    }
   ],
   "source": [
    "hdl = Entrez.efetch(db='nucleotide', id=['NM_002299'], rettype='fasta')  # Lactase gene\n",
    "##Esto te guarda un handle que contiene el archivo fasta entre otras muchas cosas, no directamente un fasta.\n",
    "\n",
    "#De nuevo la información está en forma de handle.\n",
    "#Se traduce a fasta usando la librería SeqIO, su función .parse\n",
    "recs = list(SeqIO.parse(hdl, 'fasta'))\n",
    "\n",
    "# Recordemos que un FASTA puede tener diversas secuencias (separado en crosomas, CDSs, etc.)\n",
    "#Aunque en este caso solo hay una\n",
    "for rec in recs:\n",
    "    print(rec)"
   ]
  },
  {
   "cell_type": "code",
   "execution_count": 11,
   "metadata": {},
   "outputs": [
    {
     "data": {
      "text/plain": [
       "1"
      ]
     },
     "execution_count": 11,
     "metadata": {},
     "output_type": "execute_result"
    }
   ],
   "source": [
    "#Vamos a salvar el FASTA en un fichero\n",
    "SeqIO.write(recs, \"lactase.fasta\", \"fasta\")"
   ]
  },
  {
   "cell_type": "code",
   "execution_count": 12,
   "metadata": {},
   "outputs": [],
   "source": [
    "#Igualmente, podemos leer un fichero\n",
    "lactase = list(SeqIO.parse(\"lactase.fasta\", \"fasta\"))"
   ]
  },
  {
   "cell_type": "code",
   "execution_count": 13,
   "metadata": {},
   "outputs": [
    {
     "name": "stdout",
     "output_type": "stream",
     "text": [
      "[SeqRecord(seq=Seq('AACAGTTCCTAGAAAATGGAGCTGTCTTGGCATGTAGTCTTTATTGCCCTGCTA...GTC'), id='NM_002299.4', name='NM_002299.4', description='NM_002299.4 Homo sapiens lactase (LCT), mRNA', dbxrefs=[])]\n",
      "[SeqRecord(seq=Seq('AACAGTTCCTAGAAAATGGAGCTGTCTTGGCATGTAGTCTTTATTGCCCTGCTA...GTC'), id='NM_002299.4', name='NM_002299.4', description='NM_002299.4 Homo sapiens lactase (LCT), mRNA', dbxrefs=[])]\n"
     ]
    }
   ],
   "source": [
    "# La variable lactase contiene el FASTA leido, la variable recs contiene el FASTA descargado (son iguales)\n",
    "print(lactase)\n",
    "print(recs)"
   ]
  },
  {
   "cell_type": "code",
   "execution_count": 14,
   "metadata": {},
   "outputs": [
    {
     "name": "stdout",
     "output_type": "stream",
     "text": [
      "AACAGTTCCTAGAAAATGGAGCTGTCTTGGCATGTAGTCTTTATTGCCCTGCTAAGTTTTTCATGCTGGGGGTCAGACTGGGAGTCTGATAGAAATTTCATTTCCACCGCTGGTCCTCTAACCAATGACTTGCTGCACAACCTGAGTGGTCTCCTGGGAGACCAGAGTTCTAACTTTGTAGCAGGGGACAAAGACATGTATGTTTGTCACCAGCCACTGCCCACTTTCCTGCCAGAATACTTCAGCAGTCTCCATGCCAGTCAGATCACCCATTATAAGGTATTTCTGTCATGGGCACAGCTCCTCCCAGCAGGAAGCACCCAGAATCCAGACGAGAAAACAGTGCAGTGCTACCGGCGACTCCTCAAGGCCCTCAAGACTGCACGGCTTCAGCCCATGGTCATCCTGCACCACCAGACCCTCCCTGCCAGCACCCTCCGGAGAACCGAAGCCTTTGCTGACCTCTTCGCCGACTATGCCACATTCGCCTTCCACTCCTTCGGGGACCTAGTTGGGATCTGGTTCACCTTCAGTGACTTGGAGGAAGTGATCAAGGAGCTTCCCCACCAGGAATCAAGAGCGTCACAACTCCAGACCCTCAGTGATGCCCACAGAAAAGCCTATGAGATTTACCACGAAAGCTATGCTTTTCAGGGCGGAAAACTCTCTGTTGTCCTGCGAGCTGAAGATATCCCGGAGCTCCTGCTAGAACCACCCATATCTGCGCTTGCCCAGGACACGGTCGATTTCCTCTCTCTTGATTTGTCTTATGAATGCCAAAATGAGGCAAGTCTGCGGCAGAAGCTGAGTAAATTGCAGACCATTGAGCCAAAAGTGAAAGTTTTCATCTTCAACCTAAAACTCCCAGACTGCCCCTCCACCATGAAGAACCCAGCCAGTCTGCTCTTCAGCCTTTTTGAAGCCATAAATAAAGACCAAGTGCTCACCATTGGGTTTGATATTAATGAGTTTCTGAGTTGTTCATCAAGTTCCAAGAAAAGCATGTCTTGTTCTCTGACTGGCAGCCTGGCCCTTCAGCCTGACCAGCAGCAGGACCACGAGACCACGGACTCCTCTCCTGCCTCTGCCTATCAGAGAATCTGGGAAGCATTTGCCAATCAGTCCAGGGCGGAAAGGGATGCCTTCCTGCAGGATACTTTCCCTGAAGGCTTCCTCTGGGGTGCCTCCACAGGAGCCTTTAACGTGGAAGGAGGCTGGGCCGAGGGTGGGAGAGGGGTGAGCATCTGGGATCCACGCAGGCCCCTGAACACCACTGAGGGCCAAGCGACGCTGGAGGTGGCCAGCGACAGTTACCACAAGGTAGCCTCTGACGTCGCCCTGCTTTGCGGCCTCCGGGCTCAGGTGTACAAGTTCTCCATCTCCTGGTCCCGGATCTTCCCCATGGGGCACGGGAGCAGCCCCAGCCTCCCAGGCGTTGCCTACTACAACAAGCTGATTGACAGGCTACAGGATGCGGGCATCGAGCCCATGGCCACGCTGTTCCACTGGGACCTGCCTCAGGCCCTGCAGGATCATGGTGGATGGCAGAATGAGAGCGTGGTGGATGCCTTCCTGGACTATGCGGCCTTCTGCTTCTCCACATTTGGGGACCGTGTGAAGCTGTGGGTGACCTTCCATGAGCCGTGGGTGATGAGCTACGCAGGCTATGGCACCGGCCAGCACCCTCCCGGCATCTCTGACCCAGGAGTGGCCTCTTTTAAGGTGGCTCACTTGGTCCTCAAGGCTCATGCCAGAACTTGGCACCACTACAACAGCCATCATCGCCCACAGCAGCAGGGGCACGTGGGCATTGTGCTGAACTCAGACTGGGCAGAACCCCTGTCTCCAGAGAGGCCTGAGGACCTGAGAGCCTCTGAGCGCTTCTTGCACTTCATGCTGGGCTGGTTTGCACACCCCGTCTTTGTGGATGGAGACTACCCAGCCACCCTGAGGACCCAGATCCAACAGATGAACAGACAGTGCTCCCATCCTGTGGCTCAACTCCCCGAGTTCACAGAGGCAGAGAAGCAGCTCCTGAAAGGCTCTGCTGATTTTCTGGGTCTGTCGCATTACACCTCCCGCCTCATCAGCAACGCCCCACAAAACACCTGCATCCCTAGCTATGATACCATTGGAGGCTTCTCCCAACACGTGAACCATGTGTGGCCCCAGACCTCATCCTCTTGGATTCGTGTGGTGCCCTGGGGGATAAGGAGGCTGTTGCAGTTTGTATCCCTGGAATACACAAGAGGAAAAGTTCCAATATACCTTGCCGGGAATGGCATGCCCATAGGGGAAAGTGAAAATCTCTTTGATGATTCCTTAAGAGTAGACTACTTCAATCAATATATCAATGAGGTGCTCAAGGCTATCAAGGAAGACTCTGTGGATGTTCGTTCCTACATTGCTCGTTCCCTCATTGATGGCTTCGAAGGCCCTTCTGGTTACAGCCAGCGGTTTGGCCTGCACCACGTCAACTTCAGCGACAGCAGCAAGTCAAGGACTCCCAGGAAATCTGCCTACTTTTTCACTAGCATCATAGAAAAGAACGGTTTCCTCACCAAGGGGGCAAAAAGACTGCTACCACCTAATACAGTAAACCTCCCCTCCAAAGTCAGAGCCTTCACTTTTCCATCTGAGGTGCCCTCCAAGGCTAAAGTCGTTTGGGAAAAGTTCTCCAGCCAACCCAAGTTCGAAAGAGATTTGTTCTACCACGGGACGTTTCGGGATGACTTTCTGTGGGGCGTGTCCTCTTCCGCTTATCAGATTGAAGGCGCGTGGGATGCCGATGGCAAAGGCCCCAGCATCTGGGATAACTTTACCCACACACCAGGGAGCAATGTGAAAGACAATGCCACTGGAGACATCGCCTGTGACAGCTATCACCAGCTGGATGCCGATCTGAATATGCTCCGAGCTTTGAAGGTGAAGGCCTACCGCTTCTCTATCTCCTGGTCTCGGATTTTCCCAACTGGGAGAAACAGCTCTATCAACAGTCATGGGGTTGATTATTACAACAGGCTGATCAATGGCTTGGTGGCAAGCAACATCTTTCCCATGGTGACATTGTTCCATTGGGACCTGCCCCAGGCCCTCCAGGATATCGGAGGCTGGGAGAATCCTGCCTTGATTGACTTGTTTGACAGCTACGCAGACTTTTGTTTCCAGACCTTTGGTGATAGAGTCAAGTTTTGGATGACTTTTAATGAGCCCATGTACCTGGCATGGCTAGGTTATGGCTCAGGGGAATTTCCCCCAGGGGTGAAGGACCCAGGCTGGGCACCATATAGGATAGCCCACGCCGTCATCAAAGCCCATGCCAGAGTCTATCACACGTACGATGAGAAATACAGGCAGGAGCAGAAGGGGGTCATCTCGCTGAGCCTCAGTACACACTGGGCAGAGCCCAAGTCACCAGGGGTCCCCAGAGATGTGGAAGCCGCTGACCGAATGCTGCAGTTCTCCCTGGGCTGGTTTGCTCACCCCATTTTTAGAAACGGAGACTATCCTGACACCATGAAGTGGAAAGTGGGGAACAGGAGTGAACTGCAGCACTTAGCCACCTCCCGCCTGCCAAGCTTCACTGAGGAAGAGAAGAGGTTCATCAGGGCGACGGCCGACGTCTTCTGCCTCAACACGTACTACTCCAGAATCGTGCAGCACAAAACACCCAGGCTAAACCCACCCTCCTACGAAGACGACCAGGAGATGGCTGAGGAGGAGGACCCTTCGTGGCCTTCCACGGCAATGAACAGAGCTGCGCCCTGGGGGACGCGAAGGCTGCTGAACTGGATCAAGGAAGAGTATGGTGACATCCCCATTTACATCACCGAAAACGGAGTGGGGCTGACCAATCCGAACACGGAGGATACTGATAGGATATTTTACCACAAAACCTACATCAATGAGGCTTTGAAAGCCTACAGGCTCGATGGTATAGACCTTCGAGGGTATGTCGCCTGGTCTCTGATGGACAACTTTGAGTGGCTAAATGGCTACACGGTCAAGTTTGGACTGTACCATGTTGATTTCAACAACACGAACAGGCCTCGCACAGCAAGAGCCTCCGCCAGGTACTACACAGAGGTCATTACCAACAACGGCATGCCACTGGCCAGGGAGGATGAGTTTCTGTACGGACGGTTTCCTGAGGGCTTCATCTGGAGTGCAGCTTCTGCTGCATATCAGATTGAAGGTGCGTGGAGAGCAGATGGCAAAGGACTCAGCATTTGGGACACGTTTTCTCACACACCACTGAGGGTTGAGAACGATGCCATTGGAGACGTGGCCTGTGACAGTTATCACAAGATTGCTGAGGATCTGGTCACCCTGCAGAACCTGGGCGTGTCCCACTACCGTTTTTCCATCTCCTGGTCTCGCATCCTCCCTGATGGAACCACCAGGTACATCAATGAAGCGGGCCTGAACTACTACGTGAGGCTCATCGATACACTGCTGGCCGCCAGCATCCAGCCCCAGGTGACCATTTACCACTGGGACCTACCACAGACGCTCCAAGATGTAGGAGGCTGGGAGAATGAGACCATCGTGCAGCGGTTTAAGGAGTATGCAGATGTGCTCTTCCAGAGGCTGGGAGACAAGGTGAAGTTTTGGATCACGCTGAATGAGCCCTTTGTCATTGCTTACCAGGGCTATGGCTACGGAACAGCAGCTCCAGGAGTCTCCAATAGGCCTGGCACTGCCCCCTACATTGTTGGCCACAATCTAATAAAGGCTCATGCTGAGGCCTGGCATCTGTACAACGATGTGTACCGCGCCAGTCAAGGTGGCGTGATTTCCATCACCATCAGCAGTGACTGGGCTGAACCCAGAGATCCCTCTAACCAGGAGGATGTGGAGGCAGCCAGGAGATATGTTCAGTTCATGGGAGGCTGGTTTGCACATCCTATTTTCAAGAATGGAGATTACAATGAGGTGATGAAGACGCGGATCCGTGACAGGAGCTTGGCTGCAGGCCTCAACAAGTCTCGGCTGCCAGAATTTACAGAGAGTGAGAAGAGGAGGATCAACGGCACCTATGACTTTTTTGGGTTCAATCACTACACCACTGTCCTCGCCTACAACCTCAACTATGCCACTGCCATCTCTTCTTTTGATGCAGACAGAGGAGTTGCTTCCATCGCAGATCGCTCGTGGCCAGACTCTGGCTCCTTCTGGCTGAAGATGACGCCTTTTGGCTTCAGGAGGATCCTGAACTGGTTAAAGGAGGAATACAATGACCCTCCAATTTATGTCACAGAGAATGGAGTGTCCCAGCGGGAAGAAACAGACCTCAATGACACTGCAAGGATCTACTACCTTCGGACTTACATCAATGAGGCCCTCAAAGCTGTGCAGGACAAGGTGGACCTTCGAGGATACACAGTTTGGAGTGCGATGGACAATTTTGAGTGGGCCACAGGCTTTTCAGAGAGATTTGGTCTGCATTTTGTGAACTACAGTGACCCTTCTCTGCCAAGGATCCCCAAAGCATCAGCGAAGTTCTACGCCTCTGTGGTCCGATGCAATGGCTTCCCTGACCCCGCTACAGGGCCTCACGCTTGTCTCCACCAGCCAGATGCTGGACCCACCATCAGCCCCGTGAGACAGGAGGAGGTGCAGTTCCTGGGGCTAATGCTCGGCACCACAGAAGCACAGACAGCTTTGTACGTTCTCTTTTCTCTTGTGCTTCTTGGAGTCTGTGGCTTGGCATTTCTGTCATACAAGTACTGCAAGCGCTCTAAGCAAGGGAAAACACAACGAAGCCAACAGGAATTGAGCCCGGTGTCTTCATTCTGATGAGTTACCACCTCAAGTTCTATGAAGCAGGCCTAGTTTCTTCATCTATGTTTACCGGCCACCAAACACCTTAGGGTCTTAGACTCTGCTGATACTGGACTTCTCCATAAAGTCCTGCTGCACCGTTAGAGATGACTTTAATCTTGAATGATTTCGACTTGCTGAGTAAAATGGAAATATCTCCATCTTGCTCCAGTATCAGAGTTCATTTGGGCATTTGAGAAGCAAGTAGCTCTTGCGGAAACGTGTAGATACTGGTCTAGTGGGTCTGTGAACCACTTAATTGAACTTAACAGGGCTGTTTTAAGTTTCAGAGTTGTTAAGGGTTGTTAAGGGAGCAAAAACCGTAAAAATCCTTCCTATAAGAAGAAATCAACTCCATTGCATAGACTGCAATATCATCTCCTGCCCTTCTGCAAGCTCTCCCTAGCTTCACATCTTGTGTTTTCCAGAAAATAAAAACAGCAGACTGTC\n"
     ]
    }
   ],
   "source": [
    "#Entonces, para trabajar con la sequencia de la lactasa directamente partiríamos del objeto creado por SeqIO\n",
    "#y usaríamos sobre él el método .seq: lo transforma en objeto seq\n",
    "lactase_sequence = lactase[0].seq\n",
    "\n",
    "#ahora, lactase_sequence es un objeto especial de clase Seq\n",
    "# https://biopython.org/wiki/Seq\n",
    "print(lactase_sequence)"
   ]
  },
  {
   "cell_type": "code",
   "execution_count": 15,
   "metadata": {},
   "outputs": [
    {
     "name": "stdout",
     "output_type": "stream",
     "text": [
      "GACAGTCTGCTGTTTTTATTTTCTGGAAAACACAAGATGTGAAGCTAGGGAGAGCTTGCAGAAGGGCAGGAGATGATATTGCAGTCTATGCAATGGAGTTGATTTCTTCTTATAGGAAGGATTTTTACGGTTTTTGCTCCCTTAACAACCCTTAACAACTCTGAAACTTAAAACAGCCCTGTTAAGTTCAATTAAGTGGTTCACAGACCCACTAGACCAGTATCTACACGTTTCCGCAAGAGCTACTTGCTTCTCAAATGCCCAAATGAACTCTGATACTGGAGCAAGATGGAGATATTTCCATTTTACTCAGCAAGTCGAAATCATTCAAGATTAAAGTCATCTCTAACGGTGCAGCAGGACTTTATGGAGAAGTCCAGTATCAGCAGAGTCTAAGACCCTAAGGTGTTTGGTGGCCGGTAAACATAGATGAAGAAACTAGGCCTGCTTCATAGAACTTGAGGTGGTAACTCATCAGAATGAAGACACCGGGCTCAATTCCTGTTGGCTTCGTTGTGTTTTCCCTTGCTTAGAGCGCTTGCAGTACTTGTATGACAGAAATGCCAAGCCACAGACTCCAAGAAGCACAAGAGAAAAGAGAACGTACAAAGCTGTCTGTGCTTCTGTGGTGCCGAGCATTAGCCCCAGGAACTGCACCTCCTCCTGTCTCACGGGGCTGATGGTGGGTCCAGCATCTGGCTGGTGGAGACAAGCGTGAGGCCCTGTAGCGGGGTCAGGGAAGCCATTGCATCGGACCACAGAGGCGTAGAACTTCGCTGATGCTTTGGGGATCCTTGGCAGAGAAGGGTCACTGTAGTTCACAAAATGCAGACCAAATCTCTCTGAAAAGCCTGTGGCCCACTCAAAATTGTCCATCGCACTCCAAACTGTGTATCCTCGAAGGTCCACCTTGTCCTGCACAGCTTTGAGGGCCTCATTGATGTAAGTCCGAAGGTAGTAGATCCTTGCAGTGTCATTGAGGTCTGTTTCTTCCCGCTGGGACACTCCATTCTCTGTGACATAAATTGGAGGGTCATTGTATTCCTCCTTTAACCAGTTCAGGATCCTCCTGAAGCCAAAAGGCGTCATCTTCAGCCAGAAGGAGCCAGAGTCTGGCCACGAGCGATCTGCGATGGAAGCAACTCCTCTGTCTGCATCAAAAGAAGAGATGGCAGTGGCATAGTTGAGGTTGTAGGCGAGGACAGTGGTGTAGTGATTGAACCCAAAAAAGTCATAGGTGCCGTTGATCCTCCTCTTCTCACTCTCTGTAAATTCTGGCAGCCGAGACTTGTTGAGGCCTGCAGCCAAGCTCCTGTCACGGATCCGCGTCTTCATCACCTCATTGTAATCTCCATTCTTGAAAATAGGATGTGCAAACCAGCCTCCCATGAACTGAACATATCTCCTGGCTGCCTCCACATCCTCCTGGTTAGAGGGATCTCTGGGTTCAGCCCAGTCACTGCTGATGGTGATGGAAATCACGCCACCTTGACTGGCGCGGTACACATCGTTGTACAGATGCCAGGCCTCAGCATGAGCCTTTATTAGATTGTGGCCAACAATGTAGGGGGCAGTGCCAGGCCTATTGGAGACTCCTGGAGCTGCTGTTCCGTAGCCATAGCCCTGGTAAGCAATGACAAAGGGCTCATTCAGCGTGATCCAAAACTTCACCTTGTCTCCCAGCCTCTGGAAGAGCACATCTGCATACTCCTTAAACCGCTGCACGATGGTCTCATTCTCCCAGCCTCCTACATCTTGGAGCGTCTGTGGTAGGTCCCAGTGGTAAATGGTCACCTGGGGCTGGATGCTGGCGGCCAGCAGTGTATCGATGAGCCTCACGTAGTAGTTCAGGCCCGCTTCATTGATGTACCTGGTGGTTCCATCAGGGAGGATGCGAGACCAGGAGATGGAAAAACGGTAGTGGGACACGCCCAGGTTCTGCAGGGTGACCAGATCCTCAGCAATCTTGTGATAACTGTCACAGGCCACGTCTCCAATGGCATCGTTCTCAACCCTCAGTGGTGTGTGAGAAAACGTGTCCCAAATGCTGAGTCCTTTGCCATCTGCTCTCCACGCACCTTCAATCTGATATGCAGCAGAAGCTGCACTCCAGATGAAGCCCTCAGGAAACCGTCCGTACAGAAACTCATCCTCCCTGGCCAGTGGCATGCCGTTGTTGGTAATGACCTCTGTGTAGTACCTGGCGGAGGCTCTTGCTGTGCGAGGCCTGTTCGTGTTGTTGAAATCAACATGGTACAGTCCAAACTTGACCGTGTAGCCATTTAGCCACTCAAAGTTGTCCATCAGAGACCAGGCGACATACCCTCGAAGGTCTATACCATCGAGCCTGTAGGCTTTCAAAGCCTCATTGATGTAGGTTTTGTGGTAAAATATCCTATCAGTATCCTCCGTGTTCGGATTGGTCAGCCCCACTCCGTTTTCGGTGATGTAAATGGGGATGTCACCATACTCTTCCTTGATCCAGTTCAGCAGCCTTCGCGTCCCCCAGGGCGCAGCTCTGTTCATTGCCGTGGAAGGCCACGAAGGGTCCTCCTCCTCAGCCATCTCCTGGTCGTCTTCGTAGGAGGGTGGGTTTAGCCTGGGTGTTTTGTGCTGCACGATTCTGGAGTAGTACGTGTTGAGGCAGAAGACGTCGGCCGTCGCCCTGATGAACCTCTTCTCTTCCTCAGTGAAGCTTGGCAGGCGGGAGGTGGCTAAGTGCTGCAGTTCACTCCTGTTCCCCACTTTCCACTTCATGGTGTCAGGATAGTCTCCGTTTCTAAAAATGGGGTGAGCAAACCAGCCCAGGGAGAACTGCAGCATTCGGTCAGCGGCTTCCACATCTCTGGGGACCCCTGGTGACTTGGGCTCTGCCCAGTGTGTACTGAGGCTCAGCGAGATGACCCCCTTCTGCTCCTGCCTGTATTTCTCATCGTACGTGTGATAGACTCTGGCATGGGCTTTGATGACGGCGTGGGCTATCCTATATGGTGCCCAGCCTGGGTCCTTCACCCCTGGGGGAAATTCCCCTGAGCCATAACCTAGCCATGCCAGGTACATGGGCTCATTAAAAGTCATCCAAAACTTGACTCTATCACCAAAGGTCTGGAAACAAAAGTCTGCGTAGCTGTCAAACAAGTCAATCAAGGCAGGATTCTCCCAGCCTCCGATATCCTGGAGGGCCTGGGGCAGGTCCCAATGGAACAATGTCACCATGGGAAAGATGTTGCTTGCCACCAAGCCATTGATCAGCCTGTTGTAATAATCAACCCCATGACTGTTGATAGAGCTGTTTCTCCCAGTTGGGAAAATCCGAGACCAGGAGATAGAGAAGCGGTAGGCCTTCACCTTCAAAGCTCGGAGCATATTCAGATCGGCATCCAGCTGGTGATAGCTGTCACAGGCGATGTCTCCAGTGGCATTGTCTTTCACATTGCTCCCTGGTGTGTGGGTAAAGTTATCCCAGATGCTGGGGCCTTTGCCATCGGCATCCCACGCGCCTTCAATCTGATAAGCGGAAGAGGACACGCCCCACAGAAAGTCATCCCGAAACGTCCCGTGGTAGAACAAATCTCTTTCGAACTTGGGTTGGCTGGAGAACTTTTCCCAAACGACTTTAGCCTTGGAGGGCACCTCAGATGGAAAAGTGAAGGCTCTGACTTTGGAGGGGAGGTTTACTGTATTAGGTGGTAGCAGTCTTTTTGCCCCCTTGGTGAGGAAACCGTTCTTTTCTATGATGCTAGTGAAAAAGTAGGCAGATTTCCTGGGAGTCCTTGACTTGCTGCTGTCGCTGAAGTTGACGTGGTGCAGGCCAAACCGCTGGCTGTAACCAGAAGGGCCTTCGAAGCCATCAATGAGGGAACGAGCAATGTAGGAACGAACATCCACAGAGTCTTCCTTGATAGCCTTGAGCACCTCATTGATATATTGATTGAAGTAGTCTACTCTTAAGGAATCATCAAAGAGATTTTCACTTTCCCCTATGGGCATGCCATTCCCGGCAAGGTATATTGGAACTTTTCCTCTTGTGTATTCCAGGGATACAAACTGCAACAGCCTCCTTATCCCCCAGGGCACCACACGAATCCAAGAGGATGAGGTCTGGGGCCACACATGGTTCACGTGTTGGGAGAAGCCTCCAATGGTATCATAGCTAGGGATGCAGGTGTTTTGTGGGGCGTTGCTGATGAGGCGGGAGGTGTAATGCGACAGACCCAGAAAATCAGCAGAGCCTTTCAGGAGCTGCTTCTCTGCCTCTGTGAACTCGGGGAGTTGAGCCACAGGATGGGAGCACTGTCTGTTCATCTGTTGGATCTGGGTCCTCAGGGTGGCTGGGTAGTCTCCATCCACAAAGACGGGGTGTGCAAACCAGCCCAGCATGAAGTGCAAGAAGCGCTCAGAGGCTCTCAGGTCCTCAGGCCTCTCTGGAGACAGGGGTTCTGCCCAGTCTGAGTTCAGCACAATGCCCACGTGCCCCTGCTGCTGTGGGCGATGATGGCTGTTGTAGTGGTGCCAAGTTCTGGCATGAGCCTTGAGGACCAAGTGAGCCACCTTAAAAGAGGCCACTCCTGGGTCAGAGATGCCGGGAGGGTGCTGGCCGGTGCCATAGCCTGCGTAGCTCATCACCCACGGCTCATGGAAGGTCACCCACAGCTTCACACGGTCCCCAAATGTGGAGAAGCAGAAGGCCGCATAGTCCAGGAAGGCATCCACCACGCTCTCATTCTGCCATCCACCATGATCCTGCAGGGCCTGAGGCAGGTCCCAGTGGAACAGCGTGGCCATGGGCTCGATGCCCGCATCCTGTAGCCTGTCAATCAGCTTGTTGTAGTAGGCAACGCCTGGGAGGCTGGGGCTGCTCCCGTGCCCCATGGGGAAGATCCGGGACCAGGAGATGGAGAACTTGTACACCTGAGCCCGGAGGCCGCAAAGCAGGGCGACGTCAGAGGCTACCTTGTGGTAACTGTCGCTGGCCACCTCCAGCGTCGCTTGGCCCTCAGTGGTGTTCAGGGGCCTGCGTGGATCCCAGATGCTCACCCCTCTCCCACCCTCGGCCCAGCCTCCTTCCACGTTAAAGGCTCCTGTGGAGGCACCCCAGAGGAAGCCTTCAGGGAAAGTATCCTGCAGGAAGGCATCCCTTTCCGCCCTGGACTGATTGGCAAATGCTTCCCAGATTCTCTGATAGGCAGAGGCAGGAGAGGAGTCCGTGGTCTCGTGGTCCTGCTGCTGGTCAGGCTGAAGGGCCAGGCTGCCAGTCAGAGAACAAGACATGCTTTTCTTGGAACTTGATGAACAACTCAGAAACTCATTAATATCAAACCCAATGGTGAGCACTTGGTCTTTATTTATGGCTTCAAAAAGGCTGAAGAGCAGACTGGCTGGGTTCTTCATGGTGGAGGGGCAGTCTGGGAGTTTTAGGTTGAAGATGAAAACTTTCACTTTTGGCTCAATGGTCTGCAATTTACTCAGCTTCTGCCGCAGACTTGCCTCATTTTGGCATTCATAAGACAAATCAAGAGAGAGGAAATCGACCGTGTCCTGGGCAAGCGCAGATATGGGTGGTTCTAGCAGGAGCTCCGGGATATCTTCAGCTCGCAGGACAACAGAGAGTTTTCCGCCCTGAAAAGCATAGCTTTCGTGGTAAATCTCATAGGCTTTTCTGTGGGCATCACTGAGGGTCTGGAGTTGTGACGCTCTTGATTCCTGGTGGGGAAGCTCCTTGATCACTTCCTCCAAGTCACTGAAGGTGAACCAGATCCCAACTAGGTCCCCGAAGGAGTGGAAGGCGAATGTGGCATAGTCGGCGAAGAGGTCAGCAAAGGCTTCGGTTCTCCGGAGGGTGCTGGCAGGGAGGGTCTGGTGGTGCAGGATGACCATGGGCTGAAGCCGTGCAGTCTTGAGGGCCTTGAGGAGTCGCCGGTAGCACTGCACTGTTTTCTCGTCTGGATTCTGGGTGCTTCCTGCTGGGAGGAGCTGTGCCCATGACAGAAATACCTTATAATGGGTGATCTGACTGGCATGGAGACTGCTGAAGTATTCTGGCAGGAAAGTGGGCAGTGGCTGGTGACAAACATACATGTCTTTGTCCCCTGCTACAAAGTTAGAACTCTGGTCTCCCAGGAGACCACTCAGGTTGTGCAGCAAGTCATTGGTTAGAGGACCAGCGGTGGAAATGAAATTTCTATCAGACTCCCAGTCTGACCCCCAGCATGAAAAACTTAGCAGGGCAATAAAGACTACATGCCAAGACAGCTCCATTTTCTAGGAACTGTT\n"
     ]
    }
   ],
   "source": [
    "# La clase Seq tiene diversos metodos, por ejemplo:\n",
    "# Para obtener la hebra inversa complementaria se puede usar el metodo reverse_complement()\n",
    "print(lactase_sequence.reverse_complement())"
   ]
  },
  {
   "cell_type": "code",
   "execution_count": 16,
   "metadata": {},
   "outputs": [
    {
     "name": "stdout",
     "output_type": "stream",
     "text": [
      "6273\n"
     ]
    }
   ],
   "source": [
    "#Se parecen a las string, se calcula su longitud con len y se accede a subsecuencias con []\n",
    "# Longitud de la secuencia\n",
    "print(len(lactase_sequence))"
   ]
  },
  {
   "cell_type": "code",
   "execution_count": 17,
   "metadata": {},
   "outputs": [
    {
     "data": {
      "text/plain": [
       "Seq('AAC')"
      ]
     },
     "execution_count": 17,
     "metadata": {},
     "output_type": "execute_result"
    }
   ],
   "source": [
    "# Subsecuencia\n",
    "lactase_sequence[0:3]"
   ]
  },
  {
   "cell_type": "code",
   "execution_count": 4,
   "metadata": {},
   "outputs": [
    {
     "ename": "NameError",
     "evalue": "name 'lactase_sequence' is not defined",
     "output_type": "error",
     "traceback": [
      "\u001b[1;31m---------------------------------------------------------------------------\u001b[0m",
      "\u001b[1;31mNameError\u001b[0m                                 Traceback (most recent call last)",
      "Cell \u001b[1;32mIn[4], line 3\u001b[0m\n\u001b[0;32m      1\u001b[0m \u001b[38;5;66;03m#Contenido en GC\u001b[39;00m\n\u001b[0;32m      2\u001b[0m \u001b[38;5;28;01mfrom\u001b[39;00m \u001b[38;5;21;01mBio\u001b[39;00m\u001b[38;5;21;01m.\u001b[39;00m\u001b[38;5;21;01mSeqUtils\u001b[39;00m \u001b[38;5;28;01mimport\u001b[39;00m GC\n\u001b[1;32m----> 3\u001b[0m GC(\u001b[43mlactase_sequence\u001b[49m)\n",
      "\u001b[1;31mNameError\u001b[0m: name 'lactase_sequence' is not defined"
     ]
    }
   ],
   "source": [
    "#Contenido en GC\n",
    "from Bio.SeqUtils import GC\n",
    "GC(lactase_sequence)"
   ]
  },
  {
   "cell_type": "markdown",
   "metadata": {},
   "source": [
    "## Ejercicio 1:\n",
    "\n",
    "* Descargar de la NCBI mediante Biopython el genoma del lamda fago (NC_001416).\n",
    "* \n",
    "Salva el genoma en un fichero FASTA\n"
   ]
  },
  {
   "cell_type": "code",
   "execution_count": 5,
   "metadata": {},
   "outputs": [],
   "source": [
    "fago_lambda = Entrez.efetch(db='nucleotide', id=['NC_001416'], rettype='fasta')"
   ]
  },
  {
   "cell_type": "code",
   "execution_count": 6,
   "metadata": {},
   "outputs": [
    {
     "data": {
      "text/plain": [
       "1"
      ]
     },
     "execution_count": 6,
     "metadata": {},
     "output_type": "execute_result"
    }
   ],
   "source": [
    "recs = list(SeqIO.parse(fago_lambda, 'fasta'))\n",
    "SeqIO.write(recs, \"fago_lambda.fasta\", \"fasta\")"
   ]
  },
  {
   "cell_type": "markdown",
   "metadata": {},
   "source": [
    "* Crea una función llamada *get_multinomial_model* que calcule el modelo multinomial"
   ]
  },
  {
   "cell_type": "code",
   "execution_count": 10,
   "metadata": {},
   "outputs": [],
   "source": [
    "#get_multinomial_model(lactase_sequence)\n",
    "fasta_fago_lambda = list(SeqIO.parse(\"fago_lambda.fasta\", \"fasta\"))\n",
    "fago_sequence = fasta_fago_lambda[0].seq"
   ]
  },
  {
   "cell_type": "code",
   "execution_count": 22,
   "metadata": {},
   "outputs": [],
   "source": [
    "##Mi forma\n",
    "\n",
    "#Entrada: Un vector de caracteres que representa una secuencia de DNA\n",
    "def get_multinomial_model(sequence):\n",
    "#Paso 1: Calcular las frecuencias absolutas de a, c, g, t con table\n",
    "    frec_a = sequence.count(\"A\")\n",
    "    frec_c = sequence.count(\"C\")\n",
    "    frec_g = sequence.count(\"G\")\n",
    "    frec_t = sequence.count(\"T\")\n",
    "#Paso 2: dividir por la suma total de las frec absolutas\n",
    "#Paso 3: Nombrar cada elemento pa, pc, pg, y pt rsepectivamente\n",
    "    Pa = frec_a/(frec_a + frec_c + frec_g + frec_t)\n",
    "    Pc = frec_c/(frec_a + frec_c + frec_g + frec_t)\n",
    "    Pg = frec_g/(frec_a + frec_c + frec_g + frec_t)\n",
    "    Pt = frec_t/(frec_a + frec_c + frec_g + frec_t)\n",
    "#Paso 4: Devolver el modelo multinomial\n",
    "    multinomial_model = [Pa,Pc,Pg,Pt]\n",
    "    print(multinomial_model)\n",
    "#Salida: Un vector formado por cuatro elementos que representan pa, pc, pg, y pt."
   ]
  },
  {
   "cell_type": "code",
   "execution_count": 23,
   "metadata": {},
   "outputs": [
    {
     "name": "stdout",
     "output_type": "stream",
     "text": [
      "[0.2542987918023999, 0.23425838109768668, 0.2643189971547565, 0.24712382994515691]\n"
     ]
    }
   ],
   "source": [
    "get_multinomial_model(fago_sequence)"
   ]
  },
  {
   "cell_type": "code",
   "execution_count": 24,
   "metadata": {},
   "outputs": [],
   "source": [
    "##Forma de Gloria (menos codigo)\n",
    "def get_multinomial_model2(sequence):\n",
    "    pa = sequence.count(\"A\")/len(sequence)\n",
    "    pc = sequence.count(\"C\")/len(sequence)\n",
    "    pg = sequence.count(\"G\")/len(sequence)\n",
    "    pt = sequence.count(\"T\")/len(sequence)\n",
    "    multinomial_model = [pa,pc,pg,pt]\n",
    "    print(multinomial_model)"
   ]
  },
  {
   "cell_type": "code",
   "execution_count": 25,
   "metadata": {},
   "outputs": [
    {
     "name": "stdout",
     "output_type": "stream",
     "text": [
      "[0.2542987918023999, 0.23425838109768668, 0.2643189971547565, 0.24712382994515691]\n"
     ]
    }
   ],
   "source": [
    "get_multinomial_model2(fago_sequence)"
   ]
  },
  {
   "cell_type": "markdown",
   "metadata": {},
   "source": [
    "* ¿Cual es la longitud de la secuencia?"
   ]
  },
  {
   "cell_type": "code",
   "execution_count": 26,
   "metadata": {},
   "outputs": [
    {
     "data": {
      "text/plain": [
       "48502"
      ]
     },
     "execution_count": 26,
     "metadata": {},
     "output_type": "execute_result"
    }
   ],
   "source": [
    "len(fago_sequence)"
   ]
  },
  {
   "cell_type": "markdown",
   "metadata": {},
   "source": [
    "* ¿Cual es su modelo multinomial?"
   ]
  },
  {
   "cell_type": "code",
   "execution_count": 28,
   "metadata": {},
   "outputs": [
    {
     "name": "stdout",
     "output_type": "stream",
     "text": [
      "[0.2542987918023999, 0.23425838109768668, 0.2643189971547565, 0.24712382994515691]\n"
     ]
    }
   ],
   "source": [
    "get_multinomial_model(fago_sequence)"
   ]
  },
  {
   "cell_type": "markdown",
   "metadata": {},
   "source": [
    "* ¿Cual es su contenido en GC?"
   ]
  },
  {
   "cell_type": "code",
   "execution_count": 29,
   "metadata": {},
   "outputs": [
    {
     "data": {
      "text/plain": [
       "49.85773782524432"
      ]
     },
     "execution_count": 29,
     "metadata": {},
     "output_type": "execute_result"
    }
   ],
   "source": [
    "GC(fago_sequence)"
   ]
  },
  {
   "cell_type": "markdown",
   "metadata": {},
   "source": [
    "## Ejercicio 2:\n",
    "\n",
    "* Implementa una función para calcular el contenido local en GC de una secuencia (revisar apuntes de IAB)\n",
    "* Aplica la función al genoma del lambda fago con una longitud de ventana de 10000 y un desplazamiento de 1000"
   ]
  },
  {
   "cell_type": "code",
   "execution_count": 26,
   "metadata": {},
   "outputs": [],
   "source": [
    "# este es el pseudocodigo para R, tenemos que adaptarlo\n",
    "#Entrada: Un vector que representa una secuencia de DNA (dna.sequence), la longitud de la\n",
    "# ventana(window.length) y el desplazamiento (offset)\n",
    "#Paso 1: Inicialización de variables antes del bucle:\n",
    "# lowest ← 1\n",
    "# highest ← window.length\n",
    "# local.GC ← numeric(0)\n",
    "# positions ← numeric(0)\n",
    "# i ← 1\n",
    "#Paso 2: Mientras highest <= length(dna.sequence)\n",
    "# Guardar valor local: local.GC[i] ← GC(dna.sequence[lowest:highest])\n",
    "# Guardar posición actual: positions[i] ← lowest\n",
    "# Actualizar ventana: lowest ← lowest + offset\n",
    "# highest ← highest + offset\n",
    "# i ← i + 1\n",
    "#Paso 3: Devolver result una lista con local.GC y positions.\n",
    "\n",
    "#Devolviendo una lista\n",
    "\n",
    "#Devolviendo un diccionario\n"
   ]
  },
  {
   "cell_type": "code",
   "execution_count": 30,
   "metadata": {},
   "outputs": [],
   "source": [
    "def get_local_GC(sequence,window_length,offset):\n",
    "    lowest = 1\n",
    "    highest = window_length\n",
    "    local_GC = []\n",
    "    positions = []\n",
    "    i = 1\n",
    "    while highest <= len(sequence):\n",
    "        local_GC[i] = GC(sequence[lowest:highest])\n",
    "        positions[i] = lowest\n",
    "        lowest = lowest + offset\n",
    "        highest = highest + offset\n",
    "        i = i + 1\n",
    "    result = list(local_GC, positions)\n",
    "    print(result)\n",
    "    "
   ]
  },
  {
   "cell_type": "code",
   "execution_count": 31,
   "metadata": {},
   "outputs": [
    {
     "ename": "IndexError",
     "evalue": "list assignment index out of range",
     "output_type": "error",
     "traceback": [
      "\u001b[1;31m---------------------------------------------------------------------------\u001b[0m",
      "\u001b[1;31mIndexError\u001b[0m                                Traceback (most recent call last)",
      "Cell \u001b[1;32mIn[31], line 1\u001b[0m\n\u001b[1;32m----> 1\u001b[0m \u001b[43mget_local_GC\u001b[49m\u001b[43m(\u001b[49m\u001b[43mfago_sequence\u001b[49m\u001b[43m,\u001b[49m\u001b[38;5;241;43m10000\u001b[39;49m\u001b[43m,\u001b[49m\u001b[38;5;241;43m1000\u001b[39;49m\u001b[43m)\u001b[49m\n",
      "Cell \u001b[1;32mIn[30], line 8\u001b[0m, in \u001b[0;36mget_local_GC\u001b[1;34m(sequence, window_length, offset)\u001b[0m\n\u001b[0;32m      6\u001b[0m i \u001b[38;5;241m=\u001b[39m \u001b[38;5;241m1\u001b[39m\n\u001b[0;32m      7\u001b[0m \u001b[38;5;28;01mwhile\u001b[39;00m highest \u001b[38;5;241m<\u001b[39m\u001b[38;5;241m=\u001b[39m \u001b[38;5;28mlen\u001b[39m(sequence):\n\u001b[1;32m----> 8\u001b[0m     \u001b[43mlocal_GC\u001b[49m\u001b[43m[\u001b[49m\u001b[43mi\u001b[49m\u001b[43m]\u001b[49m \u001b[38;5;241m=\u001b[39m GC(sequence[lowest:highest])\n\u001b[0;32m      9\u001b[0m     positions[i] \u001b[38;5;241m=\u001b[39m lowest\n\u001b[0;32m     10\u001b[0m     lowest \u001b[38;5;241m=\u001b[39m lowest \u001b[38;5;241m+\u001b[39m offset\n",
      "\u001b[1;31mIndexError\u001b[0m: list assignment index out of range"
     ]
    }
   ],
   "source": [
    "get_local_GC(fago_sequence,10000,1000)"
   ]
  },
  {
   "cell_type": "code",
   "execution_count": 28,
   "metadata": {},
   "outputs": [
    {
     "data": {
      "text/plain": [
       "{0: 56.46,\n",
       " 1000: 57.1,\n",
       " 2000: 57.49,\n",
       " 3000: 57.88,\n",
       " 4000: 57.78,\n",
       " 5000: 57.59,\n",
       " 6000: 57.27,\n",
       " 7000: 57.61,\n",
       " 8000: 57.72,\n",
       " 9000: 57.53,\n",
       " 10000: 57.31,\n",
       " 11000: 57.4,\n",
       " 12000: 56.73,\n",
       " 13000: 55.07,\n",
       " 14000: 52.41,\n",
       " 15000: 50.62,\n",
       " 16000: 48.64,\n",
       " 17000: 46.31,\n",
       " 18000: 44.39,\n",
       " 19000: 43.51,\n",
       " 20000: 42.35,\n",
       " 21000: 41.2,\n",
       " 22000: 41.07,\n",
       " 23000: 41.95,\n",
       " 24000: 43.16,\n",
       " 25000: 43.13,\n",
       " 26000: 44.05,\n",
       " 27000: 44.64,\n",
       " 28000: 45.04,\n",
       " 29000: 45.08,\n",
       " 30000: 45.96,\n",
       " 31000: 46.22,\n",
       " 32000: 45.95,\n",
       " 33000: 45.79,\n",
       " 34000: 46.12,\n",
       " 35000: 47.07,\n",
       " 36000: 47.44,\n",
       " 37000: 47.94,\n",
       " 38000: 47.32}"
      ]
     },
     "execution_count": 28,
     "metadata": {},
     "output_type": "execute_result"
    }
   ],
   "source": [
    "get_local_GC_bis(lambda_phage_seq,10000,1000)"
   ]
  },
  {
   "cell_type": "markdown",
   "metadata": {},
   "source": [
    "## Ejercicio 5:\n",
    "\n",
    "* Implementa una función para calcular el modelo markoviano de una secuencia (revisar apuntes de IAB)\n",
    "* Aplica la función al genoma del lambda fago"
   ]
  },
  {
   "cell_type": "code",
   "execution_count": null,
   "metadata": {},
   "outputs": [],
   "source": []
  },
  {
   "cell_type": "code",
   "execution_count": null,
   "metadata": {},
   "outputs": [],
   "source": []
  },
  {
   "cell_type": "code",
   "execution_count": 65,
   "metadata": {},
   "outputs": [
    {
     "data": {
      "text/plain": [
       "({'A': 0.2542987918023999,\n",
       "  'C': 0.23425838109768668,\n",
       "  'G': 0.2643189971547565,\n",
       "  'T': 0.24712382994515691},\n",
       " {'GG': 1.1488439306358382,\n",
       "  'GC': 1.3059971098265897,\n",
       "  'CG': 1.2275236593059937,\n",
       "  'GA': 1.176300578034682,\n",
       "  'AC': 0.77105184297273,\n",
       "  'CC': 0.9846214511041009,\n",
       "  'CT': 1.0,\n",
       "  'TC': 0.8002989536621824,\n",
       "  'GT': 1.0,\n",
       "  'TT': 1.0,\n",
       "  'TA': 0.648729446935725,\n",
       "  'AT': 1.0,\n",
       "  'TG': 1.1342301943198805,\n",
       "  'AA': 1.1063829787234043,\n",
       "  'AG': 0.818699430626311,\n",
       "  'CA': 1.2681388012618298})"
      ]
     },
     "execution_count": 65,
     "metadata": {},
     "output_type": "execute_result"
    }
   ],
   "source": [
    "get_markovian_model(lambda_phage_seq)"
   ]
  }
 ],
 "metadata": {
  "kernelspec": {
   "display_name": "Python 3 (ipykernel)",
   "language": "python",
   "name": "python3"
  },
  "language_info": {
   "codemirror_mode": {
    "name": "ipython",
    "version": 3
   },
   "file_extension": ".py",
   "mimetype": "text/x-python",
   "name": "python",
   "nbconvert_exporter": "python",
   "pygments_lexer": "ipython3",
   "version": "3.12.0"
  }
 },
 "nbformat": 4,
 "nbformat_minor": 4
}
